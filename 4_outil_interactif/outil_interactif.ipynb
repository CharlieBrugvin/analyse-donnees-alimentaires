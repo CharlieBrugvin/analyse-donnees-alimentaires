{
 "cells": [
  {
   "cell_type": "code",
   "execution_count": 1,
   "metadata": {},
   "outputs": [],
   "source": [
    "import pandas as pd\n",
    "import numpy as np\n",
    "from sqlalchemy import create_engine\n",
    "from IPython.display import display, Markdown"
   ]
  },
  {
   "cell_type": "markdown",
   "metadata": {},
   "source": [
    "Pour un groupe de pays et de produits donnés, <br>\n",
    "Ce notebook calcul automatiquement différentes statistiques.\n",
    "\n",
    "<a href=\"#parametres\" class=\"btn btn-success\" >\n",
    "**PARAMETRES A ENTRER**\n",
    "</a>\n",
    "<br> <br>\n",
    "<a href=\"#resultat\" class=\"btn btn-success\" >\n",
    "**AFFICHAGE DES RESULTATS**\n",
    "</a>"
   ]
  },
  {
   "cell_type": "markdown",
   "metadata": {},
   "source": [
    "connexion avec la base de donnée"
   ]
  },
  {
   "cell_type": "code",
   "execution_count": 2,
   "metadata": {},
   "outputs": [],
   "source": [
    "bdd_path = '../3_base_de_donnee/'\n",
    "bdd_engine = create_engine(f'sqlite:///{bdd_path}donnees_alimentaires.sqlite3')"
   ]
  },
  {
   "cell_type": "markdown",
   "metadata": {},
   "source": [
    "## fonctions utilisées"
   ]
  },
  {
   "cell_type": "code",
   "execution_count": 3,
   "metadata": {},
   "outputs": [],
   "source": [
    "# Cette fonction transfrome un array de strings\n",
    "# en une chaine que l'on peut concatener dans une requête SQL\n",
    "# au sein d'un IN, ALL\n",
    "def sql(array):\n",
    "    return ','.join([f\"\\\"{item}\\\"\" for item in array])"
   ]
  },
  {
   "cell_type": "markdown",
   "metadata": {},
   "source": [
    "## set de pays, produits"
   ]
  },
  {
   "cell_type": "code",
   "execution_count": 4,
   "metadata": {},
   "outputs": [],
   "source": [
    "# produit ordonnée par kcal/kg\n",
    "liste = pd.read_sql_query(con=bdd_engine, sql=f\"\"\"\n",
    "SELECT produit, nature,  AVG(dispo_alim_kcal / dispo_alim_kg) AS kcal_kg\n",
    "FROM(\n",
    "\tSELECT d.nature, d.annee, d.pays, d.produit, d.dispo_alim_tonnes * 1000 AS dispo_alim_kg, \n",
    "\t\t   dispo_alim_kcal_p_j * 365 * p.population AS dispo_alim_kcal\n",
    "\tFROM dispo_alim AS d\n",
    "\t\tJOIN population AS p\n",
    "\t\t\tON d.code_pays = p.code_pays AND d.annee = p.annee\n",
    "\tORDER BY d.pays, d.produit\n",
    ")\n",
    "GROUP BY produit\n",
    "HAVING kcal_kg IS NOT NULL\n",
    "ORDER BY kcal_kg\n",
    "\"\"\")"
   ]
  },
  {
   "cell_type": "code",
   "execution_count": 5,
   "metadata": {},
   "outputs": [],
   "source": [
    "# produits ordonnés par disponibilité alimentaire mondiale en kcal\n",
    "liste = pd.read_sql_query(con=bdd_engine, sql=f\"\"\"\n",
    "SELECT  produit,\n",
    "\t\tnature,\n",
    "\t\tSUM(dispo_alim_kcal_p_j * 365 * p.population) AS dispo_alim_kcal\n",
    "FROM dispo_alim AS d\n",
    "\tJOIN population AS p\n",
    "\t\tON d.code_pays = p.code_pays AND d.annee = p.annee\n",
    "WHERE d.annee = 2013 AND nature='animal'\n",
    "GROUP BY produit\n",
    "ORDER BY dispo_alim_kcal ASC\n",
    "\"\"\")\n",
    "# for i in liste.produit:\n",
    "#     print(f\"\\\"{i}\\\"\", end=', ')"
   ]
  },
  {
   "cell_type": "code",
   "execution_count": 6,
   "metadata": {},
   "outputs": [],
   "source": [
    "# quelles sont les produits les plus utilisé pour nourrir les animaux dans le monde ?\n",
    "liste = pd.read_sql_query(con=bdd_engine, sql=f\"\"\"\n",
    "SELECT produit, alim_ani FROM\n",
    "\t(SELECT produit, sum(alim_ani) as alim_ani\n",
    "\tfrom equilibre_prod\n",
    "\twhere alim_ani IS NOT NULL\n",
    "\tGROUP BY produit\n",
    "\tORDER BY alim_ani DESC\n",
    ")\n",
    "\"\"\")\n",
    "# for i in liste.produit:\n",
    "#     print(f\"\\\"{i}\\\"\", end=', ') \n",
    "liste['prop'] = liste.alim_ani / liste.alim_ani.sum() * 100"
   ]
  },
  {
   "cell_type": "code",
   "execution_count": 7,
   "metadata": {},
   "outputs": [],
   "source": [
    "# ce sont les produits les plus exporté par les 30 pays les plus sous-alimenté\n",
    "# liste = pd.read_sql_query(con=bdd_engine, sql=f\"\"\"\n",
    "# SELECT produit, SUM(exportation) as export \n",
    "# FROM stock \n",
    "# WHERE \n",
    "#             pays IN({sql(PAYS_SS_ALIM_ASC[-30:])})\n",
    "#         AND annee={ANNEE}\n",
    "# GROUP BY produit\n",
    "# ORDER BY export DESC\n",
    "# \"\"\")\n",
    "# for i in liste.produit:\n",
    "#     print(f\"\\\"{i}\\\"\", end=', ') "
   ]
  },
  {
   "cell_type": "markdown",
   "metadata": {},
   "source": [
    "#### produits"
   ]
  },
  {
   "cell_type": "code",
   "execution_count": 8,
   "metadata": {},
   "outputs": [],
   "source": [
    "# tous les produits dans un ordre aléatoire\n",
    "PRODUITS_TOUS = [\"Blé\", \"Orge\", \"Maïs\", \"Seigle\", \"Avoine\", \"Millet\", \"Sorgho\", \"Céréales, Autres\", \"Pommes de Terre\", \"Manioc\", \"Racines, Nda\", \"Sucre, betterave\", \"Sucre Eq Brut\", \"Edulcorants Autres\", \"Haricots\", \"Pois\", \"Légumineuses Autres\", \"Noix\", \"Soja\", \"Arachides Decortiquees\", \"Graines de tournesol\", \"Graines Colza/Moutarde\", \"Coco (Incl Coprah)\", \"Sésame\", \"Olives\", \"Plantes Oleiferes, Autre\", \"Huile de Soja\", \"Huile d'Arachide\", \"Huile de Tournesol\", \"Huile de Colza&Moutarde\", \"Huile Graines de Coton\", \"Huile de Palmistes\", \"Huile de Palme\", \"Huile de Coco\", \"Huile de Sésame\", \"Huile d'Olive\", \"Huile de Germe de Maïs\", \"Huil Plantes Oleif Autr\", \"Tomates\", \"Oignons\", \"Légumes, Autres\", \"Oranges, Mandarines\", \"Citrons & Limes\", \"Pamplemousse\", \"Agrumes, Autres\", \"Bananes\", \"Bananes plantains\", \"Pommes\", \"Ananas\", \"Dattes\", \"Raisin\", \"Fruits, Autres\", \"Café\", \"Feve de Cacao\", \"Thé\", \"Poivre\", \"Piments\", \"Girofles\", \"Épices, Autres\", \"Vin\", \"Bière\", \"Boissons Fermentés\", \"Boissons Alcooliques\", \"Alcool, non Comestible\", \"Aliments pour enfants\", \"Viande de Bovins\", \"Viande d'Ovins/Caprins\", \"Viande de Suides\", \"Viande de Volailles\", \"Viande, Autre\", \"Abats Comestible\", \"Graisses Animales Crue\", \"Beurre, Ghee\", \"Crème\", \"Oeufs\", \"Miel\", \"Poissons Eau Douce\", \"Perciform\", \"Poissons Pelagiques\", \"Poissons Marins, Autres\", \"Crustacés\", \"Cephalopodes\", \"Mollusques, Autres\", \"Animaux Aquatiques Autre\", \"Plantes Aquatiques\", \"Huiles de Poissons\", \"Huiles de Foie de Poisso\", \"Riz (Eq Blanchi)\", \"Lait - Excl Beurre\", \"Miscellanees\", \"Sucre, canne\", \"Graines de coton\", \"Patates douces\", \"Palmistes\", \"Ignames\", \"Sucre non centrifugé\", \"Huile de Son de Riz\", \"Viande de Anim Aquatiq\", ]\n",
    "\n",
    "# les produits ordonnées du moins calorique au plus calorique (kcal / kg)\n",
    "PRODUITS_CAL_KG_ASC = [\"Animaux Aquatiques Autre\", \"Mollusques, Autres\", \"Agrumes, Autres\", \"Pamplemousse\", \"Citrons & Limes\", \"Thé\", \"Tomates\", \"Sucre, canne\", \"Oranges, Mandarines\", \"Boissons Fermentés\", \"Légumes, Autres\", \"Crustacés\", \"Pommes\", \"Ananas\", \"Sucre, betterave\", \"Café\", \"Cephalopodes\", \"Oignons\", \"Plantes Aquatiques\", \"Fruits, Autres\", \"Bière\", \"Girofles\", \"Perciform\", \"Raisin\", \"Vin\", \"Bananes\", \"Lait - Excl Beurre\", \"Poissons Eau Douce\", \"Poissons Marins, Autres\", \"Pommes de Terre\", \"Bananes plantains\", \"Racines, Nda\", \"Olives\", \"Ignames\", \"Patates douces\", \"Manioc\", \"Poissons Pelagiques\", \"Viande, Autre\", \"Abats Comestible\", \"Coco (Incl Coprah)\", \"Dattes\", \"Crème\", \"Viande de Volailles\", \"Oeufs\", \"Viande de Bovins\", \"Soja\", \"Poivre\", \"Avoine\", \"Viande d'Ovins/Caprins\", \"Orge\", \"Graines de tournesol\", \"Seigle\", \"Céréales, Autres\", \"Viande de Suides\", \"Miel\", \"Edulcorants Autres\", \"Noix\", \"Piments\", \"Huiles de Foie de Poisso\", \"Boissons Alcooliques\", \"Plantes Oleiferes, Autre\", \"Blé\", \"Maïs\", \"Sorgho\", \"Millet\", \"Pois\", \"Aliments pour enfants\", \"Légumineuses Autres\", \"Épices, Autres\", \"Sucre non centrifugé\", \"Haricots\", \"Graines Colza/Moutarde\", \"Sucre Eq Brut\", \"Riz (Eq Blanchi)\", \"Feve de Cacao\", \"Sésame\", \"Arachides Decortiquees\", \"Palmistes\", \"Beurre, Ghee\", \"Huiles de Poissons\", \"Graisses Animales Crue\", \"Huile d'Olive\", \"Huile de Sésame\", \"Huile de Coco\", \"Huile de Palmistes\", \"Huile d'Arachide\", \"Huile Graines de Coton\", \"Huile de Germe de Maïs\", \"Huil Plantes Oleif Autr\", \"Huile de Tournesol\", \"Huile de Colza&Moutarde\", \"Huile de Palme\", \"Huile de Soja\", \"Huile de Son de Riz\"]\n",
    "PRODUITS_ANIMAL_CAL_KG_ASC = [\"Animaux Aquatiques Autre\", \"Mollusques, Autres\", \"Crustacés\", \"Cephalopodes\", \"Plantes Aquatiques\", \"Perciform\", \"Lait - Excl Beurre\", \"Poissons Eau Douce\", \"Poissons Marins, Autres\", \"Poissons Pelagiques\", \"Viande, Autre\", \"Abats Comestible\", \"Crème\", \"Viande de Volailles\", \"Oeufs\", \"Viande de Bovins\", \"Viande d'Ovins/Caprins\", \"Viande de Suides\", \"Huiles de Foie de Poisso\", \"Beurre, Ghee\", \"Huiles de Poissons\", \"Graisses Animales Crue\"]\n",
    "PRODUIT_VEGETAL_CAL_KG_ASC = [\"Agrumes, Autres\", \"Pamplemousse\", \"Citrons & Limes\", \"Thé\", \"Tomates\", \"Sucre, canne\", \"Oranges, Mandarines\", \"Boissons Fermentés\", \"Légumes, Autres\", \"Pommes\", \"Ananas\", \"Sucre, betterave\", \"Café\", \"Oignons\", \"Fruits, Autres\", \"Bière\", \"Girofles\", \"Raisin\", \"Vin\", \"Bananes\", \"Pommes de Terre\", \"Bananes plantains\", \"Racines, Nda\", \"Olives\", \"Ignames\", \"Patates douces\", \"Manioc\", \"Coco (Incl Coprah)\", \"Dattes\", \"Soja\", \"Poivre\", \"Avoine\", \"Orge\", \"Graines de tournesol\", \"Seigle\", \"Céréales, Autres\", \"Miel\", \"Edulcorants Autres\", \"Noix\", \"Piments\", \"Boissons Alcooliques\", \"Plantes Oleiferes, Autre\", \"Blé\", \"Maïs\", \"Sorgho\", \"Millet\", \"Pois\", \"Aliments pour enfants\", \"Légumineuses Autres\", \"Épices, Autres\", \"Sucre non centrifugé\", \"Haricots\", \"Graines Colza/Moutarde\", \"Sucre Eq Brut\", \"Riz (Eq Blanchi)\", \"Feve de Cacao\", \"Sésame\", \"Arachides Decortiquees\", \"Palmistes\", \"Huile d'Olive\", \"Huile de Sésame\", \"Huile de Coco\", \"Huile de Palmistes\", \"Huile d'Arachide\", \"Huile Graines de Coton\", \"Huile de Germe de Maïs\", \"Huil Plantes Oleif Autr\", \"Huile de Tournesol\", \"Huile de Colza&Moutarde\", \"Huile de Palme\", \"Huile de Soja\", \"Huile de Son de Riz\"]\n",
    "\n",
    "# les produits ordonnés par disponibilité calorique mondiale (de la + petite a la + grande)\n",
    "PRODUIT_DISP_CAL_MONDE = [\"Graines de coton\", \"Viande de Anim Aquatiq\", \"Sucre, betterave\", \"Palmistes\", \"Girofles\", \"Huiles de Foie de Poisso\", \"Animaux Aquatiques Autre\", \"Huiles de Poissons\", \"Poivre\", \"Graines de tournesol\", \"Pamplemousse\", \"Thé\", \"Cephalopodes\", \"Agrumes, Autres\", \"Miscellanees\", \"Citrons & Limes\", \"Aliments pour enfants\", \"Mollusques, Autres\", \"Plantes Oleiferes, Autre\", \"Olives\", \"Café\", \"Graines Colza/Moutarde\", \"Plantes Aquatiques\", \"Miel\", \"Crustacés\", \"Crème\", \"Poissons Marins, Autres\", \"Huile de Sésame\", \"Ananas\", \"Huile de Son de Riz\", \"Avoine\", \"Viande, Autre\", \"Sésame\", \"Piments\", \"Sucre, canne\", \"Dattes\", \"Feve de Cacao\", \"Boissons Fermentés\", \"Perciform\", \"Huil Plantes Oleif Autr\", \"Racines, Nda\", \"Seigle\", \"Vin\", \"Céréales, Autres\", \"Épices, Autres\", \"Huile de Palmistes\", \"Abats Comestible\", \"Raisin\", \"Huile de Coco\", \"Orge\", \"Huile de Germe de Maïs\", \"Pois\", \"Bananes plantains\", \"Poissons Pelagiques\", \"Sucre non centrifugé\", \"Oranges, Mandarines\", \"Huile d'Olive\", \"Tomates\", \"Viande d'Ovins/Caprins\", \"Oignons\", \"Pommes\", \"Coco (Incl Coprah)\", \"Ignames\", \"Poissons Eau Douce\", \"Huile d'Arachide\", \"Huile Graines de Coton\", \"Soja\", \"Noix\", \"Bananes\", \"Patates douces\", \"Haricots\", \"Edulcorants Autres\", \"Boissons Alcooliques\", \"Arachides Decortiquees\", \"Millet\", \"Sorgho\", \"Graisses Animales Crue\", \"Beurre, Ghee\", \"Fruits, Autres\", \"Bière\", \"Huile de Colza&Moutarde\", \"Huile de Tournesol\", \"Oeufs\", \"Légumineuses Autres\", \"Manioc\", \"Viande de Bovins\", \"Huile de Palme\", \"Viande de Volailles\", \"Pommes de Terre\", \"Légumes, Autres\", \"Huile de Soja\", \"Viande de Suides\", \"Lait - Excl Beurre\", \"Maïs\", \"Sucre Eq Brut\", \"Blé\", \"Riz (Eq Blanchi)\"]\n",
    "PRODUIT_VEGETAL_DISP_CAL_MONDE = [\"Graines de coton\", \"Sucre, betterave\", \"Palmistes\", \"Girofles\", \"Poivre\", \"Graines de tournesol\", \"Pamplemousse\", \"Thé\", \"Agrumes, Autres\", \"Miscellanees\", \"Citrons & Limes\", \"Aliments pour enfants\", \"Plantes Oleiferes, Autre\", \"Olives\", \"Café\", \"Graines Colza/Moutarde\", \"Miel\", \"Huile de Sésame\", \"Ananas\", \"Huile de Son de Riz\", \"Avoine\", \"Sésame\", \"Piments\", \"Sucre, canne\", \"Dattes\", \"Feve de Cacao\", \"Boissons Fermentés\", \"Huil Plantes Oleif Autr\", \"Racines, Nda\", \"Seigle\", \"Vin\", \"Céréales, Autres\", \"Épices, Autres\", \"Huile de Palmistes\", \"Raisin\", \"Huile de Coco\", \"Orge\", \"Huile de Germe de Maïs\", \"Pois\", \"Bananes plantains\", \"Sucre non centrifugé\", \"Oranges, Mandarines\", \"Huile d'Olive\", \"Tomates\", \"Oignons\", \"Pommes\", \"Coco (Incl Coprah)\", \"Ignames\", \"Huile d'Arachide\", \"Huile Graines de Coton\", \"Soja\", \"Noix\", \"Bananes\", \"Patates douces\", \"Haricots\", \"Edulcorants Autres\", \"Boissons Alcooliques\", \"Arachides Decortiquees\", \"Millet\", \"Sorgho\", \"Fruits, Autres\", \"Bière\", \"Huile de Colza&Moutarde\", \"Huile de Tournesol\", \"Légumineuses Autres\", \"Manioc\", \"Huile de Palme\", \"Pommes de Terre\", \"Légumes, Autres\", \"Huile de Soja\", \"Maïs\", \"Sucre Eq Brut\", \"Blé\", \"Riz (Eq Blanchi)\"]\n",
    "PRODUIT_ANIMAL_DISP_CAL_MONDE = [\"Viande de Anim Aquatiq\", \"Huiles de Foie de Poisso\", \"Animaux Aquatiques Autre\", \"Huiles de Poissons\", \"Cephalopodes\", \"Mollusques, Autres\", \"Plantes Aquatiques\", \"Crustacés\", \"Crème\", \"Poissons Marins, Autres\", \"Viande, Autre\", \"Perciform\", \"Abats Comestible\", \"Poissons Pelagiques\", \"Viande d'Ovins/Caprins\", \"Poissons Eau Douce\", \"Graisses Animales Crue\", \"Beurre, Ghee\", \"Oeufs\", \"Viande de Bovins\", \"Viande de Volailles\", \"Viande de Suides\", \"Lait - Excl Beurre\"]\n",
    "\n",
    "# pour nourrir les animaux dans le monde, on utilise 41% de maïs et 10% de blé\n",
    "PRODUITS_ALIM_ANIM = ['Maïs', 'Blé']\n",
    "\n",
    "# ce sont les produits les plus exporté par les 30 pays les plus sous-alimenté\n",
    "PRODUITS_EXPORT_PAR_PAYS_SS_ALIM_DESC = [\"Poissons Pelagiques\", \"Sucre Eq Brut\", \"Perciform\", \"Blé\", \"Maïs\", \"Café\", \"Oranges, Mandarines\", \"Bière\", \"Bananes\", \"Lait - Excl Beurre\", \"Légumes, Autres\", \"Noix\", \"Fruits, Autres\", \"Riz (Eq Blanchi)\", \"Oignons\", \"Pois\", \"Dattes\", \"Sésame\", \"Thé\", \"Poissons Eau Douce\", \"Graines de coton\", \"Huile de Palme\", \"Coco (Incl Coprah)\", \"Haricots\", \"Légumineuses Autres\", \"Feve de Cacao\", \"Manioc\", \"Mollusques, Autres\", \"Huiles de Poissons\", \"Sorgho\", \"Crustacés\", \"Arachides Decortiquees\", \"Boissons Alcooliques\", \"Poissons Marins, Autres\", \"Viande de Bovins\", \"Agrumes, Autres\", \"Orge\", \"Plantes Oleiferes, Autre\", \"Céréales, Autres\", \"Huile de Tournesol\", \"Pommes de Terre\", \"Graines de tournesol\", \"Plantes Aquatiques\", \"Alcool, non Comestible\", \"Boissons Fermentés\", \"Pommes\", \"Huile de Coco\", \"Raisin\", \"Viande d'Ovins/Caprins\", \"Girofles\", \"Cephalopodes\", \"Huil Plantes Oleif Autr\", \"Huile de Sésame\", \"Pamplemousse\", \"Vin\", \"Citrons & Limes\", \"Huile d'Olive\", \"Soja\", \"Abats Comestible\", \"Edulcorants Autres\", \"Graisses Animales Crue\", \"Huile Graines de Coton\", \"Tomates\", \"Huile de Soja\", \"Racines, Nda\", \"Viande, Autre\", \"Épices, Autres\", \"Beurre, Ghee\", \"Ananas\", \"Huiles de Foie de Poisso\", \"Oeufs\", \"Animaux Aquatiques Autre\", \"Huile de Palmistes\", \"Millet\", \"Patates douces\", \"Poivre\", \"Viande de Volailles\", \"Bananes plantains\", \"Miel\", \"Viande de Suides\", \"Aliments pour enfants\", \"Avoine\", \"Crème\", \"Graines Colza/Moutarde\", \"Huile d'Arachide\", \"Huile de Colza&Moutarde\", \"Huile de Germe de Maïs\", \"Ignames\", \"Olives\", \"Palmistes\", \"Piments\", \"Seigle\", \"Sucre non centrifugé\", \"Sucre, betterave\", \"Sucre, canne\", \"Huile de Son de Riz\"]\n",
    "\n",
    "TOP_20_IMPORT_HUILE_PALME = [\"Inde\", \"Chine, continentale\", \"Pays-Bas\", \"Allemagne\", \"Pakistan\", \"Italie\", \"États-Unis d'Amérique\", \"Bangladesh\", \"Espagne\", \"Malaisie\", \"Iran (République islamique d')\", \"Nigéria\", \"Fédération de Russie\", \"Belgique\", \"Égypte\", \"Japon\", \"Viet Nam\", \"France\", \"Turquie\", \"République de Corée\"]"
   ]
  },
  {
   "cell_type": "markdown",
   "metadata": {},
   "source": [
    "#### pays"
   ]
  },
  {
   "cell_type": "code",
   "execution_count": 9,
   "metadata": {},
   "outputs": [],
   "source": [
    "# tout les pays ordonnés du plus 'sous alimenté', au moins 'sous alimenté'\n",
    "PAYS_SS_ALIM_ASC = [\"Danemark\", \"Finlande\", \"Norvège\", \"Hongrie\", \"Suède\", \"Azerbaïdjan\", \"Bélarus\", \"Irlande\", \"Nouvelle-Zélande\", \"Roumanie\", \"Croatie\", \"Autriche\", \"Pays-Bas\", \"Allemagne\", \"Ukraine\", \"Kazakhstan\", \"Italie\", \"États-Unis d'Amérique\", \"Suisse\", \"France\", \"Japon\", \"Fédération de Russie\", \"Royaume-Uni\", \"Turquie\", \"Brésil\", \"Espagne\", \"Canada\", \"Australie\", \"Israël\", \"Bosnie-Herzégovine\", \"Pologne\", \"République de Corée\", \"Cuba\", \"Grèce\", \"Belgique\", \"Chine - RAS de Hong-Kong\", \"Tchéquie (la)\", \"Portugal\", \"Uruguay\", \"Koweït\", \"Lituanie\", \"Arménie\", \"Malaisie\", \"Chili\", \"Argentine\", \"Slovaquie\", \"Bulgarie\", \"Maroc\", \"Émirats arabes unis\", \"Chine, Taiwan Province de\", \"Mexique\", \"Tunisie\", \"Algérie\", \"l'ex-République yougoslave de Macédoine\", \"Égypte\", \"Slovénie\", \"Lettonie\", \"Afrique du Sud\", \"Serbie\", \"Iran (République islamique d')\", \"Oman\", \"Arabie saoudite\", \"Turkménistan\", \"Venezuela (République bolivarienne du)\", \"Costa Rica\", \"Albanie\", \"Mali\", \"Ghana\", \"Géorgie\", \"Nigéria\", \"Cameroun\", \"Kirghizistan\", \"Trinité-et-Tobago\", \"Ouzbékistan\", \"Indonésie\", \"Mauritanie\", \"Estonie\", \"Maurice\", \"Équateur\", \"Colombie\", \"Chypre\", \"Thaïlande\", \"Pérou\", \"Népal\", \"Bénin\", \"Chine, continentale\", \"Panama\", \"Liban\", \"Niger\", \"Jamaïque\", \"Gambie\", \"El Salvador\", \"Sri Lanka\", \"Fidji\", \"Paraguay\", \"Gabon\", \"Viet Nam\", \"Myanmar\", \"Jordanie\", \"République dominicaine\", \"Guyana\", \"Sénégal\", \"Philippines\", \"Lesotho\", \"Honduras\", \"Monténégro\", \"Guinée\", \"Guatemala\", \"Bangladesh\", \"Inde\", \"Mongolie\", \"Chine - RAS de Macao\", \"République démocratique populaire lao\", \"Îles Salomon\", \"Nicaragua\", \"Cambodge\", \"Suriname\", \"Luxembourg\", \"Togo\", \"Cabo Verde\", \"Bolivie (État plurinational de)\", \"Burkina Faso\", \"Kenya\", \"Pakistan\", \"Malawi\", \"Djibouti\", \"Côte d'Ivoire\", \"Malte\", \"Guinée-Bissau\", \"Brunéi Darussalam\", \"Eswatini\", \"Soudan\", \"Botswana\", \"Timor-Leste\", \"Afghanistan\", \"Éthiopie\", \"Iraq\", \"Sierra Leone\", \"Maldives\", \"Yémen\", \"Rwanda\", \"Mozambique\", \"Belize\", \"Islande\", \"Namibie\", \"République-Unie de Tanzanie\", \"Ouganda\", \"Barbade\", \"Madagascar\", \"Polynésie française\", \"Angola\", \"Libéria\", \"Tchad\", \"Nouvelle-Calédonie\", \"Vanuatu\", \"Congo\", \"République populaire démocratique de Corée\", \"République centrafricaine\", \"Zimbabwe\", \"Zambie\", \"Haïti\", \"Sao Tomé-et-Principe\", \"Samoa\", \"Saint-Vincent-et-les Grenadines\", \"Kiribati\", \"Dominique\"]\n",
    "# les pays qui ont un nombre de personnes sous alimentés non nulle\n",
    "PAYS_SS_ALIM = [\"Afghanistan\", \"Afrique du Sud\", \"Albanie\", \"Algérie\", \"Angola\", \"Arabie saoudite\", \"Argentine\", \"Arménie\", \"Bangladesh\", \"Bénin\", \"Bolivie (État plurinational de)\", \"Botswana\", \"Bulgarie\", \"Burkina Faso\", \"Cambodge\", \"Cameroun\", \"Chili\", \"Chine, continentale\", \"Chine, Taiwan Province de\", \"Colombie\", \"Congo\", \"Costa Rica\", \"Côte d'Ivoire\", \"Djibouti\", \"Égypte\", \"El Salvador\", \"Émirats arabes unis\", \"Équateur\", \"Eswatini\", \"Éthiopie\", \"Gabon\", \"Gambie\", \"Géorgie\", \"Ghana\", \"Guatemala\", \"Guinée\", \"Guinée-Bissau\", \"Haïti\", \"Honduras\", \"Inde\", \"Indonésie\", \"Iran (République islamique d')\", \"Iraq\", \"Jamaïque\", \"Jordanie\", \"Kenya\", \"Kirghizistan\", \"Lesotho\", \"Liban\", \"Libéria\", \"Madagascar\", \"Malaisie\", \"Malawi\", \"Mali\", \"Maroc\", \"Mauritanie\", \"Mexique\", \"Mongolie\", \"Mozambique\", \"Myanmar\", \"Namibie\", \"Népal\", \"Nicaragua\", \"Niger\", \"Nigéria\", \"Oman\", \"Ouganda\", \"Ouzbékistan\", \"Pakistan\", \"Panama\", \"Paraguay\", \"Pérou\", \"Philippines\", \"République centrafricaine\", \"République démocratique populaire lao\", \"République dominicaine\", \"République populaire démocratique de Corée\", \"République-Unie de Tanzanie\", \"Rwanda\", \"Sénégal\", \"Serbie\", \"Sierra Leone\", \"Slovaquie\", \"Soudan\", \"Sri Lanka\", \"Tchad\", \"Thaïlande\", \"Timor-Leste\", \"Togo\", \"Trinité-et-Tobago\", \"Tunisie\", \"Turkménistan\", \"Venezuela (République bolivarienne du)\", \"Viet Nam\", \"Yémen\", \"Zambie\", \"Zimbabwe\"]"
   ]
  },
  {
   "cell_type": "markdown",
   "metadata": {},
   "source": [
    "<hr style=\"height:2px;margin:30px\">\n",
    "\n",
    "## Paramètres <span id=\"parametres\"> </span>"
   ]
  },
  {
   "cell_type": "code",
   "execution_count": 10,
   "metadata": {},
   "outputs": [],
   "source": [
    "ANNEE = 2013 # 2012 ou 2013\n",
    "\n",
    "PAYS = PAYS_SS_ALIM_ASC[:30]\n",
    "PRODUITS = [\"Huile de Palme\"]"
   ]
  },
  {
   "cell_type": "markdown",
   "metadata": {},
   "source": [
    "Un fois que les paramètres sont remplis, il est nécessaire de clicker sur le bouton : <br>\n",
    "## **`restart the kernel and re-run the whole notebook`**"
   ]
  },
  {
   "cell_type": "markdown",
   "metadata": {},
   "source": [
    "<hr style=\"height:2px;margin:30px\">"
   ]
  },
  {
   "cell_type": "markdown",
   "metadata": {},
   "source": [
    "## Calcul des statistiques"
   ]
  },
  {
   "cell_type": "markdown",
   "metadata": {},
   "source": [
    "### Population en sous-nutrition et disponibilité alimentaire"
   ]
  },
  {
   "cell_type": "markdown",
   "metadata": {},
   "source": [
    "#### population et sous-nutrition"
   ]
  },
  {
   "cell_type": "code",
   "execution_count": 11,
   "metadata": {},
   "outputs": [],
   "source": [
    "population = pd.read_sql_query(con=bdd_engine, sql=f\"\"\"\n",
    "SELECT sum(population)\n",
    "FROM population\n",
    "WHERE \n",
    "        pays IN({sql(PAYS)})\n",
    "    AND annee={ANNEE}\n",
    "\"\"\").iloc[0,0]\n",
    "population = 0 if population is None else population\n",
    "\n",
    "pop_sous_alim = pd.read_sql_query(con=bdd_engine, sql=f\"\"\"\n",
    "SELECT sum(nb_personnes)\n",
    "FROM sous_nutrition\n",
    "WHERE \n",
    "    pays IN({sql(PAYS)})\n",
    "    AND annee={ANNEE}\n",
    "\"\"\").iloc[0,0]\n",
    "pop_sous_alim = 0 if pop_sous_alim is None else pop_sous_alim"
   ]
  },
  {
   "cell_type": "markdown",
   "metadata": {},
   "source": [
    "#### disponibilité alimentaire (kcal, protéine et matière grasse)"
   ]
  },
  {
   "cell_type": "code",
   "execution_count": 12,
   "metadata": {
    "scrolled": false
   },
   "outputs": [],
   "source": [
    "# d'abord on group by pays, et on fait la SOMME de la dispo alimentaire des produits au sein de chaque pays\n",
    "# On fait alors la MOYENNE entre les pays\n",
    "dispo_alim_kcal_p_j = pd.read_sql_query(con=bdd_engine, sql=f\"\"\"\n",
    "SELECT AVG(dispo_alim_par_pays)\n",
    "FROM\n",
    "   (SELECT SUM(dispo_alim_kcal_p_j) AS dispo_alim_par_pays\n",
    "    FROM dispo_alim\n",
    "    WHERE \n",
    "            pays IN({sql(PAYS)})\n",
    "        AND annee={ANNEE}\n",
    "        AND produit IN ({sql(PRODUITS)})\n",
    "    GROUP BY pays\n",
    "   )\n",
    "\"\"\").iloc[0,0]\n",
    "dispo_alim_kcal_p_j = 0 if dispo_alim_kcal_p_j is None else dispo_alim_kcal_p_j"
   ]
  },
  {
   "cell_type": "code",
   "execution_count": 13,
   "metadata": {
    "scrolled": true
   },
   "outputs": [],
   "source": [
    "dispo_prot = pd.read_sql_query(con=bdd_engine, sql=f\"\"\"\n",
    "SELECT AVG(dispo_prot_par_pays)\n",
    "FROM\n",
    "   (SELECT SUM(dispo_prot) AS dispo_prot_par_pays\n",
    "    FROM dispo_alim\n",
    "    WHERE \n",
    "            pays IN({sql(PAYS)})\n",
    "        AND annee={ANNEE}\n",
    "        AND produit IN ({sql(PRODUITS)})\n",
    "    GROUP BY pays\n",
    "   )\n",
    "\"\"\").iloc[0,0]\n",
    "dispo_prot = 0 if dispo_prot is None else dispo_prot"
   ]
  },
  {
   "cell_type": "code",
   "execution_count": 14,
   "metadata": {
    "scrolled": true
   },
   "outputs": [
    {
     "data": {
      "text/markdown": [
       "\n",
       "La population du groupe de pays est de **1438.25 Millions**. <br>\n",
       "**0.00 %** de la population est sous alimentée.\n"
      ],
      "text/plain": [
       "<IPython.core.display.Markdown object>"
      ]
     },
     "metadata": {},
     "output_type": "display_data"
    }
   ],
   "source": [
    "display(Markdown(f\"\"\"\n",
    "La population du groupe de pays est de **{population/1e6:.2f} Millions**. <br>\n",
    "**{pop_sous_alim / population * 100:.2f} %** de la population est sous alimentée.\n",
    "\"\"\"))"
   ]
  },
  {
   "cell_type": "code",
   "execution_count": 15,
   "metadata": {
    "scrolled": true
   },
   "outputs": [],
   "source": [
    "dispo_mat_gr = pd.read_sql_query(con=bdd_engine, sql=f\"\"\"\n",
    "SELECT AVG(dispo_mat_gr_par_pays)\n",
    "FROM\n",
    "   (SELECT SUM(dispo_mat_gr) AS dispo_mat_gr_par_pays\n",
    "    FROM dispo_alim\n",
    "    WHERE \n",
    "            pays IN({sql(PAYS)})\n",
    "        AND annee={ANNEE}\n",
    "        AND produit IN ({sql(PRODUITS)})\n",
    "    GROUP BY pays\n",
    "   )\n",
    "\"\"\").iloc[0,0]\n",
    "dispo_mat_gr = 0 if dispo_mat_gr is None else dispo_mat_gr"
   ]
  },
  {
   "cell_type": "markdown",
   "metadata": {},
   "source": [
    "### Utilisation de la disponibilité interieure"
   ]
  },
  {
   "cell_type": "code",
   "execution_count": 16,
   "metadata": {},
   "outputs": [],
   "source": [
    "# nourriture / dispo_int\n",
    "taux_nourriture_dispo_int = pd.read_sql_query(con=bdd_engine, sql=f\"\"\"\n",
    "SELECT AVG(nourriture / dispo_int * 100)\n",
    "FROM equilibre_prod\n",
    "WHERE \n",
    "        pays IN({sql(PAYS)})\n",
    "    AND annee={ANNEE}\n",
    "    AND produit IN ({sql(PRODUITS)})\n",
    "\"\"\").iloc[0,0]\n",
    "taux_nourriture_dispo_int = 0 if taux_nourriture_dispo_int is None else taux_nourriture_dispo_int"
   ]
  },
  {
   "cell_type": "code",
   "execution_count": 17,
   "metadata": {},
   "outputs": [
    {
     "data": {
      "text/markdown": [
       "\n",
       "Pour Chaque pays, les produits sélectionnés fournissent une disponibilité alimentaire.\n",
       "\n",
       "Voici la moyenne de cette disponibilité entre les pays selectionnés :\n",
       "- **47.46 kcal** par personne par jour\n",
       "- **0.03 g de protéines** par personnes par jour\n",
       "- **5.35 g de matière** grasse par personnes par jour\n"
      ],
      "text/plain": [
       "<IPython.core.display.Markdown object>"
      ]
     },
     "metadata": {},
     "output_type": "display_data"
    }
   ],
   "source": [
    "display(Markdown(f\"\"\"\n",
    "Pour Chaque pays, les produits sélectionnés fournissent une disponibilité alimentaire.\n",
    "\n",
    "Voici la moyenne de cette disponibilité entre les pays selectionnés :\n",
    "- **{dispo_alim_kcal_p_j:.2f} kcal** par personne par jour\n",
    "- **{dispo_prot:.2f} g de protéines** par personnes par jour\n",
    "- **{dispo_mat_gr:.2f} g de matière** grasse par personnes par jour\n",
    "\"\"\"))"
   ]
  },
  {
   "cell_type": "code",
   "execution_count": 18,
   "metadata": {},
   "outputs": [],
   "source": [
    "# pertes / dispo_int\n",
    "taux_pertes_dispo_int = pd.read_sql_query(con=bdd_engine, sql=f\"\"\"\n",
    "SELECT AVG(pertes / dispo_int * 100)\n",
    "FROM equilibre_prod\n",
    "WHERE \n",
    "        pays IN({sql(PAYS)})\n",
    "    AND annee={ANNEE}\n",
    "    AND produit IN ({sql(PRODUITS)})\n",
    "\"\"\").iloc[0,0]\n",
    "taux_pertes_dispo_int = 0 if taux_pertes_dispo_int is None else taux_pertes_dispo_int"
   ]
  },
  {
   "cell_type": "code",
   "execution_count": 19,
   "metadata": {},
   "outputs": [],
   "source": [
    "# semences / dispo_int\n",
    "taux_semences_dispo_int = pd.read_sql_query(con=bdd_engine, sql=f\"\"\"\n",
    "SELECT AVG(semences / dispo_int * 100)\n",
    "FROM equilibre_prod\n",
    "WHERE \n",
    "        pays IN({sql(PAYS)})\n",
    "    AND annee={ANNEE}\n",
    "    AND produit IN ({sql(PRODUITS)})\n",
    "\"\"\").iloc[0,0]\n",
    "taux_semences_dispo_int = 0 if taux_semences_dispo_int is None else taux_semences_dispo_int"
   ]
  },
  {
   "cell_type": "code",
   "execution_count": 20,
   "metadata": {},
   "outputs": [],
   "source": [
    "# autres_utilisations / dispo_int\n",
    "taux_autres_utilisations_dispo_int = pd.read_sql_query(con=bdd_engine, sql=f\"\"\"\n",
    "SELECT AVG(autres_utilisations / dispo_int * 100)\n",
    "FROM equilibre_prod\n",
    "WHERE \n",
    "        pays IN({sql(PAYS)})\n",
    "    AND annee={ANNEE}\n",
    "    AND produit IN ({sql(PRODUITS)})\n",
    "\"\"\").iloc[0,0]\n",
    "taux_autres_utilisations_dispo_int = 0 if taux_autres_utilisations_dispo_int is None else taux_autres_utilisations_dispo_int"
   ]
  },
  {
   "cell_type": "code",
   "execution_count": 21,
   "metadata": {},
   "outputs": [],
   "source": [
    "# alim_ani / dispo_int\n",
    "taux_alim_ani_dispo_int = pd.read_sql_query(con=bdd_engine, sql=f\"\"\"\n",
    "SELECT AVG(alim_ani / dispo_int * 100)\n",
    "FROM equilibre_prod\n",
    "WHERE \n",
    "        pays IN({sql(PAYS)})\n",
    "    AND annee={ANNEE}\n",
    "    AND produit IN ({sql(PRODUITS)})\n",
    "\"\"\").iloc[0,0]\n",
    "taux_alim_ani_dispo_int = 0 if taux_alim_ani_dispo_int is None else taux_alim_ani_dispo_int"
   ]
  },
  {
   "cell_type": "code",
   "execution_count": 22,
   "metadata": {},
   "outputs": [],
   "source": [
    "# traitement / dispo_int\n",
    "taux_traitement_dispo_int = pd.read_sql_query(con=bdd_engine, sql=f\"\"\"\n",
    "SELECT AVG(traitement / dispo_int * 100)\n",
    "FROM equilibre_prod\n",
    "WHERE \n",
    "        pays IN({sql(PAYS)})\n",
    "    AND annee={ANNEE}\n",
    "    AND produit IN ({sql(PRODUITS)})\n",
    "\"\"\").iloc[0,0]\n",
    "taux_traitement_dispo_int = 0 if taux_traitement_dispo_int is None else taux_traitement_dispo_int"
   ]
  },
  {
   "cell_type": "markdown",
   "metadata": {},
   "source": [
    "<hr>"
   ]
  },
  {
   "cell_type": "markdown",
   "metadata": {},
   "source": [
    "### Importation et exportation"
   ]
  },
  {
   "cell_type": "code",
   "execution_count": 23,
   "metadata": {},
   "outputs": [],
   "source": [
    "# production / dispo_int\n",
    "taux_production_dispo_int = pd.read_sql_query(con=bdd_engine, sql=f\"\"\"\n",
    "SELECT AVG(production / dispo_int * 100)\n",
    "FROM stock\n",
    "WHERE \n",
    "        pays IN({sql(PAYS)})\n",
    "    AND annee={ANNEE}\n",
    "    AND produit IN ({sql(PRODUITS)})\n",
    "\"\"\").iloc[0,0]\n",
    "taux_production_dispo_int = 0 if taux_production_dispo_int is None else taux_production_dispo_int"
   ]
  },
  {
   "cell_type": "code",
   "execution_count": 24,
   "metadata": {},
   "outputs": [],
   "source": [
    "# importation / dispo_int\n",
    "taux_importation_dispo_int = pd.read_sql_query(con=bdd_engine, sql=f\"\"\"\n",
    "SELECT AVG(importation / dispo_int * 100)\n",
    "FROM stock\n",
    "WHERE \n",
    "        pays IN({sql(PAYS)})\n",
    "    AND annee={ANNEE}\n",
    "    AND produit IN ({sql(PRODUITS)})\n",
    "\"\"\").iloc[0,0]\n",
    "taux_importation_dispo_int = 0 if taux_importation_dispo_int is None else taux_importation_dispo_int"
   ]
  },
  {
   "cell_type": "code",
   "execution_count": 25,
   "metadata": {},
   "outputs": [],
   "source": [
    "# exportation / dispo_int\n",
    "\n",
    "taux_exportation_dispo_int = pd.read_sql_query(con=bdd_engine, sql=f\"\"\"\n",
    "SELECT AVG(exportation / dispo_int * 100)\n",
    "FROM stock\n",
    "WHERE \n",
    "        pays IN({sql(PAYS)})\n",
    "    AND annee={ANNEE}\n",
    "    AND produit IN ({sql(PRODUITS)})\n",
    "\"\"\").iloc[0,0]\n",
    "taux_exportation_dispo_int = 0 if taux_exportation_dispo_int is None else taux_exportation_dispo_int"
   ]
  },
  {
   "cell_type": "code",
   "execution_count": 26,
   "metadata": {
    "scrolled": true
   },
   "outputs": [],
   "source": [
    "#variation_stock\n",
    "taux_variation_stock_dispo_int = pd.read_sql_query(con=bdd_engine, sql=f\"\"\"\n",
    "SELECT AVG(variation_stock / dispo_int * 100)\n",
    "FROM stock\n",
    "WHERE \n",
    "        pays IN({sql(PAYS)})\n",
    "    AND annee={ANNEE}\n",
    "    AND produit IN ({sql(PRODUITS)})\n",
    "\"\"\").iloc[0,0]\n",
    "taux_variation_stock_dispo_int = 0 if taux_variation_stock_dispo_int is None else taux_variation_stock_dispo_int"
   ]
  },
  {
   "cell_type": "markdown",
   "metadata": {},
   "source": [
    "<hr style=\"height:2px;margin:30px\"> \n",
    "\n",
    "## Affichage des statisiques \n",
    "\n",
    "<a id=\"resultat\" href=\"#parametres\" class=\"btn btn-success\" > ALLER AUX PARAMETRES </a>"
   ]
  },
  {
   "cell_type": "code",
   "execution_count": 27,
   "metadata": {},
   "outputs": [
    {
     "data": {
      "text/plain": [
       "0.0206782464846981"
      ]
     },
     "execution_count": 27,
     "metadata": {},
     "output_type": "execute_result"
    }
   ],
   "source": [
    "taux_traitement_dispo_int"
   ]
  },
  {
   "cell_type": "code",
   "execution_count": 28,
   "metadata": {
    "scrolled": false
   },
   "outputs": [
    {
     "data": {
      "text/markdown": [
       "\n",
       "\n",
       "### Champ d'étude :\n",
       "\n",
       "**ANNEE**: 2013 <br>\n",
       "**PAYS**: Danemark, Finlande, Norvège, Hongrie, Suède, Azerbaïdjan, Bélarus, Irlande, Nouvelle-Zélande, Roumanie, Croatie, Autriche, Pays-Bas, Allemagne, Ukraine, Kazakhstan, Italie, États-Unis d'Amérique, Suisse, France, Japon, Fédération de Russie, Royaume-Uni, Turquie, Brésil, Espagne, Canada, Australie, Israël, Bosnie-Herzégovine <br>\n",
       "**PRODUITS**: Huile de Palme\n",
       "\n",
       "### Population en sous-nutrition et disponibilité alimentaire\n",
       "\n",
       "#### population en sous-nutrition\n",
       "\n",
       "La population du groupe de pays est de **1438.25 Millions**. <br>\n",
       "**0.00 %** de la population est sous alimentée.\n",
       "\n",
       "#### disponibilité alimentaire\n",
       "\n",
       "Pour Chaque pays, les produits sélectionnés fournissent ensemble une disponibilité alimentaire nationale.\n",
       "\n",
       "Voici la moyenne (inter-pays)  de cette disponibilité exprimé en cal, protéine et matière grasse :\n",
       "- **47.46 kcal** par personne par jour\n",
       "- **0.03 g de protéines** par personnes par jour\n",
       "- **5.35 g de matière** grasse par personnes par jour\n",
       "\n",
       "### Utilisation de la disponibilité interieure\n",
       "\n",
       "Parmis les pays/produits séléctionnés :\n",
       "Voici l'utilisation de la disponibiltié intérieur :\n",
       "- **32.02%** pour la nourriture\n",
       "- **0.20%** perdus\n",
       "- **0.00%** pour les semences\n",
       "- **80.48%** dans d'autres utilisations\n",
       "- **0.00%** pour nourrir les animaux\n",
       "- **0.02%** dans les traitements\n",
       "\n",
       "*Rappel : Disponibilité intérieure = Nourriture + Pertes + Semences + Autres utilisations + Aliments pour animaux + traitement*\n",
       "\n",
       "### Importation et exportation\n",
       "\n",
       "Parmis les pays/produits séléctionnés :\n",
       "\n",
       "La disponibilté intérieur résulte de :\n",
       "- **+90.67%** de production\n",
       "- **+128.93% ** d'importation\n",
       "- **+-5.43%** de variation de stocks (?)\n",
       "- **-28.01%** d'éxportation\n",
       "\n",
       "\n",
       "*rappel* : Disponibilité intérieure  = Production + Importation - Exportation + evolution stock\n",
       "\n",
       "-------------------------------\n",
       "\n",
       "**ATENTION** : Pour L'utilisation de la dispo int et l'import/export, il y a beaucoup de valeurs nulles. <br>\n",
       "Chaque proportion n'est donc calculée que sur les produits disponibles. <br>\n",
       "La somme ne fait donc pas forcément 100% et des valeurs peuvent être abérrantes.\n",
       "\n",
       "<a id=\"resultat\" href=\"#parametres\" class=\"btn btn-success\" > ALLER AUX PARAMETRES </a>\n",
       "\n"
      ],
      "text/plain": [
       "<IPython.core.display.Markdown object>"
      ]
     },
     "metadata": {},
     "output_type": "display_data"
    }
   ],
   "source": [
    "display(Markdown(f\"\"\"\n",
    "\n",
    "### Champ d'étude :\n",
    "\n",
    "**ANNEE**: {ANNEE} <br>\n",
    "**PAYS**: {', '.join(PAYS)} <br>\n",
    "**PRODUITS**: {', '.join(PRODUITS)}\n",
    "\n",
    "### Population en sous-nutrition et disponibilité alimentaire\n",
    "\n",
    "#### population en sous-nutrition\n",
    "\n",
    "La population du groupe de pays est de **{population/1e6:.2f} Millions**. <br>\n",
    "**{pop_sous_alim / population * 100:.2f} %** de la population est sous alimentée.\n",
    "\n",
    "#### disponibilité alimentaire\n",
    "\n",
    "Pour Chaque pays, les produits sélectionnés fournissent ensemble une disponibilité alimentaire nationale.\n",
    "\n",
    "Voici la moyenne (inter-pays)  de cette disponibilité exprimé en cal, protéine et matière grasse :\n",
    "- **{dispo_alim_kcal_p_j:.2f} kcal** par personne par jour\n",
    "- **{dispo_prot:.2f} g de protéines** par personnes par jour\n",
    "- **{dispo_mat_gr:.2f} g de matière** grasse par personnes par jour\n",
    "\n",
    "### Utilisation de la disponibilité interieure\n",
    "\n",
    "Parmis les pays/produits séléctionnés :\n",
    "Voici l'utilisation de la disponibiltié intérieur :\n",
    "- **{taux_nourriture_dispo_int:.2f}%** pour la nourriture\n",
    "- **{taux_pertes_dispo_int:.2f}%** perdus\n",
    "- **{taux_semences_dispo_int:.2f}%** pour les semences\n",
    "- **{taux_autres_utilisations_dispo_int:.2f}%** dans d'autres utilisations\n",
    "- **{taux_alim_ani_dispo_int:.2f}%** pour nourrir les animaux\n",
    "- **{taux_traitement_dispo_int:.2f}%** dans les traitements\n",
    "\n",
    "*Rappel : Disponibilité intérieure = Nourriture + Pertes + Semences + Autres utilisations + Aliments pour animaux + traitement*\n",
    "\n",
    "### Importation et exportation\n",
    "\n",
    "Parmis les pays/produits séléctionnés :\n",
    "\n",
    "La disponibilté intérieur résulte de :\n",
    "- **+{taux_production_dispo_int:.2f}%** de production\n",
    "- **+{taux_importation_dispo_int:.2f}% ** d'importation\n",
    "- **+{taux_variation_stock_dispo_int:.2f}%** de variation de stocks (?)\n",
    "- **-{taux_exportation_dispo_int:.2f}%** d'éxportation\n",
    "\n",
    "\n",
    "*rappel* : Disponibilité intérieure  = Production + Importation - Exportation + evolution stock\n",
    "\n",
    "-------------------------------\n",
    "\n",
    "**ATENTION** : Pour L'utilisation de la dispo int et l'import/export, il y a beaucoup de valeurs nulles. <br>\n",
    "Chaque proportion n'est donc calculée que sur les produits disponibles. <br>\n",
    "La somme ne fait donc pas forcément 100% et des valeurs peuvent être abérrantes.\n",
    "\n",
    "<a id=\"resultat\" href=\"#parametres\" class=\"btn btn-success\" > ALLER AUX PARAMETRES </a>\n",
    "\n",
    "\"\"\"))\n"
   ]
  },
  {
   "cell_type": "code",
   "execution_count": null,
   "metadata": {},
   "outputs": [],
   "source": []
  }
 ],
 "metadata": {
  "kernelspec": {
   "display_name": "Python 3",
   "language": "python",
   "name": "python3"
  },
  "language_info": {
   "codemirror_mode": {
    "name": "ipython",
    "version": 3
   },
   "file_extension": ".py",
   "mimetype": "text/x-python",
   "name": "python",
   "nbconvert_exporter": "python",
   "pygments_lexer": "ipython3",
   "version": "3.6.5"
  }
 },
 "nbformat": 4,
 "nbformat_minor": 2
}
