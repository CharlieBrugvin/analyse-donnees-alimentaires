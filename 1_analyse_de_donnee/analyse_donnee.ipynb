{
 "cells": [
  {
   "cell_type": "code",
   "execution_count": 1,
   "metadata": {
    "colab": {
     "base_uri": "https://localhost:8080/",
     "height": 367
    },
    "colab_type": "code",
    "executionInfo": {
     "elapsed": 659,
     "status": "error",
     "timestamp": 1537340476521,
     "user": {
      "displayName": "Charlie Brugvin",
      "photoUrl": "https://lh3.googleusercontent.com/a/default-user=s128",
      "userId": "110224722396789232961"
     },
     "user_tz": -120
    },
    "id": "4qxwK_LXn5t2",
    "outputId": "ce7a2ef1-e264-4193-8927-a6622f980016"
   },
   "outputs": [],
   "source": [
    "import numpy as np\n",
    "import pandas as pd\n",
    "import matplotlib.pyplot as plt\n",
    "import functions as fs\n",
    "import math\n",
    "from IPython.display import display, Markdown, Latex"
   ]
  },
  {
   "cell_type": "markdown",
   "metadata": {},
   "source": [
    "## Sommaire <a id=\"sommaire\">\n",
    "  - [Préparation de données](#preparation-de-donnees)\n",
    "    - [population](#population)\n",
    "    - [animaux](#animaux)\n",
    "    - [végétaux](#vegetaux)\n",
    "    - [céréales](#cereales)\n",
    "    - [nombre de personnes sous alimentés](#nb-prsn-ss-alm)\n",
    "    - [produits DataFrame](#pays-produits)\n",
    "    - [produit_element DataFrame : Pivot produit](#pays-produit-pt)\n",
    "        - [Etudes des valeurs Null, NaN](#prod-elem-nan)\n",
    "  - [Questions](#questions)\n",
    "    - [question 1](#question-1)\n",
    "    - [question 2](#question-2)\n",
    "    - [question 3](#question-3)\n",
    "    - [question 4](#question-4)\n",
    "    - [question 5](#question-5)\n",
    "    - [question 6](#question-6) \n",
    "    - [question 7](#question-7)\n",
    "    - [question 8](#question-8)\n",
    "    - [question 9](#question-9)\n",
    "    - [question 10](#question-10)\n",
    "    - [question 11](#question-11)\n",
    "    - [question 12](#question-12)\n",
    "    - [question 13](#question-13)\n",
    "    - [question 14](#question-14)"
   ]
  },
  {
   "cell_type": "markdown",
   "metadata": {
    "colab_type": "text",
    "id": "pUO3feIRn5t7"
   },
   "source": [
    "# Préparation de données  <a id=\"preparation-de-donnees\" href=\"#sommaire\" class=\"btn-sm btn-default\" >retour au sommaire</a>\n"
   ]
  },
  {
   "cell_type": "markdown",
   "metadata": {
    "colab_type": "text",
    "id": "VEGXqnWZn5t8"
   },
   "source": [
    "### Population  <a id=\"population\" href=\"#sommaire\" class=\"btn-sm btn-default\" >retour au sommaire</a>"
   ]
  },
  {
   "cell_type": "code",
   "execution_count": 140,
   "metadata": {
    "colab": {},
    "colab_type": "code",
    "id": "24UD6zz6n5t9"
   },
   "outputs": [],
   "source": [
    "pop_df = pd.read_csv('datas/population_13.csv')"
   ]
  },
  {
   "cell_type": "code",
   "execution_count": 141,
   "metadata": {},
   "outputs": [
    {
     "data": {
      "text/html": [
       "<div>\n",
       "<style scoped>\n",
       "    .dataframe tbody tr th:only-of-type {\n",
       "        vertical-align: middle;\n",
       "    }\n",
       "\n",
       "    .dataframe tbody tr th {\n",
       "        vertical-align: top;\n",
       "    }\n",
       "\n",
       "    .dataframe thead th {\n",
       "        text-align: right;\n",
       "    }\n",
       "</style>\n",
       "<table border=\"1\" class=\"dataframe\">\n",
       "  <thead>\n",
       "    <tr style=\"text-align: right;\">\n",
       "      <th></th>\n",
       "      <th>Country Code</th>\n",
       "      <th>Country</th>\n",
       "      <th>Value</th>\n",
       "    </tr>\n",
       "  </thead>\n",
       "  <tbody>\n",
       "    <tr>\n",
       "      <th>32</th>\n",
       "      <td>96</td>\n",
       "      <td>China, Hong Kong SAR</td>\n",
       "      <td>7204</td>\n",
       "    </tr>\n",
       "    <tr>\n",
       "      <th>33</th>\n",
       "      <td>128</td>\n",
       "      <td>China, Macao SAR</td>\n",
       "      <td>566</td>\n",
       "    </tr>\n",
       "    <tr>\n",
       "      <th>34</th>\n",
       "      <td>41</td>\n",
       "      <td>China, mainland</td>\n",
       "      <td>1385567</td>\n",
       "    </tr>\n",
       "    <tr>\n",
       "      <th>35</th>\n",
       "      <td>214</td>\n",
       "      <td>China, Taiwan Province of</td>\n",
       "      <td>23330</td>\n",
       "    </tr>\n",
       "    <tr>\n",
       "      <th>174</th>\n",
       "      <td>351</td>\n",
       "      <td>China</td>\n",
       "      <td>1416667</td>\n",
       "    </tr>\n",
       "  </tbody>\n",
       "</table>\n",
       "</div>"
      ],
      "text/plain": [
       "     Country Code                    Country    Value\n",
       "32             96       China, Hong Kong SAR     7204\n",
       "33            128           China, Macao SAR      566\n",
       "34             41            China, mainland  1385567\n",
       "35            214  China, Taiwan Province of    23330\n",
       "174           351                      China  1416667"
      ]
     },
     "execution_count": 141,
     "metadata": {},
     "output_type": "execute_result"
    }
   ],
   "source": [
    "pop_df[pop_df['Country'].str.contains('hin')][['Country Code', 'Country', 'Value']]"
   ]
  },
  {
   "cell_type": "markdown",
   "metadata": {},
   "source": [
    "#### Redondance de la Chine"
   ]
  },
  {
   "cell_type": "markdown",
   "metadata": {},
   "source": [
    "<div class=\"alert alert-warning\">\n",
    "**ATENTION** : Chaque provinces de chines est considéré comme un pays.\n",
    "la population de la chine est donc compté deux fois\n",
    "</div>"
   ]
  },
  {
   "cell_type": "code",
   "execution_count": 142,
   "metadata": {},
   "outputs": [],
   "source": [
    "# on supprime la Chine (mais on garde ses provinces)\n",
    "pop_df = pop_df[pop_df['Country Code'] != 351]"
   ]
  },
  {
   "cell_type": "markdown",
   "metadata": {},
   "source": [
    "#### clefs primaires"
   ]
  },
  {
   "cell_type": "code",
   "execution_count": 143,
   "metadata": {
    "colab": {},
    "colab_type": "code",
    "id": "LsuHb78an5uA",
    "outputId": "161bf6f2-e6a2-45d8-e6b6-883f474bef76"
   },
   "outputs": [
    {
     "name": "stdout",
     "output_type": "stream",
     "text": [
      "clefs primaires : \n",
      "'Country Code', 'Country', 'Value', "
     ]
    }
   ],
   "source": [
    "print('clefs primaires : ')\n",
    "for col in pop_df.columns:\n",
    "    if fs.isPrimaryKey(pop_df, [col]):\n",
    "        print(\"'{}'\".format(col), end=', ')"
   ]
  },
  {
   "cell_type": "markdown",
   "metadata": {
    "colab_type": "text",
    "id": "o3zWGb34n5uE"
   },
   "source": [
    " <div class=\"alert alert-info\">\n",
    "     **Country Code** est la meilleurs clefs primaire\n",
    " </div>\n"
   ]
  },
  {
   "cell_type": "markdown",
   "metadata": {},
   "source": [
    "#### DataFrame plus petit\n",
    "Contient le code pays et la population"
   ]
  },
  {
   "cell_type": "code",
   "execution_count": 144,
   "metadata": {
    "colab": {},
    "colab_type": "code",
    "id": "obq6qUEQn5uF",
    "outputId": "e018c8b0-3422-4f5d-b0e0-dac3ab09695e"
   },
   "outputs": [],
   "source": [
    "pop_small_df = pop_df[['Country Code', 'Value']].copy()\n",
    "pop_small_df.columns = ['Code Pays', 'pop']\n",
    "pop_small_df.loc[:, 'pop'] *= 1000"
   ]
  },
  {
   "cell_type": "markdown",
   "metadata": {
    "colab_type": "text",
    "id": "bWJlNe-Mn5uK"
   },
   "source": [
    "### Animaux  <a id=\"animaux\" href=\"#sommaire\" class=\"btn-sm btn-default\" >retour au sommaire</a>"
   ]
  },
  {
   "cell_type": "code",
   "execution_count": 145,
   "metadata": {
    "colab": {},
    "colab_type": "code",
    "id": "3fm95WK8n5uK",
    "outputId": "9c6b9ac6-78f4-4db9-eac5-4cf0df5c55bb"
   },
   "outputs": [],
   "source": [
    "# animaux\n",
    "anim_df = pd.read_csv('datas/animal_13.csv')\n",
    "anim_df['origine'] = 'animal'"
   ]
  },
  {
   "cell_type": "code",
   "execution_count": 25,
   "metadata": {},
   "outputs": [
    {
     "data": {
      "text/plain": [
       "(37166, 15)"
      ]
     },
     "execution_count": 25,
     "metadata": {},
     "output_type": "execute_result"
    }
   ],
   "source": [
    "anim_df.shape"
   ]
  },
  {
   "cell_type": "markdown",
   "metadata": {},
   "source": [
    "#### Redondance de la Chine"
   ]
  },
  {
   "cell_type": "code",
   "execution_count": 2,
   "metadata": {
    "scrolled": true
   },
   "outputs": [
    {
     "ename": "NameError",
     "evalue": "name 'anim_df' is not defined",
     "output_type": "error",
     "traceback": [
      "\u001b[0;31m---------------------------------------------------------------------------\u001b[0m",
      "\u001b[0;31mNameError\u001b[0m                                 Traceback (most recent call last)",
      "\u001b[0;32m<ipython-input-2-b5677a6b8562>\u001b[0m in \u001b[0;36m<module>\u001b[0;34m()\u001b[0m\n\u001b[1;32m      1\u001b[0m \u001b[0;31m# on supprime la Chine (mais on garde ses provences)\u001b[0m\u001b[0;34m\u001b[0m\u001b[0;34m\u001b[0m\u001b[0m\n\u001b[0;32m----> 2\u001b[0;31m \u001b[0manim_df\u001b[0m \u001b[0;34m=\u001b[0m \u001b[0manim_df\u001b[0m\u001b[0;34m[\u001b[0m\u001b[0manim_df\u001b[0m\u001b[0;34m[\u001b[0m\u001b[0;34m'Code Pays'\u001b[0m\u001b[0;34m]\u001b[0m \u001b[0;34m!=\u001b[0m \u001b[0;36m351\u001b[0m\u001b[0;34m]\u001b[0m\u001b[0;34m\u001b[0m\u001b[0m\n\u001b[0m",
      "\u001b[0;31mNameError\u001b[0m: name 'anim_df' is not defined"
     ]
    }
   ],
   "source": [
    "# on supprime la Chine (mais on garde ses provences)\n",
    "anim_df = anim_df[anim_df['Code Pays'] != 351]"
   ]
  },
  {
   "cell_type": "markdown",
   "metadata": {},
   "source": [
    "#### Remarques sur les valeurs"
   ]
  },
  {
   "cell_type": "code",
   "execution_count": 147,
   "metadata": {},
   "outputs": [
    {
     "data": {
      "text/markdown": [
       "\n",
       "<div class=\"alert alert-info\">\n",
       "- Il y a **37%** de valeurs égal a 0.\n",
       "<br>\n",
       "- Tout les éléments ont des valeurs égals a 0 ?\n",
       "**True**\n",
       "\n",
       "<br>\n",
       "- Il y a des valeurs `null` ? \n",
       "**False**\n",
       "</div>\n"
      ],
      "text/plain": [
       "<IPython.core.display.Markdown object>"
      ]
     },
     "metadata": {},
     "output_type": "display_data"
    }
   ],
   "source": [
    "display(Markdown(f\"\"\"\n",
    "<div class=\"alert alert-info\">\n",
    "- Il y a **{len(anim_df[anim_df.Valeur == 0]) / len(anim_df) * 100:.0f}%** de valeurs égal a 0.\n",
    "<br>\n",
    "- Tout les éléments ont des valeurs égals a 0 ?\n",
    "**{len(anim_df[anim_df.Valeur == 0]['Élément'].unique()) == len(anim_df['Élément'].unique())}**\n",
    "\n",
    "<br>\n",
    "- Il y a des valeurs `null` ? \n",
    "**{anim_df.isnull().sum().sum() != 0}**\n",
    "</div>\n",
    "\"\"\"))\n"
   ]
  },
  {
   "cell_type": "markdown",
   "metadata": {
    "colab_type": "text",
    "id": "f5ehz-rKn5uP"
   },
   "source": [
    "#### Clefs primaires"
   ]
  },
  {
   "cell_type": "markdown",
   "metadata": {
    "colab_type": "text",
    "id": "f5ehz-rKn5uP"
   },
   "source": [
    "il y a plusieurs **pays**.\n",
    "  Pour chaques pays, il y a plusieurs **produits**.\n",
    "  Pour chaque produits, il y a plusieurs **éléments**\n",
    "  \n",
    "<div class=\"alert alert-info\">  \n",
    "**Code Pays, Code Produit, Code Élément** est donc une **clef primaire**\n",
    "</div>"
   ]
  },
  {
   "cell_type": "markdown",
   "metadata": {
    "colab_type": "text",
    "id": "fBV32pYrn5ua"
   },
   "source": [
    "### Végétaux <a id=\"vegetaux\" href=\"#sommaire\" class=\"btn-sm btn-default\" >retour au sommaire</a>"
   ]
  },
  {
   "cell_type": "code",
   "execution_count": 148,
   "metadata": {},
   "outputs": [],
   "source": [
    "vege_df = pd.read_csv('datas/vegetal_13.csv')\n",
    "vege_df['origine'] = 'vegetal'"
   ]
  },
  {
   "cell_type": "markdown",
   "metadata": {},
   "source": [
    "#### redondance de la Chine"
   ]
  },
  {
   "cell_type": "code",
   "execution_count": 149,
   "metadata": {},
   "outputs": [],
   "source": [
    "# on supprime la Chine (mais on garde ses provences)\n",
    "vege_df = vege_df[vege_df['Code Pays'] != 351]"
   ]
  },
  {
   "cell_type": "markdown",
   "metadata": {},
   "source": [
    "#### Remarque sur les valeurs"
   ]
  },
  {
   "cell_type": "markdown",
   "metadata": {},
   "source": [
    "<div class=\"alert alert-info\">\n",
    "**Comme pour les animaux** : \n",
    "<ul>\n",
    "    <li> mêmes collonne que les animaux, donc même **clefs primaires** </li>\n",
    "    <li> pas de **valeurs nulles** </li>\n",
    "    <li> **31%** de valeurs égals a **0**</li>\n",
    "</ul>\n",
    "</div>"
   ]
  },
  {
   "cell_type": "markdown",
   "metadata": {},
   "source": [
    "### Céréales <a  id=\"cereales\" href=\"#sommaire\" class=\"btn-sm btn-default\" > sommaire </a>"
   ]
  },
  {
   "cell_type": "code",
   "execution_count": 150,
   "metadata": {},
   "outputs": [],
   "source": [
    "cere_df = pd.read_csv('datas/cereal_13.csv')\n",
    "cere_df['origine'] = 'cereale'"
   ]
  },
  {
   "cell_type": "markdown",
   "metadata": {},
   "source": [
    "#### Redondance de la Chine"
   ]
  },
  {
   "cell_type": "code",
   "execution_count": 151,
   "metadata": {},
   "outputs": [],
   "source": [
    "cere_df = cere_df[cere_df['Code Pays'] != 351]"
   ]
  },
  {
   "cell_type": "markdown",
   "metadata": {},
   "source": [
    "#### Remarque sur les valeurs"
   ]
  },
  {
   "cell_type": "markdown",
   "metadata": {},
   "source": [
    "<div class=\"alert alert-info\">\n",
    "**Comme pour les animaux et végétaux** : \n",
    "<ul>\n",
    "    <li> mêmes colonnes, donc même **clefs primaires** </li>\n",
    "    <li> pas de **valeurs nulles** </li>\n",
    "</ul>\n",
    "</div>"
   ]
  },
  {
   "cell_type": "markdown",
   "metadata": {},
   "source": [
    "#### Est ce que Céréale est un sous-ensemble de Végétal ?"
   ]
  },
  {
   "cell_type": "markdown",
   "metadata": {},
   "source": [
    "[Tutoriel sur les duplicats (YouTube)](https://www.youtube.com/watch?v=ht5buXUMqkQ)"
   ]
  },
  {
   "cell_type": "code",
   "execution_count": 152,
   "metadata": {
    "scrolled": true
   },
   "outputs": [],
   "source": [
    "def isSameRow(code_pays, code_prod, code_elem):\n",
    "    \"\"\"\n",
    "    renvoie True si la ligne identifié par (code pays, code produit, code element) est presente dans le df vege et le df cere\n",
    "    \"\"\"\n",
    "    cere_row = cere_df[\n",
    "        (cere_df['Code Pays'] == code_pays) & \\\n",
    "        (cere_df['Code Produit'] == code_prod) & \\\n",
    "        (cere_df['Code Élément'] == code_elem)\\\n",
    "    ].loc[:,'Code Domaine':'Description du Symbole'].iloc[0]\n",
    "    \n",
    "    vege_row = vege_df[\n",
    "        (vege_df['Code Pays'] == code_pays) & \\\n",
    "        (vege_df['Code Produit'] == code_prod) & \\\n",
    "        (vege_df['Code Élément'] == code_elem)\\\n",
    "    ].loc[:,'Code Domaine':'Description du Symbole'].iloc[0]\n",
    "    \n",
    "    return (cere_row == vege_row).any()"
   ]
  },
  {
   "cell_type": "code",
   "execution_count": 153,
   "metadata": {},
   "outputs": [],
   "source": [
    "# %%time\n",
    "\n",
    "# print('boucle commence')\n",
    "# for row in cere_df.values:\n",
    "#     code_pays = row[2]\n",
    "#     code_prod = row[6]\n",
    "#     code_elem = row[4]\n",
    "#     if not isSameRow(code_pays, code_prod, code_elem):\n",
    "#         print('code_pays = {}, code_prod={}, code_elem={} est dans cereal mais pas dans vegetal'.format(code_pays, code_prod, code_elem))\n",
    "# print('boucle finie')"
   ]
  },
  {
   "cell_type": "markdown",
   "metadata": {},
   "source": [
    "dernier Output :\n",
    "```\n",
    "boucle commence\n",
    "boucle finie\n",
    "CPU times: user 1min 11s, sys: 12.5 ms, total: 1min 12s\n",
    "Wall time: 1min 12s\n",
    "```\n",
    "\n",
    "<div class=\"alert alert-info\">\n",
    "L'éxecution de ce code est long. \n",
    "<br> Il montre que chaques lignes du DataFrame céréales sont dans le DataFrame végétale.\n",
    "<br>\n",
    "**Céréale est un sous-ensemble de Végétale**\n",
    "</div>"
   ]
  },
  {
   "cell_type": "markdown",
   "metadata": {},
   "source": [
    "### Nombres de personnes en sous alimentations <a  id=\"nb-prsn-ss-alm\" href=\"#sommaire\" class=\"btn-sm btn-default\" >  sommaire </a>"
   ]
  },
  {
   "cell_type": "code",
   "execution_count": 154,
   "metadata": {},
   "outputs": [],
   "source": [
    "sous_alim_df = pd.read_csv('datas/nb_pers_sous_alim_13.csv')"
   ]
  },
  {
   "cell_type": "markdown",
   "metadata": {},
   "source": [
    "#### Etudes des valeurs NaN et des symboles"
   ]
  },
  {
   "cell_type": "markdown",
   "metadata": {},
   "source": [
    "<div class=\"alert alert-info\">\n",
    "    Seul la colonne **Valeur** à des valeurs **NaN**. <br>\n",
    "    La colonne **Valeur** contient **48%** de valeurs précises (symbole **F**), et **52%** de valeurs **NaN** <br><br>\n",
    "    Lorsque la valeur est **NaN** cela signifie que:\n",
    "    <ul>\n",
    "    <li> la valeur n'est pas disponible (symbole **NV**) : **18%** </li>\n",
    "    <li> la valeur est une borne maximale (symbole **inf x**): **34%** </li>\n",
    "    </ul>\n",
    "</div>"
   ]
  },
  {
   "cell_type": "markdown",
   "metadata": {},
   "source": [
    "#### Clefs primaires"
   ]
  },
  {
   "cell_type": "code",
   "execution_count": 155,
   "metadata": {},
   "outputs": [
    {
     "data": {
      "text/markdown": [
       "\n",
       "<div class=\"alert alert-info\">\n",
       "**'Code zone'** est une clefs primaire ?\n",
       "**Oui**\n",
       "</div>\n"
      ],
      "text/plain": [
       "<IPython.core.display.Markdown object>"
      ]
     },
     "metadata": {},
     "output_type": "display_data"
    }
   ],
   "source": [
    "display(Markdown(f\"\"\"\n",
    "<div class=\"alert alert-info\">\n",
    "**'Code zone'** est une clefs primaire ?\n",
    "**{'Oui' if fs.isPrimaryKey(sous_alim_df, ['Code zone']) else 'Non'}**\n",
    "</div>\n",
    "\"\"\"))"
   ]
  },
  {
   "cell_type": "markdown",
   "metadata": {},
   "source": [
    "#### différence entre une zone et un pays ?"
   ]
  },
  {
   "cell_type": "code",
   "execution_count": 156,
   "metadata": {
    "scrolled": true
   },
   "outputs": [
    {
     "data": {
      "text/plain": [
       "(0, 30)"
      ]
     },
     "execution_count": 156,
     "metadata": {},
     "output_type": "execute_result"
    }
   ],
   "source": [
    "merge = pd.merge(\n",
    "    sous_alim_df[['Code zone', 'Zone']],\n",
    "    pop_df[['Country Code']],\n",
    "    left_on='Code zone',\n",
    "    right_on='Country Code',\n",
    "    how=\"outer\"\n",
    ")\n",
    "pd.isnull(merge['Code zone']).sum(), pd.isnull(merge['Country Code']).sum()"
   ]
  },
  {
   "cell_type": "markdown",
   "metadata": {},
   "source": [
    "<div class=\"alert alert-info\">\n",
    "Il y a **174 Pays** et **204 Zones**. <br>\n",
    "Pays est un **sous-ensemble** de Zones\n",
    "</div>"
   ]
  },
  {
   "cell_type": "markdown",
   "metadata": {},
   "source": [
    "#### sous_alim_small_df"
   ]
  },
  {
   "cell_type": "markdown",
   "metadata": {},
   "source": [
    "<div class=\"alert alert-warning\">\n",
    "Pour construire un jeu de donnée propre on peut faire deux choses : <br>\n",
    "- supprimer les valeurs 'inferieur a' et garder que les valeurs exactes (on perd presque la moitié des valeurs) <br>\n",
    "- exprimer les valeur exact en valeur inferieur a (on perd en précision) <br>\n",
    "\n",
    "<br>\n",
    "On prend le parti pris d'ignorer les valeurs avec une borne maximale car elles manquent de précision\n",
    "</div>"
   ]
  },
  {
   "cell_type": "code",
   "execution_count": 157,
   "metadata": {},
   "outputs": [],
   "source": [
    "sous_alim_small_df = sous_alim_df.loc[~pd.isnull(sous_alim_df.Valeur) , ['Code zone', 'Valeur'] ]\n",
    "# df.rename(index=str, columns={\"A\": \"a\", \"C\": \"c\"})\n",
    "sous_alim_small_df = sous_alim_small_df.rename(columns={'Valeur': 'pop_ss_alim'})\n",
    "sous_alim_small_df.pop_ss_alim *= 1000000"
   ]
  },
  {
   "cell_type": "markdown",
   "metadata": {
    "colab_type": "text",
    "id": "xEWbZn3Zn5u9"
   },
   "source": [
    "### produits_df <a id=\"pays-produits\" href=\"#sommaire\" class=\"btn-sm btn-default\" >retour au sommaire</a>\n",
    "\n",
    "Ce DataFrame est une fusion des DataFrames vu précédemment :\n",
    "- animaux\n",
    "- végétaux\n",
    "- population"
   ]
  },
  {
   "cell_type": "markdown",
   "metadata": {},
   "source": [
    "#### Concaténation de végétaux et animaux"
   ]
  },
  {
   "cell_type": "code",
   "execution_count": 158,
   "metadata": {
    "colab": {},
    "colab_type": "code",
    "id": "JeXBXe1Dn5u_"
   },
   "outputs": [],
   "source": [
    "produit_df = pd.concat([vege_df, anim_df], keys=['vegetal', 'animal'])"
   ]
  },
  {
   "cell_type": "markdown",
   "metadata": {},
   "source": [
    "#### Jointure de produit_df et population"
   ]
  },
  {
   "cell_type": "code",
   "execution_count": 159,
   "metadata": {},
   "outputs": [
    {
     "data": {
      "text/markdown": [
       "\n",
       "Est ce que les pays dans `produit_df` et dans `population_df` sont les mêmes ? \n",
       "**True**\n"
      ],
      "text/plain": [
       "<IPython.core.display.Markdown object>"
      ]
     },
     "metadata": {},
     "output_type": "display_data"
    }
   ],
   "source": [
    "produit_code_pays = np.sort(produit_df['Code Pays'].unique())\n",
    "pop_code_pays = np.sort(pop_small_df['Code Pays'].unique())\n",
    "\n",
    "\n",
    "display(Markdown(f\"\"\"\n",
    "Est ce que les pays dans `produit_df` et dans `population_df` sont les mêmes ? \n",
    "**{(pop_code_pays == produit_code_pays).any()}**\n",
    "\"\"\"))"
   ]
  },
  {
   "cell_type": "markdown",
   "metadata": {},
   "source": [
    "<div class=\"alert alert-info\">\n",
    "On constate que les deux DataFrames ont les **mêmes Code Pays** (*tout les pays dans vege_anim sont dans pop et inversement*).\n",
    "<br> <br>\n",
    "**On peut donc faire une jointure interne**\n",
    "</div>\n",
    "\n",
    "il existe plusieurs types de jointures ([cours OC](https://openclassrooms.com/fr/courses/4449026-initiez-vous-a-lalgebre-relationnelle-avec-le-langage-sql/4568771-liez-des-relations-grace-aux-jointures)):\n",
    "\n",
    "- les jointures internes : seul les valeurs présente dans les deux df sont dans le résultat.\n",
    "  *Il n'y a pas de null*\n",
    "\n",
    "- les jointure externes gauche/droite : toute les valeurs dans le df de gauche/droite sont gardé.\n",
    "  *Il peut y avoir des null*\n",
    "\n",
    "- les jointures externes totales : toutes les valeurs a gauche ET a droite sont gardé.\n",
    "  *Il peut y avoir beaucoup de null*"
   ]
  },
  {
   "cell_type": "code",
   "execution_count": 160,
   "metadata": {
    "colab": {},
    "colab_type": "code",
    "id": "JeXBXe1Dn5u_"
   },
   "outputs": [],
   "source": [
    "produit_df = pd.merge(produit_df, pop_small_df)"
   ]
  },
  {
   "cell_type": "markdown",
   "metadata": {},
   "source": [
    "#### clefs primaires"
   ]
  },
  {
   "cell_type": "code",
   "execution_count": 161,
   "metadata": {
    "colab": {},
    "colab_type": "code",
    "id": "CLflj71Fn5vC",
    "outputId": "e65c54c0-6508-448a-a804-c3ad70c93398"
   },
   "outputs": [
    {
     "name": "stdout",
     "output_type": "stream",
     "text": [
      "True\n"
     ]
    }
   ],
   "source": [
    "print(fs.isPrimaryKey(produit_df, ['Code Pays', 'Code Élément', 'Code Produit']))"
   ]
  },
  {
   "cell_type": "markdown",
   "metadata": {},
   "source": [
    "<div class=\"alert alert-info\">\n",
    "    C'est toujours la même clefs primaires : **'Code Pays', 'Code Élément' & 'Code Produit'**.\n",
    "    <br>\n",
    "    Car auncun produit n'est commun aux végétaux et aux animaux\n",
    "</div>"
   ]
  },
  {
   "cell_type": "markdown",
   "metadata": {},
   "source": [
    "#### études des éléments et de leurs unités"
   ]
  },
  {
   "cell_type": "code",
   "execution_count": 162,
   "metadata": {
    "scrolled": false
   },
   "outputs": [
    {
     "data": {
      "text/html": [
       "<div>\n",
       "<style scoped>\n",
       "    .dataframe tbody tr th:only-of-type {\n",
       "        vertical-align: middle;\n",
       "    }\n",
       "\n",
       "    .dataframe tbody tr th {\n",
       "        vertical-align: top;\n",
       "    }\n",
       "\n",
       "    .dataframe thead th {\n",
       "        text-align: right;\n",
       "    }\n",
       "</style>\n",
       "<table border=\"1\" class=\"dataframe\">\n",
       "  <thead>\n",
       "    <tr style=\"text-align: right;\">\n",
       "      <th></th>\n",
       "      <th>Élément</th>\n",
       "      <th>Unité</th>\n",
       "    </tr>\n",
       "  </thead>\n",
       "  <tbody>\n",
       "    <tr>\n",
       "      <th>0</th>\n",
       "      <td>Production</td>\n",
       "      <td>Milliers de tonnes</td>\n",
       "    </tr>\n",
       "    <tr>\n",
       "      <th>1</th>\n",
       "      <td>Importations - Quantité</td>\n",
       "      <td>Milliers de tonnes</td>\n",
       "    </tr>\n",
       "    <tr>\n",
       "      <th>2</th>\n",
       "      <td>Variation de stock</td>\n",
       "      <td>Milliers de tonnes</td>\n",
       "    </tr>\n",
       "    <tr>\n",
       "      <th>3</th>\n",
       "      <td>Disponibilité intérieure</td>\n",
       "      <td>Milliers de tonnes</td>\n",
       "    </tr>\n",
       "    <tr>\n",
       "      <th>4</th>\n",
       "      <td>Semences</td>\n",
       "      <td>Milliers de tonnes</td>\n",
       "    </tr>\n",
       "    <tr>\n",
       "      <th>5</th>\n",
       "      <td>Pertes</td>\n",
       "      <td>Milliers de tonnes</td>\n",
       "    </tr>\n",
       "    <tr>\n",
       "      <th>6</th>\n",
       "      <td>Nourriture</td>\n",
       "      <td>Milliers de tonnes</td>\n",
       "    </tr>\n",
       "    <tr>\n",
       "      <th>7</th>\n",
       "      <td>Disponibilité alimentaire en quantité (kg/pers...</td>\n",
       "      <td>kg</td>\n",
       "    </tr>\n",
       "    <tr>\n",
       "      <th>8</th>\n",
       "      <td>Disponibilité alimentaire (Kcal/personne/jour)</td>\n",
       "      <td>Kcal/personne/jour</td>\n",
       "    </tr>\n",
       "    <tr>\n",
       "      <th>9</th>\n",
       "      <td>Disponibilité de protéines en quantité (g/pers...</td>\n",
       "      <td>g/personne/jour</td>\n",
       "    </tr>\n",
       "    <tr>\n",
       "      <th>10</th>\n",
       "      <td>Disponibilité de matière grasse en quantité (g...</td>\n",
       "      <td>g/personne/jour</td>\n",
       "    </tr>\n",
       "    <tr>\n",
       "      <th>25</th>\n",
       "      <td>Aliments pour animaux</td>\n",
       "      <td>Milliers de tonnes</td>\n",
       "    </tr>\n",
       "    <tr>\n",
       "      <th>35</th>\n",
       "      <td>Exportations - Quantité</td>\n",
       "      <td>Milliers de tonnes</td>\n",
       "    </tr>\n",
       "    <tr>\n",
       "      <th>75</th>\n",
       "      <td>Traitement</td>\n",
       "      <td>Milliers de tonnes</td>\n",
       "    </tr>\n",
       "    <tr>\n",
       "      <th>191</th>\n",
       "      <td>Autres Utilisations</td>\n",
       "      <td>Milliers de tonnes</td>\n",
       "    </tr>\n",
       "  </tbody>\n",
       "</table>\n",
       "</div>"
      ],
      "text/plain": [
       "                                               Élément               Unité\n",
       "0                                           Production  Milliers de tonnes\n",
       "1                              Importations - Quantité  Milliers de tonnes\n",
       "2                                   Variation de stock  Milliers de tonnes\n",
       "3                             Disponibilité intérieure  Milliers de tonnes\n",
       "4                                             Semences  Milliers de tonnes\n",
       "5                                               Pertes  Milliers de tonnes\n",
       "6                                           Nourriture  Milliers de tonnes\n",
       "7    Disponibilité alimentaire en quantité (kg/pers...                  kg\n",
       "8       Disponibilité alimentaire (Kcal/personne/jour)  Kcal/personne/jour\n",
       "9    Disponibilité de protéines en quantité (g/pers...     g/personne/jour\n",
       "10   Disponibilité de matière grasse en quantité (g...     g/personne/jour\n",
       "25                               Aliments pour animaux  Milliers de tonnes\n",
       "35                             Exportations - Quantité  Milliers de tonnes\n",
       "75                                          Traitement  Milliers de tonnes\n",
       "191                                Autres Utilisations  Milliers de tonnes"
      ]
     },
     "execution_count": 162,
     "metadata": {},
     "output_type": "execute_result"
    }
   ],
   "source": [
    "produit_df[['Élément', 'Unité']].drop_duplicates()"
   ]
  },
  {
   "cell_type": "code",
   "execution_count": 37,
   "metadata": {},
   "outputs": [
    {
     "data": {
      "text/plain": [
       "Disponibilité intérieure                                         15382\n",
       "Importations - Quantité                                          14852\n",
       "Disponibilité alimentaire (Kcal/personne/jour)                   14241\n",
       "Nourriture                                                       14015\n",
       "Disponibilité alimentaire en quantité (kg/personne/an)           14015\n",
       "Exportations - Quantité                                          12226\n",
       "Disponibilité de matière grasse en quantité (g/personne/jour)    11794\n",
       "Disponibilité de protéines en quantité (g/personne/jour)         11561\n",
       "Production                                                        9180\n",
       "Variation de stock                                                6776\n",
       "Autres Utilisations                                               5496\n",
       "Pertes                                                            4278\n",
       "Aliments pour animaux                                             2720\n",
       "Traitement                                                        2292\n",
       "Semences                                                          2091\n",
       "Name: Élément, dtype: int64"
      ]
     },
     "execution_count": 37,
     "metadata": {},
     "output_type": "execute_result"
    }
   ],
   "source": [
    "produit_df['Élément'].value_counts()"
   ]
  },
  {
   "cell_type": "markdown",
   "metadata": {},
   "source": [
    "<div class=\"alert alert-info\" role=\"alert\">\n",
    "Tout est éxprimé en **millier de tonnes** sauf les **disponibilités** alimentaires.\n",
    "</div>"
   ]
  },
  {
   "cell_type": "markdown",
   "metadata": {
    "colab_type": "text",
    "id": "06HkBzebn5vG"
   },
   "source": [
    "### Produit_element DataFrame : pivot table de produit_df <a  id=\"pays-produit-pt\" href=\"#sommaire\" class=\"btn-sm btn-default\" > sommaire </a>"
   ]
  },
  {
   "cell_type": "markdown",
   "metadata": {
    "colab_type": "text",
    "id": "06HkBzebn5vG"
   },
   "source": [
    "[tutoriel sur le pivot table (Youtube)](https://www.youtube.com/watch?v=xPPs59pn6qU)"
   ]
  },
  {
   "cell_type": "code",
   "execution_count": 163,
   "metadata": {
    "colab": {},
    "colab_type": "code",
    "id": "ux5_66RIn5vH",
    "outputId": "45599016-ea5c-4689-b85a-2d18554e45fe"
   },
   "outputs": [],
   "source": [
    "# on applique le pivot table\n",
    "produit_elem_df = produit_df.pivot_table(\n",
    "    index=['Code Pays', 'Pays', 'Code Produit', 'Produit', 'Année', 'origine', 'pop'],\n",
    "    columns=['Élément'],\n",
    "    values=['Valeur'], \n",
    "    aggfunc=sum\n",
    ")\n",
    "produit_elem_df.columns = [\n",
    "    'Aliments pour animaux', # feed\n",
    "    'Autres Utilisations', # other uses\n",
    "    'Disponibilité alimentaire (Kcal/personne/jour)',\n",
    "    'Disponibilité alimentaire en quantité (kg/personne/an)', # food supply quantitiy (kg/capita/yr)\n",
    "    'Disponibilité de matière grasse en quantité (g/personne/jour)',\n",
    "    'Disponibilité de protéines en quantité (g/personne/jour)', # protein supply quant. (g/capita/day)\n",
    "    'Disponibilité intérieure', # domestic supply quantity\n",
    "    'Exportations - Quantité', # export quantity\n",
    "    'Importations - Quantité', # import quantitiy\n",
    "    'Nourriture', # food\n",
    "    'Pertes', # waste\n",
    "    'Production', # production\n",
    "    'Semences', # seed\n",
    "     # food supply (kcal/capita/day)\n",
    "    'Traitement', # processing\n",
    "    'Variation de stock' # stock variation\n",
    "]                                       \n",
    "produit_elem_df = produit_elem_df.reset_index() # transforme l'index en valeur"
   ]
  },
  {
   "cell_type": "markdown",
   "metadata": {},
   "source": [
    "#### Jointure avec personne sous alimentés"
   ]
  },
  {
   "cell_type": "markdown",
   "metadata": {},
   "source": [
    "Comme on l'a vu, il y a des zones qui ne sont pas dans pays et des zone qui ont des valeurs nulles.\n",
    "On va donc faire une jointure gauche pour ne rien perdre a produit_df. \n",
    "\n",
    "NaN sera donc ajouté aux lignes des pays dont l'informations de personnes sous alimentés n'est pas présente"
   ]
  },
  {
   "cell_type": "code",
   "execution_count": 164,
   "metadata": {},
   "outputs": [],
   "source": [
    "produit_elem_df = pd.merge(\n",
    "    produit_elem_df, \n",
    "    sous_alim_small_df, \n",
    "    how='left', \n",
    "    left_on='Code Pays', \n",
    "    right_on='Code zone'\n",
    ")"
   ]
  },
  {
   "cell_type": "markdown",
   "metadata": {},
   "source": [
    "#### Renommage et changement d'ordre des colonnes"
   ]
  },
  {
   "cell_type": "code",
   "execution_count": 165,
   "metadata": {},
   "outputs": [],
   "source": [
    "# on renomme les colonnes\n",
    "produit_elem_df = produit_elem_df.rename(columns={\n",
    "    'Code Pays':                                                     'code_pays',\n",
    "    'Pays':                                                          'pays',\n",
    "    'Code Produit':                                                  'code_produit',\n",
    "    'Produit':                                                       'produit',\n",
    "    'Année':                                                         'annee',\n",
    "    'origine':                                                       'origine',\n",
    "    'pop':                                                           'pop',\n",
    "    'pop_ss_alim':                                                   'pop_ss_alim',\n",
    "    'Disponibilité intérieure':                                      'disp_inter__ktonne',\n",
    "    'Exportations - Quantité':                                       'export__ktonne',\n",
    "    'Aliments pour animaux':                                         'alim_pr_anim__ktonne',\n",
    "    'Nourriture':                                                    'nourriture__ktonne',\n",
    "    'Disponibilité alimentaire (Kcal/personne/jour)':                'disp_alim__kcal_per_jr',\n",
    "    'Disponibilité alimentaire en quantité (kg/personne/an)':        'disp_alim_qt__kg_per_an',\n",
    "    'Importations - Quantité':                                       'import__ktonne',\n",
    "    'Autres Utilisations':                                           'autre_util__ktonne',\n",
    "    'Traitement':                                                    'traitement__ktonne',\n",
    "    'Production':                                                    'prod__ktonne',\n",
    "    'Disponibilité de matière grasse en quantité (g/personne/jour)': 'disp_mat_grass__g_per_jr',\n",
    "    'Disponibilité de protéines en quantité (g/personne/jour)':      'disp_prot__g_per_jr',\n",
    "    'Semences':                                                      'semence__ktonne',\n",
    "    'Variation de stock':                                            'var_stock__ktonne',\n",
    "    'Pertes':                                                        'perte__ktonne' \n",
    "})\n",
    "# on change l'ordre des colonnes\n",
    "produit_elem_df = produit_elem_df[[\n",
    "    'code_pays', \n",
    "    'pays',\n",
    "    'pop',\n",
    "    'pop_ss_alim', \n",
    "    \n",
    "    'code_produit', \n",
    "    'produit',\n",
    "    'origine',\n",
    "    \n",
    "    'annee',\n",
    "    \n",
    "    'disp_alim__kcal_per_jr',\n",
    "    'disp_alim_qt__kg_per_an',\n",
    "    \n",
    "    'disp_mat_grass__g_per_jr',\n",
    "    'disp_prot__g_per_jr',\n",
    "    \n",
    "    \n",
    "    'disp_inter__ktonne',\n",
    "    \n",
    "    'prod__ktonne',\n",
    "    'import__ktonne',\n",
    "    'export__ktonne', \n",
    "    'var_stock__ktonne',\n",
    "    \n",
    "    'nourriture__ktonne',\n",
    "    'perte__ktonne',\n",
    "    'semence__ktonne',\n",
    "    'autre_util__ktonne',\n",
    "    'alim_pr_anim__ktonne',\n",
    "    'traitement__ktonne'\n",
    "]]"
   ]
  },
  {
   "cell_type": "markdown",
   "metadata": {
    "colab": {},
    "colab_type": "code",
    "id": "JEs-7lKpn5vK",
    "outputId": "a171e847-d1ed-4ebb-9a32-86daec11374e"
   },
   "source": [
    "#### clefs primaires"
   ]
  },
  {
   "cell_type": "code",
   "execution_count": 166,
   "metadata": {},
   "outputs": [
    {
     "data": {
      "text/markdown": [
       "\n",
       "<div class=\"alert alert-info\" role=\"alert\">\n",
       "    le **tuple pays / produit** suffit comme **clef primaire** ?\n",
       "    **True**\n",
       "</div>\n"
      ],
      "text/plain": [
       "<IPython.core.display.Markdown object>"
      ]
     },
     "metadata": {},
     "output_type": "display_data"
    }
   ],
   "source": [
    "display(Markdown(f\"\"\"\n",
    "<div class=\"alert alert-info\" role=\"alert\">\n",
    "    le **tuple pays / produit** suffit comme **clef primaire** ?\n",
    "    **{fs.isPrimaryKey(produit_elem_df, ['code_pays', 'code_produit'])}**\n",
    "</div>\n",
    "\"\"\"))"
   ]
  },
  {
   "cell_type": "code",
   "execution_count": 53,
   "metadata": {},
   "outputs": [
    {
     "name": "stdout",
     "output_type": "stream",
     "text": [
      "<class 'pandas.core.frame.DataFrame'>\n",
      "Int64Index: 15605 entries, 0 to 15604\n",
      "Data columns (total 23 columns):\n",
      "code_pays                   15605 non-null int64\n",
      "pays                        15605 non-null object\n",
      "pop                         15605 non-null int64\n",
      "pop_ss_alim                 8549 non-null float64\n",
      "code_produit                15605 non-null int64\n",
      "produit                     15605 non-null object\n",
      "origine                     15605 non-null object\n",
      "annee                       15605 non-null int64\n",
      "disp_alim__kcal_per_jr      14241 non-null float64\n",
      "disp_alim_qt__kg_per_an     14015 non-null float64\n",
      "disp_mat_grass__g_per_jr    11794 non-null float64\n",
      "disp_prot__g_per_jr         11561 non-null float64\n",
      "disp_inter__ktonne          15382 non-null float64\n",
      "prod__ktonne                9180 non-null float64\n",
      "import__ktonne              14852 non-null float64\n",
      "export__ktonne              12226 non-null float64\n",
      "var_stock__ktonne           6776 non-null float64\n",
      "nourriture__ktonne          14015 non-null float64\n",
      "perte__ktonne               4278 non-null float64\n",
      "semence__ktonne             2091 non-null float64\n",
      "autre_util__ktonne          5496 non-null float64\n",
      "alim_pr_anim__ktonne        2720 non-null float64\n",
      "traitement__ktonne          2292 non-null float64\n",
      "dtypes: float64(16), int64(4), object(3)\n",
      "memory usage: 2.9+ MB\n"
     ]
    }
   ],
   "source": [
    "produit_elem_df.info()"
   ]
  },
  {
   "cell_type": "markdown",
   "metadata": {},
   "source": [
    "#### Etudes des valeurs Null, NaN  <a  id=\"prod-elem-nan\" href=\"#sommaire\" class=\"btn-sm btn-default\" >  Sommaire </a>"
   ]
  },
  {
   "cell_type": "code",
   "execution_count": 167,
   "metadata": {
    "scrolled": false
   },
   "outputs": [
    {
     "name": "stdout",
     "output_type": "stream",
     "text": [
      "moyenne : 27.92% de valeurs NaN\n"
     ]
    },
    {
     "data": {
      "text/html": [
       "<div>\n",
       "<style scoped>\n",
       "    .dataframe tbody tr th:only-of-type {\n",
       "        vertical-align: middle;\n",
       "    }\n",
       "\n",
       "    .dataframe tbody tr th {\n",
       "        vertical-align: top;\n",
       "    }\n",
       "\n",
       "    .dataframe thead th {\n",
       "        text-align: right;\n",
       "    }\n",
       "</style>\n",
       "<table border=\"1\" class=\"dataframe\">\n",
       "  <thead>\n",
       "    <tr style=\"text-align: right;\">\n",
       "      <th></th>\n",
       "      <th>code_pays</th>\n",
       "      <th>pays</th>\n",
       "      <th>pop</th>\n",
       "      <th>pop_ss_alim</th>\n",
       "      <th>code_produit</th>\n",
       "      <th>produit</th>\n",
       "      <th>origine</th>\n",
       "      <th>annee</th>\n",
       "      <th>disp_alim__kcal_per_jr</th>\n",
       "      <th>disp_alim_qt__kg_per_an</th>\n",
       "      <th>...</th>\n",
       "      <th>prod__ktonne</th>\n",
       "      <th>import__ktonne</th>\n",
       "      <th>export__ktonne</th>\n",
       "      <th>var_stock__ktonne</th>\n",
       "      <th>nourriture__ktonne</th>\n",
       "      <th>perte__ktonne</th>\n",
       "      <th>semence__ktonne</th>\n",
       "      <th>autre_util__ktonne</th>\n",
       "      <th>alim_pr_anim__ktonne</th>\n",
       "      <th>traitement__ktonne</th>\n",
       "    </tr>\n",
       "  </thead>\n",
       "  <tbody>\n",
       "    <tr>\n",
       "      <th>% de valeurs NaN</th>\n",
       "      <td>0.0</td>\n",
       "      <td>0.0</td>\n",
       "      <td>0.0</td>\n",
       "      <td>45.22</td>\n",
       "      <td>0.0</td>\n",
       "      <td>0.0</td>\n",
       "      <td>0.0</td>\n",
       "      <td>0.0</td>\n",
       "      <td>8.74</td>\n",
       "      <td>10.19</td>\n",
       "      <td>...</td>\n",
       "      <td>41.17</td>\n",
       "      <td>4.83</td>\n",
       "      <td>21.65</td>\n",
       "      <td>56.58</td>\n",
       "      <td>10.19</td>\n",
       "      <td>72.59</td>\n",
       "      <td>86.6</td>\n",
       "      <td>64.78</td>\n",
       "      <td>82.57</td>\n",
       "      <td>85.31</td>\n",
       "    </tr>\n",
       "  </tbody>\n",
       "</table>\n",
       "<p>1 rows × 23 columns</p>\n",
       "</div>"
      ],
      "text/plain": [
       "                  code_pays  pays  pop  pop_ss_alim  code_produit  produit  \\\n",
       "% de valeurs NaN        0.0   0.0  0.0        45.22           0.0      0.0   \n",
       "\n",
       "                  origine  annee  disp_alim__kcal_per_jr  \\\n",
       "% de valeurs NaN      0.0    0.0                    8.74   \n",
       "\n",
       "                  disp_alim_qt__kg_per_an         ...          prod__ktonne  \\\n",
       "% de valeurs NaN                    10.19         ...                 41.17   \n",
       "\n",
       "                  import__ktonne  export__ktonne  var_stock__ktonne  \\\n",
       "% de valeurs NaN            4.83           21.65              56.58   \n",
       "\n",
       "                  nourriture__ktonne  perte__ktonne  semence__ktonne  \\\n",
       "% de valeurs NaN               10.19          72.59             86.6   \n",
       "\n",
       "                  autre_util__ktonne  alim_pr_anim__ktonne  traitement__ktonne  \n",
       "% de valeurs NaN               64.78                 82.57               85.31  \n",
       "\n",
       "[1 rows x 23 columns]"
      ]
     },
     "execution_count": 167,
     "metadata": {},
     "output_type": "execute_result"
    }
   ],
   "source": [
    "percentOfNan = lambda col: pd.isnull(produit_elem_df[col]).sum() / len(produit_elem_df) * 100\n",
    "\n",
    "col_na = pd.DataFrame(\n",
    "    [[round(percentOfNan(col), 2) for col in produit_elem_df.columns]],\n",
    "    index=['% de valeurs NaN'],\n",
    "    columns=produit_elem_df.columns\n",
    ")\n",
    "\n",
    "print('moyenne : {}% de valeurs NaN'.format(round(col_na.loc['% de valeurs NaN'].mean(), 2)))\n",
    "col_na"
   ]
  },
  {
   "cell_type": "markdown",
   "metadata": {
    "colab_type": "text",
    "id": "_cPeZoV0n5vM"
   },
   "source": [
    "-------------\n",
    "# Questions  <a id=\"questions\" href=\"#sommaire\" class=\"btn-sm btn-default\" >retour au sommaire</a>"
   ]
  },
  {
   "cell_type": "markdown",
   "metadata": {
    "colab_type": "text",
    "id": "WF9vVte_n5vO"
   },
   "source": [
    "<div class=\"panel panel-info\">\n",
    "\n",
    "  <div class=\"panel-heading\" >\n",
    "    **Question 1**\n",
    "    <a id=\"question-1\" href=\"#sommaire\" class=\"btn-sm btn-default\" >retour au sommaire</a>\n",
    "  </div>\n",
    "  \n",
    "  <div class=\"panel-body\">\n",
    "    \n",
    "    Population : donnez le résultat de votre calcul pour l'année 2013, ainsi que pour la dernière année  disponible au jour où vous effectuez ce projet.\n",
    "    \n",
    "  </div>\n",
    "</div>"
   ]
  },
  {
   "cell_type": "code",
   "execution_count": 168,
   "metadata": {
    "colab": {},
    "colab_type": "code",
    "id": "e6tWBu8Bn5vO",
    "outputId": "6053e6c1-fe3f-4a16-8581-7b6bd6f06e90",
    "scrolled": true
   },
   "outputs": [
    {
     "data": {
      "text/markdown": [
       "\n",
       "<div class=\"alert alert-success\">\n",
       "#### Réponse 1\n",
       "\n",
       "&rArr; Nombre d'humains sur la planète : **6.997** Milliards.\n",
       "\n",
       "*Nombre de pays :* **174** <br>\n"
      ],
      "text/plain": [
       "<IPython.core.display.Markdown object>"
      ]
     },
     "metadata": {},
     "output_type": "display_data"
    }
   ],
   "source": [
    "POP_MONDE = pop_small_df['pop'].sum()\n",
    "\n",
    "display(Markdown(f\"\"\"\n",
    "<div class=\"alert alert-success\">\n",
    "#### Réponse 1\n",
    "\n",
    "&rArr; Nombre d'humains sur la planète : **{POP_MONDE / 1e9 :.3f}** Milliards.\n",
    "\n",
    "*Nombre de pays :* **{len(pop_small_df)}** <br>\n",
    "\"\"\"))"
   ]
  },
  {
   "cell_type": "markdown",
   "metadata": {
    "colab_type": "text",
    "id": "0nGguRPtn5vS"
   },
   "source": [
    "Note :\n",
    " - il n'y pas tout les pays : [source](http://www.colpron.com/blogue_pays/)\n",
    " - Légèrement inferieur à ce qui est indiqué [ici](http://economiedurable.over-blog.com/article-la-population-mondiale-au-1er-janvier-2013-99484009.html)"
   ]
  },
  {
   "cell_type": "markdown",
   "metadata": {
    "colab_type": "text",
    "id": "WF9vVte_n5vO"
   },
   "source": [
    "<div class=\"panel panel-info\">\n",
    "\n",
    "  <div class=\"panel-heading\" >\n",
    "    **Question 2**\n",
    "    <a id=\"question-2\" href=\"#sommaire\" class=\"btn-sm btn-default\" >retour au sommaire</a>\n",
    "  </div>\n",
    "  \n",
    "  <div class=\"panel-body\">\n",
    "    Identifiez ces redondances, en donnant votre réponse sous forme de formule mathématique. <br>C'est une équation à 3 termes de type a1+a2+[...]=b1+b2+[...]=c1+c2+[...] ) faisant intervenir chacune des 11 quantités données ci dessus. Illustrez cette équation avec l'exemple du blé en France.\n",
    "  </div>\n",
    "</div>"
   ]
  },
  {
   "cell_type": "markdown",
   "metadata": {},
   "source": [
    "#### réponse\n",
    "\n",
    "<div class=\"alert alert-success\">\n",
    "\n",
    "#### Réponse 2\n",
    "\n",
    "$ Disponibilité~intérieure = Nourriture + Pertes + Semences + Autres~utilisations + Aliments~pour~animaux + traitement $\n",
    "\n",
    "&hArr; \n",
    "\n",
    "$Disponibilité~intérieure  = Production + Importation - Exportation + evolution~stock$\n"
   ]
  },
  {
   "cell_type": "markdown",
   "metadata": {
    "colab": {},
    "colab_type": "code",
    "id": "MJ_6daUKn5vT"
   },
   "source": [
    "##### exemple avec le blé en france"
   ]
  },
  {
   "cell_type": "code",
   "execution_count": 169,
   "metadata": {
    "colab": {},
    "colab_type": "code",
    "id": "MJ_6daUKn5vT"
   },
   "outputs": [],
   "source": [
    "# on restreint a la france et au blé\n",
    "masque = (vege_df['Code Pays']  == 68) & (vege_df['Produit'] == 'Blé')\n",
    "vege_fr_ble_df = vege_df[masque]\n",
    "\n",
    "# on cherche les valeurs que l'on veut\n",
    "\n",
    "valeur = lambda element: vege_fr_ble_df['Valeur'][vege_fr_ble_df['Élément'] == element].values[0]\n",
    "\n",
    "production =               valeur('Production')\n",
    "importations =             valeur('Importations - Quantité')\n",
    "exportations =             valeur('Exportations - Quantité')\n",
    "variation_de_stock =       valeur('Variation de stock')\n",
    "disponibilite_interieure = valeur('Disponibilité intérieure')\n",
    "semences =                 valeur('Semences')\n",
    "pertes =                   valeur('Pertes')\n",
    "nourriture =               valeur('Nourriture')\n",
    "aliments_pour_animaux =    valeur('Aliments pour animaux')\n",
    "traitement =               valeur('Traitement')\n",
    "autres_utilisations =      valeur('Autres Utilisations')"
   ]
  },
  {
   "cell_type": "code",
   "execution_count": 170,
   "metadata": {
    "colab": {},
    "colab_type": "code",
    "id": "MJ_6daUKn5vT"
   },
   "outputs": [],
   "source": [
    "is_equation_correct = \\\n",
    "disponibilite_interieure \\\n",
    "== nourriture + pertes + semences + autres_utilisations + aliments_pour_animaux + traitement \\\n",
    "== production + importations - exportations + variation_de_stock "
   ]
  },
  {
   "cell_type": "code",
   "execution_count": 171,
   "metadata": {
    "colab": {},
    "colab_type": "code",
    "id": "MJ_6daUKn5vT"
   },
   "outputs": [
    {
     "data": {
      "text/markdown": [
       "\n",
       "<div class=\"alert alert-success\">\n",
       "\n",
       "L'équation est-elle correcte ? **Oui**\n",
       "\n",
       "\n",
       "&rArr; *La disponibilité intérieur mondiale est de* **20298 Ktonnes**.\n"
      ],
      "text/plain": [
       "<IPython.core.display.Markdown object>"
      ]
     },
     "metadata": {},
     "output_type": "display_data"
    }
   ],
   "source": [
    "display(Markdown(f\"\"\"\n",
    "<div class=\"alert alert-success\">\n",
    "\n",
    "L'équation est-elle correcte ? **{'Oui' if is_equation_correct else 'Non'}**\n",
    "\n",
    "\n",
    "&rArr; *La disponibilité intérieur mondiale est de* **{disponibilite_interieure:.0f} Ktonnes**.\n",
    "\"\"\"))"
   ]
  },
  {
   "cell_type": "markdown",
   "metadata": {
    "colab_type": "text",
    "id": "WF9vVte_n5vO"
   },
   "source": [
    "<div class=\"panel panel-info\">\n",
    "\n",
    "  <div class=\"panel-heading\" >\n",
    "    **Question 3**\n",
    "    <a id=\"question-3\" href=\"#sommaire\" class=\"btn-sm btn-default\" >retour au sommaire</a>\n",
    "  </div>\n",
    "  \n",
    "  <div class=\"panel-body\">\n",
    "    Calculez (pour chaque pays et chaque produit) la disponibilité alimentaire en kcal puis en kg de protéines.\n",
    "  </div>\n",
    "</div>"
   ]
  },
  {
   "cell_type": "code",
   "execution_count": 172,
   "metadata": {},
   "outputs": [],
   "source": [
    "NB_JOUR_ANNEE = 365"
   ]
  },
  {
   "cell_type": "code",
   "execution_count": 173,
   "metadata": {
    "scrolled": true
   },
   "outputs": [],
   "source": [
    "# Calcul de la disponibilité alimentaire en kcal/ans\n",
    "produit_elem_df['disp_alim__kcal_an']\\\n",
    "= produit_elem_df['disp_alim__kcal_per_jr'] * produit_elem_df['pop'] * NB_JOUR_ANNEE"
   ]
  },
  {
   "cell_type": "code",
   "execution_count": 174,
   "metadata": {},
   "outputs": [],
   "source": [
    "# Calcul de la disponibilité alimentaire en kg de protéines par ans\n",
    "produit_elem_df['disp_prot__kg_an']\\\n",
    "= produit_elem_df['disp_prot__g_per_jr'] / 1000 * produit_elem_df['pop'] * NB_JOUR_ANNEE"
   ]
  },
  {
   "cell_type": "markdown",
   "metadata": {},
   "source": [
    "#### réponse"
   ]
  },
  {
   "cell_type": "code",
   "execution_count": 175,
   "metadata": {
    "scrolled": false
   },
   "outputs": [
    {
     "data": {
      "text/markdown": [
       "<div class=\"alert alert-success\">\n",
       "#### Réponse 3"
      ],
      "text/plain": [
       "<IPython.core.display.Markdown object>"
      ]
     },
     "metadata": {},
     "output_type": "display_data"
    },
    {
     "data": {
      "text/html": [
       "<div>\n",
       "<style scoped>\n",
       "    .dataframe tbody tr th:only-of-type {\n",
       "        vertical-align: middle;\n",
       "    }\n",
       "\n",
       "    .dataframe tbody tr th {\n",
       "        vertical-align: top;\n",
       "    }\n",
       "\n",
       "    .dataframe thead th {\n",
       "        text-align: right;\n",
       "    }\n",
       "</style>\n",
       "<table border=\"1\" class=\"dataframe\">\n",
       "  <thead>\n",
       "    <tr style=\"text-align: right;\">\n",
       "      <th></th>\n",
       "      <th>pays</th>\n",
       "      <th>produit</th>\n",
       "      <th>disp_alim__kcal_an</th>\n",
       "      <th>disp_prot__kg_an</th>\n",
       "    </tr>\n",
       "  </thead>\n",
       "  <tbody>\n",
       "    <tr>\n",
       "      <th>9792</th>\n",
       "      <td>l'ex-République yougoslave de Macédoine</td>\n",
       "      <td>Avoine</td>\n",
       "      <td>6.152440e+09</td>\n",
       "      <td>230716.5</td>\n",
       "    </tr>\n",
       "    <tr>\n",
       "      <th>12324</th>\n",
       "      <td>Slovénie</td>\n",
       "      <td>Légumes, Autres</td>\n",
       "      <td>3.478888e+10</td>\n",
       "      <td>1701630.0</td>\n",
       "    </tr>\n",
       "    <tr>\n",
       "      <th>7941</th>\n",
       "      <td>Lesotho</td>\n",
       "      <td>Tomates</td>\n",
       "      <td>7.570100e+08</td>\n",
       "      <td>22710.3</td>\n",
       "    </tr>\n",
       "  </tbody>\n",
       "</table>\n",
       "</div>"
      ],
      "text/plain": [
       "                                          pays          produit  \\\n",
       "9792   l'ex-République yougoslave de Macédoine           Avoine   \n",
       "12324                                 Slovénie  Légumes, Autres   \n",
       "7941                                   Lesotho          Tomates   \n",
       "\n",
       "       disp_alim__kcal_an  disp_prot__kg_an  \n",
       "9792         6.152440e+09          230716.5  \n",
       "12324        3.478888e+10         1701630.0  \n",
       "7941         7.570100e+08           22710.3  "
      ]
     },
     "execution_count": 175,
     "metadata": {},
     "output_type": "execute_result"
    }
   ],
   "source": [
    "display(Markdown(\"\"\"<div class=\"alert alert-success\">\n",
    "#### Réponse 3\"\"\"))\n",
    "produit_elem_df[['pays', 'produit', 'disp_alim__kcal_an', 'disp_prot__kg_an']].sample(3)"
   ]
  },
  {
   "cell_type": "markdown",
   "metadata": {
    "colab_type": "text",
    "id": "WF9vVte_n5vO"
   },
   "source": [
    "<div class=\"panel panel-info\">\n",
    "\n",
    "  <div class=\"panel-heading\" >\n",
    "    **Question 4**\n",
    "    <a id=\"question-4\" href=\"#sommaire\" class=\"btn-sm btn-default\" >retour au sommaire</a>\n",
    "  </div>\n",
    "  \n",
    "  <div class=\"panel-body\">\n",
    "    A partir de ces dernières informations, et à partir du poids de la disponibilité alimentaire (pour chaque pays et chaque produit), calculez pour chaque produit le ratio \"énergie/poids\", que vous donnerez en kcal/kg. Vous pouvez vérifier la cohérence de votre calcul en comparant ce ratio aux données disponibles sur internet, par exemple en cherchant la <a href=\"https://fr.wikipedia.org/wiki/%C5%92uf_(aliment)\"> valeur calorique d'un oeuf</a>.\n",
    "   \n",
    "  </div>\n",
    "</div>"
   ]
  },
  {
   "cell_type": "markdown",
   "metadata": {},
   "source": [
    "#### calcul du poids de la disponibilité alimentaire par an"
   ]
  },
  {
   "cell_type": "code",
   "execution_count": 176,
   "metadata": {},
   "outputs": [],
   "source": [
    "produit_elem_df['disp_alim__kg_an']\\\n",
    "= produit_elem_df['disp_alim_qt__kg_per_an'] *  produit_elem_df['pop']"
   ]
  },
  {
   "cell_type": "markdown",
   "metadata": {},
   "source": [
    "#### calcul du ratio *énergie / poids*"
   ]
  },
  {
   "cell_type": "code",
   "execution_count": 177,
   "metadata": {},
   "outputs": [],
   "source": [
    "# ratio_e_pds__kcal_kg\n",
    "produit_elem_df['ratio_e_pds__kcal_kg'] \\\n",
    "= produit_elem_df['disp_alim__kcal_an'] / (produit_elem_df['nourriture__ktonne'] * 1e6)"
   ]
  },
  {
   "cell_type": "code",
   "execution_count": 178,
   "metadata": {
    "scrolled": true
   },
   "outputs": [
    {
     "data": {
      "text/markdown": [
       "<div class=\"alert alert-success\"> \n",
       "#### Réponse 4"
      ],
      "text/plain": [
       "<IPython.core.display.Markdown object>"
      ]
     },
     "metadata": {},
     "output_type": "display_data"
    },
    {
     "data": {
      "text/html": [
       "<div>\n",
       "<style scoped>\n",
       "    .dataframe tbody tr th:only-of-type {\n",
       "        vertical-align: middle;\n",
       "    }\n",
       "\n",
       "    .dataframe tbody tr th {\n",
       "        vertical-align: top;\n",
       "    }\n",
       "\n",
       "    .dataframe thead th {\n",
       "        text-align: right;\n",
       "    }\n",
       "</style>\n",
       "<table border=\"1\" class=\"dataframe\">\n",
       "  <thead>\n",
       "    <tr style=\"text-align: right;\">\n",
       "      <th></th>\n",
       "      <th>pays</th>\n",
       "      <th>produit</th>\n",
       "      <th>ratio_e_pds__kcal_kg</th>\n",
       "    </tr>\n",
       "  </thead>\n",
       "  <tbody>\n",
       "    <tr>\n",
       "      <th>3204</th>\n",
       "      <td>Bénin</td>\n",
       "      <td>Boissons Alcooliques</td>\n",
       "      <td>2511.930000</td>\n",
       "    </tr>\n",
       "    <tr>\n",
       "      <th>11227</th>\n",
       "      <td>Guinée-Bissau</td>\n",
       "      <td>Épices, Autres</td>\n",
       "      <td>NaN</td>\n",
       "    </tr>\n",
       "    <tr>\n",
       "      <th>10424</th>\n",
       "      <td>Norvège</td>\n",
       "      <td>Riz (Eq Blanchi)</td>\n",
       "      <td>3597.722045</td>\n",
       "    </tr>\n",
       "  </tbody>\n",
       "</table>\n",
       "</div>"
      ],
      "text/plain": [
       "                pays               produit  ratio_e_pds__kcal_kg\n",
       "3204           Bénin  Boissons Alcooliques           2511.930000\n",
       "11227  Guinée-Bissau        Épices, Autres                   NaN\n",
       "10424        Norvège      Riz (Eq Blanchi)           3597.722045"
      ]
     },
     "execution_count": 178,
     "metadata": {},
     "output_type": "execute_result"
    }
   ],
   "source": [
    "display(Markdown(\"\"\"<div class=\"alert alert-success\"> \n",
    "#### Réponse 4\"\"\"))\n",
    "produit_elem_df[['pays', 'produit', 'ratio_e_pds__kcal_kg']].sample(3)"
   ]
  },
  {
   "cell_type": "markdown",
   "metadata": {},
   "source": [
    "Vérification avec les *oeufs*"
   ]
  },
  {
   "cell_type": "code",
   "execution_count": 179,
   "metadata": {},
   "outputs": [],
   "source": [
    "ratio_ep_oeuf = produit_elem_df.loc[\n",
    "    (produit_elem_df['code_produit']==2744)\n",
    "    & (produit_elem_df['ratio_e_pds__kcal_kg']!=np.inf)\n",
    "    & (produit_elem_df['ratio_e_pds__kcal_kg']!=0),\n",
    "    ['ratio_e_pds__kcal_kg']\n",
    "].mean().values[0]"
   ]
  },
  {
   "cell_type": "code",
   "execution_count": 180,
   "metadata": {},
   "outputs": [
    {
     "data": {
      "text/markdown": [
       "\n",
       "<div class=\"alert alert-success\">\n",
       "Selon nos données, le **ratio énergie/poids** d'un oeuf est de **134.53 ** *kcal/100g*\n",
       "\n",
       "&rArr; Wikipedia énonce [**147** *kcal/100g*](https://fr.wikipedia.org/wiki/%C5%92uf_).\n"
      ],
      "text/plain": [
       "<IPython.core.display.Markdown object>"
      ]
     },
     "metadata": {},
     "output_type": "display_data"
    }
   ],
   "source": [
    "display(Markdown(f\"\"\"\n",
    "<div class=\"alert alert-success\">\n",
    "Selon nos données, le **ratio énergie/poids** d'un oeuf est de **{ratio_ep_oeuf / 10:.2f} ** *kcal/100g*\n",
    "\n",
    "&rArr; Wikipedia énonce [**147** *kcal/100g*](https://fr.wikipedia.org/wiki/%C5%92uf_).\n",
    "\"\"\"))"
   ]
  },
  {
   "cell_type": "markdown",
   "metadata": {},
   "source": [
    "#### calcul du pourcentage de *protéines*"
   ]
  },
  {
   "cell_type": "code",
   "execution_count": 181,
   "metadata": {},
   "outputs": [],
   "source": [
    "produit_elem_df['prc_prot'] = produit_elem_df['disp_prot__kg_an'] / produit_elem_df['disp_alim__kg_an'] * 100"
   ]
  },
  {
   "cell_type": "markdown",
   "metadata": {},
   "source": [
    "Vérification avec l'avoine"
   ]
  },
  {
   "cell_type": "code",
   "execution_count": 182,
   "metadata": {
    "scrolled": false
   },
   "outputs": [],
   "source": [
    "result = produit_elem_df.loc[\n",
    "    (produit_elem_df['produit'] == 'Avoine'), \n",
    "    'prc_prot'\n",
    "].mean()"
   ]
  },
  {
   "cell_type": "code",
   "execution_count": 183,
   "metadata": {},
   "outputs": [
    {
     "data": {
      "text/markdown": [
       "\n",
       "<div class=\"alert alert-success\">\n",
       "Selon nos données, dans 100g d'Avoine, il y a **7.97 g** de protéines.\n",
       "\n",
       "&rArr; Selon Wikipedia, il y en a [**10,7 g**](https://fr.wikipedia.org/wiki/Avoine_cultiv%C3%A9e#En_alimentation_humaine)\n"
      ],
      "text/plain": [
       "<IPython.core.display.Markdown object>"
      ]
     },
     "metadata": {},
     "output_type": "display_data"
    }
   ],
   "source": [
    "display(Markdown(f\"\"\"\n",
    "<div class=\"alert alert-success\">\n",
    "Selon nos données, dans 100g d'Avoine, il y a **{result:.2f} g** de protéines.\n",
    "\n",
    "&rArr; Selon Wikipedia, il y en a [**10,7 g**](https://fr.wikipedia.org/wiki/Avoine_cultiv%C3%A9e#En_alimentation_humaine)\n",
    "\"\"\"))"
   ]
  },
  {
   "cell_type": "markdown",
   "metadata": {
    "colab_type": "text",
    "id": "WF9vVte_n5vO"
   },
   "source": [
    "<div class=\"panel panel-info\">\n",
    "\n",
    "  <div class=\"panel-heading\" >\n",
    "    **Question 5**\n",
    "    <a id=\"question-5\" href=\"#sommaire\" class=\"btn-sm btn-default\" >retour au sommaire</a>\n",
    "  </div>\n",
    "  \n",
    "  <div class=\"panel-body\">\n",
    "    Citez 5 aliments parmi les 20 aliments les plus caloriques, en utilisant le ratio énergie/poids. \n",
    "Étonnamment, il arrive que ce ratio soit différent en fonction du pays. Il faudra donc réaliser pour chaque aliment une moyenne sur les différents pays. Vous créerez donc une nouvelle table grâce à une agrégation. Attention à bien retirer les valeurs égales à 0 afin de ne pas fausser le calcul de la moyenne.\n",
    "Citez 5 aliments parmi les 20 aliments les plus riches en protéines.\n",
    "  </div>\n",
    "</div>"
   ]
  },
  {
   "cell_type": "markdown",
   "metadata": {},
   "source": [
    "#### Aliments les plus caloriques"
   ]
  },
  {
   "cell_type": "markdown",
   "metadata": {},
   "source": [
    "calcul du dataframe `alim_ratio_e_pds_desc`"
   ]
  },
  {
   "cell_type": "code",
   "execution_count": 184,
   "metadata": {},
   "outputs": [],
   "source": [
    "# on enleve les valeurs Nan et infinis et 0\n",
    "alim_ratio_e_pds_desc = produit_elem_df.loc[\n",
    "      ~(produit_elem_df['ratio_e_pds__kcal_kg'].isna())\n",
    "    & (produit_elem_df['ratio_e_pds__kcal_kg'] != 0)\n",
    "    & (produit_elem_df['ratio_e_pds__kcal_kg'] != np.inf),\n",
    "    ['produit', 'ratio_e_pds__kcal_kg']\n",
    "]\n",
    "\n",
    "# group  by produit, sort...\n",
    "alim_ratio_e_pds_desc = alim_ratio_e_pds_desc.groupby('produit')\\\n",
    ".mean()\\\n",
    ".reset_index()\\\n",
    ".sort_values(by='ratio_e_pds__kcal_kg', ascending=False)"
   ]
  },
  {
   "cell_type": "markdown",
   "metadata": {},
   "source": [
    "#### Réponse"
   ]
  },
  {
   "cell_type": "code",
   "execution_count": 185,
   "metadata": {},
   "outputs": [
    {
     "data": {
      "text/markdown": [
       "<div class=\"alert alert-success\">\n",
       "#### Réponse 5\n",
       "Les 5 produits les plus caloriques :"
      ],
      "text/plain": [
       "<IPython.core.display.Markdown object>"
      ]
     },
     "metadata": {},
     "output_type": "display_data"
    },
    {
     "data": {
      "text/html": [
       "<div>\n",
       "<style scoped>\n",
       "    .dataframe tbody tr th:only-of-type {\n",
       "        vertical-align: middle;\n",
       "    }\n",
       "\n",
       "    .dataframe tbody tr th {\n",
       "        vertical-align: top;\n",
       "    }\n",
       "\n",
       "    .dataframe thead th {\n",
       "        text-align: right;\n",
       "    }\n",
       "</style>\n",
       "<table border=\"1\" class=\"dataframe\">\n",
       "  <thead>\n",
       "    <tr style=\"text-align: right;\">\n",
       "      <th></th>\n",
       "      <th>produit</th>\n",
       "      <th>ratio_e_pds__kcal_kg</th>\n",
       "    </tr>\n",
       "  </thead>\n",
       "  <tbody>\n",
       "    <tr>\n",
       "      <th>43</th>\n",
       "      <td>Huiles de Foie de Poisso</td>\n",
       "      <td>9982.932500</td>\n",
       "    </tr>\n",
       "    <tr>\n",
       "      <th>41</th>\n",
       "      <td>Huile de Sésame</td>\n",
       "      <td>9433.744729</td>\n",
       "    </tr>\n",
       "    <tr>\n",
       "      <th>40</th>\n",
       "      <td>Huile de Son de Riz</td>\n",
       "      <td>9361.549883</td>\n",
       "    </tr>\n",
       "    <tr>\n",
       "      <th>44</th>\n",
       "      <td>Huiles de Poissons</td>\n",
       "      <td>9003.715504</td>\n",
       "    </tr>\n",
       "    <tr>\n",
       "      <th>32</th>\n",
       "      <td>Huile d'Arachide</td>\n",
       "      <td>8935.765811</td>\n",
       "    </tr>\n",
       "  </tbody>\n",
       "</table>\n",
       "</div>"
      ],
      "text/plain": [
       "                     produit  ratio_e_pds__kcal_kg\n",
       "43  Huiles de Foie de Poisso           9982.932500\n",
       "41           Huile de Sésame           9433.744729\n",
       "40       Huile de Son de Riz           9361.549883\n",
       "44        Huiles de Poissons           9003.715504\n",
       "32          Huile d'Arachide           8935.765811"
      ]
     },
     "execution_count": 185,
     "metadata": {},
     "output_type": "execute_result"
    }
   ],
   "source": [
    "display(Markdown(\"\"\"<div class=\"alert alert-success\">\n",
    "#### Réponse 5\n",
    "Les 5 produits les plus caloriques :\"\"\"))\n",
    "alim_ratio_e_pds_desc.head(5)"
   ]
  },
  {
   "cell_type": "markdown",
   "metadata": {},
   "source": [
    "#### Aliments les plus protéinés"
   ]
  },
  {
   "cell_type": "markdown",
   "metadata": {},
   "source": [
    "calcul du dataframe `alim_prct_prot_desc`"
   ]
  },
  {
   "cell_type": "code",
   "execution_count": 186,
   "metadata": {},
   "outputs": [],
   "source": [
    "# on enleve les valeurs Nan et infinis et 0\n",
    "alim_prct_prot_desc = produit_elem_df.loc[\n",
    "      ~(produit_elem_df['prc_prot'].isna())\n",
    "    & (produit_elem_df['prc_prot'] != 0)\n",
    "    & (produit_elem_df['prc_prot'] != np.inf),\n",
    "    ['produit', 'prc_prot']\n",
    "]\n",
    "\n",
    "# groupy, sort...\n",
    "alim_prct_prot_desc = alim_prct_prot_desc.groupby('produit').mean().reset_index()\\\n",
    ".sort_values(by='prc_prot', ascending=False)\\"
   ]
  },
  {
   "cell_type": "markdown",
   "metadata": {},
   "source": [
    "#### Réponse"
   ]
  },
  {
   "cell_type": "code",
   "execution_count": 187,
   "metadata": {},
   "outputs": [
    {
     "data": {
      "text/markdown": [
       "<div class=\"alert alert-success\">\n",
       "#### Réponse 5 bis\n",
       "Les 5 produits les plus protéinés :"
      ],
      "text/plain": [
       "<IPython.core.display.Markdown object>"
      ]
     },
     "metadata": {},
     "output_type": "display_data"
    },
    {
     "data": {
      "text/html": [
       "<div>\n",
       "<style scoped>\n",
       "    .dataframe tbody tr th:only-of-type {\n",
       "        vertical-align: middle;\n",
       "    }\n",
       "\n",
       "    .dataframe tbody tr th {\n",
       "        vertical-align: top;\n",
       "    }\n",
       "\n",
       "    .dataframe thead th {\n",
       "        text-align: right;\n",
       "    }\n",
       "</style>\n",
       "<table border=\"1\" class=\"dataframe\">\n",
       "  <thead>\n",
       "    <tr style=\"text-align: right;\">\n",
       "      <th></th>\n",
       "      <th>produit</th>\n",
       "      <th>prc_prot</th>\n",
       "    </tr>\n",
       "  </thead>\n",
       "  <tbody>\n",
       "    <tr>\n",
       "      <th>26</th>\n",
       "      <td>Graines Colza/Moutarde</td>\n",
       "      <td>36.500000</td>\n",
       "    </tr>\n",
       "    <tr>\n",
       "      <th>73</th>\n",
       "      <td>Soja</td>\n",
       "      <td>27.254546</td>\n",
       "    </tr>\n",
       "    <tr>\n",
       "      <th>5</th>\n",
       "      <td>Arachides Decortiquees</td>\n",
       "      <td>25.091310</td>\n",
       "    </tr>\n",
       "    <tr>\n",
       "      <th>62</th>\n",
       "      <td>Pois</td>\n",
       "      <td>22.423943</td>\n",
       "    </tr>\n",
       "    <tr>\n",
       "      <th>44</th>\n",
       "      <td>Légumineuses Autres</td>\n",
       "      <td>22.304684</td>\n",
       "    </tr>\n",
       "  </tbody>\n",
       "</table>\n",
       "</div>"
      ],
      "text/plain": [
       "                   produit   prc_prot\n",
       "26  Graines Colza/Moutarde  36.500000\n",
       "73                    Soja  27.254546\n",
       "5   Arachides Decortiquees  25.091310\n",
       "62                    Pois  22.423943\n",
       "44     Légumineuses Autres  22.304684"
      ]
     },
     "execution_count": 187,
     "metadata": {},
     "output_type": "execute_result"
    }
   ],
   "source": [
    "display(Markdown(\"\"\"<div class=\"alert alert-success\">\n",
    "#### Réponse 5 bis\n",
    "Les 5 produits les plus protéinés :\"\"\"))\n",
    "alim_prct_prot_desc.head(5)"
   ]
  },
  {
   "cell_type": "markdown",
   "metadata": {
    "scrolled": true
   },
   "source": [
    "<div class=\"panel panel-info\">\n",
    "\n",
    "  <div class=\"panel-heading\" >\n",
    "    **Question 6**\n",
    "    <a id=\"question-6\" href=\"#sommaire\" class=\"btn-sm btn-default\" >retour au sommaire</a>\n",
    "  </div>\n",
    "  \n",
    "  <div class=\"panel-body\">\n",
    "   Calculez, pour les produits végétaux uniquement, la disponibilité intérieure mondiale exprimée en kcal.\n",
    "  </div>\n",
    "</div>"
   ]
  },
  {
   "cell_type": "markdown",
   "metadata": {},
   "source": [
    "on ne garde que les végétaux et les colonnes que l'on veut"
   ]
  },
  {
   "cell_type": "code",
   "execution_count": 188,
   "metadata": {},
   "outputs": [],
   "source": [
    "vegetaux = produit_elem_df.loc[\n",
    "    produit_elem_df['origine'] == 'vegetal',\n",
    "    ['code_pays', 'pays', 'code_produit', 'produit', 'disp_inter__ktonne']\n",
    "]"
   ]
  },
  {
   "cell_type": "markdown",
   "metadata": {},
   "source": [
    "On merge avec le *ration énergie/poids* moyen des produits"
   ]
  },
  {
   "cell_type": "code",
   "execution_count": 189,
   "metadata": {},
   "outputs": [],
   "source": [
    "df_2 = pd.merge(\n",
    "    vegetaux,\n",
    "    alim_ratio_e_pds_desc,\n",
    "    how='left'\n",
    ")"
   ]
  },
  {
   "cell_type": "markdown",
   "metadata": {},
   "source": [
    "Pour chaque produits, on calcule la disponibilité interieur en kcal"
   ]
  },
  {
   "cell_type": "code",
   "execution_count": 190,
   "metadata": {},
   "outputs": [],
   "source": [
    "# *** code_pays | pays | code_produit | produit | disp_inter__ktonne | ratio_e_pds | disp_inter__kcal ***\n",
    "df_3 = df_2.copy()\n",
    "df_3['disp_inter__kcal'] = df_2['disp_inter__ktonne'] * 1e6 * df_2['ratio_e_pds__kcal_kg']"
   ]
  },
  {
   "cell_type": "code",
   "execution_count": 191,
   "metadata": {},
   "outputs": [],
   "source": [
    "disp_inter_monde_vegetaux__kcal = df_3.disp_inter__kcal.sum()"
   ]
  },
  {
   "cell_type": "markdown",
   "metadata": {},
   "source": [
    "#### Réponse"
   ]
  },
  {
   "cell_type": "code",
   "execution_count": 192,
   "metadata": {
    "scrolled": true
   },
   "outputs": [
    {
     "data": {
      "text/markdown": [
       "\n",
       "<div class=\"alert alert-success\">\n",
       "#### Réponse 6\n",
       "&rArr; La **disponibilité interieure mondiale des produits végétaux** représente *au moins* \n",
       "**13.8 millions de milliards de kcal**.\n"
      ],
      "text/plain": [
       "<IPython.core.display.Markdown object>"
      ]
     },
     "metadata": {},
     "output_type": "display_data"
    }
   ],
   "source": [
    "display(Markdown(f\"\"\"\n",
    "<div class=\"alert alert-success\">\n",
    "#### Réponse 6\n",
    "&rArr; La **disponibilité interieure mondiale des produits végétaux** représente *au moins* \n",
    "**{disp_inter_monde_vegetaux__kcal / 1e6 / 1e9:.1f} millions de milliards de kcal**.\n",
    "\"\"\"))"
   ]
  },
  {
   "cell_type": "markdown",
   "metadata": {
    "colab_type": "text",
    "id": "WF9vVte_n5vO"
   },
   "source": [
    "<div class=\"panel panel-info\">\n",
    "\n",
    "  <div class=\"panel-heading\" >\n",
    "    **Question 7 **\n",
    "    <a id=\"question-7\" href=\"#sommaire\" class=\"btn-sm btn-default\" >retour au sommaire</a>\n",
    "  </div>\n",
    "  \n",
    "  <div class=\"panel-body\">\n",
    "    Combien d'humains pourraient être nourris si toute la disponibilité intérieure mondiale de produits végétaux était utilisée pour de la nourriture ? Donnez les résultats en termes de calories, puis de protéines, et exprimez ensuite ces 2 résultats en pourcentage de la population mondiale.\n",
    "  </div>\n",
    "</div>"
   ]
  },
  {
   "cell_type": "markdown",
   "metadata": {},
   "source": [
    "#### *Besoin alimentaire quotidien d'un humain ?*"
   ]
  },
  {
   "cell_type": "markdown",
   "metadata": {},
   "source": [
    "Selon [Jen Paul Charver](https://www.franceinter.fr/personnes/jean-paul-charvet), le besoin alimentaire en calorie est de 2500 kcal/jour/personnes ([Wikipedia](https://fr.wikipedia.org/wiki/Ration_alimentaire))"
   ]
  },
  {
   "cell_type": "markdown",
   "metadata": {},
   "source": [
    "Selon le [CERIN](https://www.cerin.org/notre-mission/), le besoin protéique journalier est entre 50 et 60 g ([source](https://www.cerin.org/actualites/lapport-proteique-en-pratique/))\n",
    "\n",
    "Ce chiffre est confirmé par cette [source](https://www.personal-sport-trainer.com/blog/combien-proteine-jour/) (qui indique que le besoin protéique est de `0.83g/kg/jour`). Le poids moyen d'un personne étant de **[62 kg](https://www.google.fr/search?q=poids+moyen+dans+le+monde&oq=poids+moyen+dans+le+monde&aqs=chrome..69i57j0l5.2761j1j7&sourceid=chrome&ie=UTF-8)**"
   ]
  },
  {
   "cell_type": "code",
   "execution_count": 193,
   "metadata": {},
   "outputs": [],
   "source": [
    "BESOIN_QUOTIDIEN = {\n",
    "    'kcal': 2500, \n",
    "    'g_prot': 55\n",
    "}"
   ]
  },
  {
   "cell_type": "markdown",
   "metadata": {},
   "source": [
    "#### nombre de personnes nourrissables en calories"
   ]
  },
  {
   "cell_type": "code",
   "execution_count": 194,
   "metadata": {
    "scrolled": true
   },
   "outputs": [],
   "source": [
    "# calcul du nombre de personnes que l'on peut nourrir\n",
    "nb_per_nrsable_cal  =  disp_inter_monde_vegetaux__kcal / (BESOIN_QUOTIDIEN['kcal'] * NB_JOUR_ANNEE)"
   ]
  },
  {
   "cell_type": "markdown",
   "metadata": {},
   "source": [
    "#### nombre de personnes nourrissables en protéines"
   ]
  },
  {
   "cell_type": "code",
   "execution_count": 195,
   "metadata": {},
   "outputs": [],
   "source": [
    "# pays | produit | code_produit | disp_inter__ktonne | taux_prot\n",
    "df_1 = pd.merge(\n",
    "    vegetaux[['pays', 'produit', 'code_produit', 'disp_inter__ktonne']],\n",
    "    alim_prct_prot_desc,\n",
    "    how='left'\n",
    ")"
   ]
  },
  {
   "cell_type": "code",
   "execution_count": 196,
   "metadata": {},
   "outputs": [],
   "source": [
    "df_1['disp_inter_prot__kg'] = df_1['disp_inter__ktonne'] * 1e6 * (df_1['prc_prot'] / 100)"
   ]
  },
  {
   "cell_type": "code",
   "execution_count": 197,
   "metadata": {},
   "outputs": [],
   "source": [
    "disp_inter_prot_monde_vegetaux__kg = df_1.disp_inter_prot__kg.sum()"
   ]
  },
  {
   "cell_type": "code",
   "execution_count": 198,
   "metadata": {},
   "outputs": [],
   "source": [
    "nb_per_nrsable_prot = (disp_inter_prot_monde_vegetaux__kg * 1000) / (BESOIN_QUOTIDIEN['g_prot'] * NB_JOUR_ANNEE)"
   ]
  },
  {
   "cell_type": "markdown",
   "metadata": {},
   "source": [
    "#### Réponse"
   ]
  },
  {
   "cell_type": "code",
   "execution_count": 199,
   "metadata": {},
   "outputs": [
    {
     "data": {
      "text/markdown": [
       "\n",
       "<div class=\"alert alert-success\">\n",
       "#### Réponse 7\n",
       "Si tout **la disponibilité intérieur végétale mondiale** était utilisé comme nourriture, elle subviendrait aux besoins :\n",
       "  - caloriques de **15.08 Mds** de personnes (soit **216%** de la population mondiale)\n",
       "  - en protéines de **17.56 Mds** de personnes (soit **251%** de la population mondiale)\n"
      ],
      "text/plain": [
       "<IPython.core.display.Markdown object>"
      ]
     },
     "metadata": {},
     "output_type": "display_data"
    }
   ],
   "source": [
    "display(Markdown(f\"\"\"\n",
    "<div class=\"alert alert-success\">\n",
    "#### Réponse 7\n",
    "Si tout **la disponibilité intérieur végétale mondiale** était utilisé comme nourriture, elle subviendrait aux besoins :\n",
    "  - caloriques de **{nb_per_nrsable_cal/1e9:.2f} Mds** de personnes (soit **{nb_per_nrsable_cal/POP_MONDE*100:.0f}%** de la population mondiale)\n",
    "  - en protéines de **{nb_per_nrsable_prot/1e9:.2f} Mds** de personnes (soit **{nb_per_nrsable_prot/POP_MONDE*100:.0f}%** de la population mondiale)\n",
    "\"\"\"))"
   ]
  },
  {
   "cell_type": "markdown",
   "metadata": {
    "colab_type": "text",
    "id": "WF9vVte_n5vO"
   },
   "source": [
    "<div class=\"panel panel-info\">\n",
    "\n",
    "  <div class=\"panel-heading\" >\n",
    "    **Question 8 **\n",
    "    <a id=\"question-8\" href=\"#sommaire\" class=\"btn-sm btn-default\" >retour au sommaire</a>\n",
    "  </div>\n",
    "  \n",
    "  <div class=\"panel-body\">\n",
    "    Combien d'humains pourraient être nourris si toute la disponibilité alimentaire en produits végétaux (Food) la nourriture végétale destinée aux animaux (Feed) et les pertes de produits végétaux (Waste) étaient utilisés pour de la nourriture ? Donnez les résultats en termes de calories, puis de protéines, et exprimez ensuite ces 2 résultats en pourcentage de la population mondiale.\n",
    "  </div>\n",
    "</div>"
   ]
  },
  {
   "cell_type": "markdown",
   "metadata": {},
   "source": [
    "Pour chaques `pays/produits`, on fait calcule `total_kg = dispo_alim + alim_pr_anim + perte`"
   ]
  },
  {
   "cell_type": "code",
   "execution_count": 200,
   "metadata": {},
   "outputs": [],
   "source": [
    "df_1 = produit_elem_df.loc[\n",
    "    produit_elem_df['origine'] == 'vegetal',\n",
    "    ['code_pays', 'pays', 'code_produit', 'produit', 'disp_alim__kg_an', 'alim_pr_anim__ktonne', 'perte__ktonne']\n",
    "]\n",
    "\n",
    "df_1['total_kg'] = df_1['disp_alim__kg_an'] + df_1['alim_pr_anim__ktonne'] * 1e6 + df_1['perte__ktonne'] * 1e6"
   ]
  },
  {
   "cell_type": "markdown",
   "metadata": {},
   "source": [
    "On merge avec `prod_taux_prot` et `ratio_e_pds`"
   ]
  },
  {
   "cell_type": "code",
   "execution_count": 201,
   "metadata": {},
   "outputs": [],
   "source": [
    "# -- merge avec prod_taux_prot\n",
    "df_1 = pd.merge(\n",
    "    df_1,\n",
    "    alim_prct_prot_desc,\n",
    "    how='left'\n",
    ")\n",
    "# -- merge avec ratio_e_pds\n",
    "df_1 = pd.merge(\n",
    "    df_1,\n",
    "    alim_ratio_e_pds_desc,\n",
    "    how='left'\n",
    ")\n",
    "# et on restreint...\n",
    "df_1 = df_1[['pays', 'produit', 'total_kg', 'ratio_e_pds__kcal_kg', 'prc_prot']]"
   ]
  },
  {
   "cell_type": "markdown",
   "metadata": {},
   "source": [
    "Pour chaque pays/produits, on calule le total en kcal et en protéines"
   ]
  },
  {
   "cell_type": "code",
   "execution_count": 202,
   "metadata": {},
   "outputs": [],
   "source": [
    "# total en kcal\n",
    "df_1['total_kcal'] = df_1['total_kg'] * df_1['ratio_e_pds__kcal_kg']\n",
    "# total en protéines\n",
    "df_1['total_prot_kg'] = df_1['total_kg'] * (df_1['prc_prot'] / 100)"
   ]
  },
  {
   "cell_type": "markdown",
   "metadata": {},
   "source": [
    "on agrèges..."
   ]
  },
  {
   "cell_type": "code",
   "execution_count": 203,
   "metadata": {},
   "outputs": [],
   "source": [
    "total_kcal = df_1.total_kcal.sum()\n",
    "total_prot_kg = df_1.total_prot_kg.sum()"
   ]
  },
  {
   "cell_type": "code",
   "execution_count": 204,
   "metadata": {},
   "outputs": [],
   "source": [
    "nb_per_nrsable_kcal =  total_kcal / (BESOIN_QUOTIDIEN['kcal'] * NB_JOUR_ANNEE)\n",
    "nb_per_nrsable_prot = (total_prot_kg * 1e3) / (BESOIN_QUOTIDIEN['g_prot'] * NB_JOUR_ANNEE)"
   ]
  },
  {
   "cell_type": "markdown",
   "metadata": {},
   "source": [
    "#### Réponse"
   ]
  },
  {
   "cell_type": "code",
   "execution_count": 205,
   "metadata": {},
   "outputs": [
    {
     "data": {
      "text/markdown": [
       "\n",
       "<div class=\"alert alert-success\">\n",
       "#### Réponse 8\n",
       "\n",
       "Si l'on ajoutais aux produits végétaux déjà utilisé pour nourrir des humains,  les produits végétaux perdus et ceux utilisé pour nourrir les animaux, <br>\n",
       "On pourrais satsifaire : \n",
       "- les besoins caloriques de **6.85 Mds** de personnes (soit **98%** de la population)\n",
       "- les besoins protéiques de **8.22 Mds** de personnes (soit **117%** de la population)\n"
      ],
      "text/plain": [
       "<IPython.core.display.Markdown object>"
      ]
     },
     "metadata": {},
     "output_type": "display_data"
    }
   ],
   "source": [
    "display(Markdown(f\"\"\"\n",
    "<div class=\"alert alert-success\">\n",
    "#### Réponse 8\n",
    "\n",
    "Si l'on ajoutais aux produits végétaux déjà utilisé pour nourrir des humains,  les produits végétaux perdus et ceux utilisé pour nourrir les animaux, <br>\n",
    "On pourrais satsifaire : \n",
    "- les besoins caloriques de **{nb_per_nrsable_kcal/1e9:.2f} Mds** de personnes (soit **{nb_per_nrsable_kcal / POP_MONDE * 100:.0f}%** de la population)\n",
    "- les besoins protéiques de **{nb_per_nrsable_prot/1e9:.2f} Mds** de personnes (soit **{nb_per_nrsable_prot / POP_MONDE * 100:.0f}%** de la population)\n",
    "\"\"\"))"
   ]
  },
  {
   "cell_type": "markdown",
   "metadata": {
    "colab_type": "text",
    "id": "WF9vVte_n5vO"
   },
   "source": [
    "<div class=\"panel panel-info\">\n",
    "\n",
    "  <div class=\"panel-heading\" >\n",
    "    **Question 9 **\n",
    "    <a id=\"question-9\" href=\"#sommaire\" class=\"btn-sm btn-default\" >retour au sommaire</a>\n",
    "  </div>\n",
    "  \n",
    "  <div class=\"panel-body\">\n",
    "    Combien d'humains pourraient être nourris avec la disponibilité alimentaire mondiale ? Donnez les résultats en termes de calories, puis de protéines, et exprimez ensuite ces 2 résultats en pourcentage de la population mondiale.\n",
    "  </div>\n",
    "</div>"
   ]
  },
  {
   "cell_type": "markdown",
   "metadata": {},
   "source": [
    "Calcul de `disp_alim__kcal_an` & `disp_alim_prot__kg`"
   ]
  },
  {
   "cell_type": "code",
   "execution_count": 206,
   "metadata": {},
   "outputs": [],
   "source": [
    "## pays | produit | disp_alim__kcal_an | disp_alim__kg_an | prc_prot\n",
    "df = produit_elem_df[['pays', 'produit', 'disp_alim__kcal_an', 'disp_alim__kg_an']]"
   ]
  },
  {
   "cell_type": "code",
   "execution_count": 207,
   "metadata": {},
   "outputs": [],
   "source": [
    "# -- merge avec prod_taux_prot\n",
    "df = pd.merge(\n",
    "    df,\n",
    "    alim_prct_prot_desc,\n",
    "    how='left'\n",
    ")"
   ]
  },
  {
   "cell_type": "code",
   "execution_count": 208,
   "metadata": {},
   "outputs": [],
   "source": [
    "## pays | produit | disp_alim__kcal_an | disp_alim__kg_an | prc_prot | disp_alim_prot__kg\n",
    "df_2 = df.copy()\n",
    "df_2['disp_alim_prot__kg'] = df_2['disp_alim__kg_an'] * (df_2['prc_prot'] / 100)\n",
    "\n",
    "## pays | produit | disp_alim__kcal_an | disp_alim_prot__kg\n",
    "df_2 = df_2[['pays', 'produit', 'disp_alim__kcal_an','disp_alim_prot__kg']]"
   ]
  },
  {
   "cell_type": "code",
   "execution_count": 209,
   "metadata": {},
   "outputs": [],
   "source": [
    "disp_alim__kcal = df_2.disp_alim__kcal_an.sum()\n",
    "disp_alim_prot__kg = df_2.disp_alim_prot__kg.sum()"
   ]
  },
  {
   "cell_type": "markdown",
   "metadata": {},
   "source": [
    "calcul en termes de nombre de personnes"
   ]
  },
  {
   "cell_type": "code",
   "execution_count": 210,
   "metadata": {},
   "outputs": [],
   "source": [
    "nb_per_kcal = disp_alim__kcal / (BESOIN_QUOTIDIEN['kcal'] * NB_JOUR_ANNEE)\n",
    "nb_per_prot = (disp_alim_prot__kg * 1000) / (BESOIN_QUOTIDIEN['g_prot'] * NB_JOUR_ANNEE)"
   ]
  },
  {
   "cell_type": "markdown",
   "metadata": {},
   "source": [
    "##### Réponse"
   ]
  },
  {
   "cell_type": "code",
   "execution_count": 211,
   "metadata": {
    "scrolled": true
   },
   "outputs": [
    {
     "data": {
      "text/markdown": [
       "\n",
       "<div class=\"alert alert-success\">\n",
       "#### Réponse 9\n",
       "La **disponibilité alimentaire mondiale** suffirait a combler :\n",
       "- les besoins caloriques de **8.07 Mds** de personnes (soit **115%** de la population mondiale)\n",
       "- les besoins en protéines de **10.21** Mds de personnes (soit **146%** de la population mondiale)\n"
      ],
      "text/plain": [
       "<IPython.core.display.Markdown object>"
      ]
     },
     "metadata": {},
     "output_type": "display_data"
    }
   ],
   "source": [
    "display(Markdown(f\"\"\"\n",
    "<div class=\"alert alert-success\">\n",
    "#### Réponse 9\n",
    "La **disponibilité alimentaire mondiale** suffirait a combler :\n",
    "- les besoins caloriques de **{nb_per_kcal / 1e9:.2f} Mds** de personnes (soit **{nb_per_kcal / POP_MONDE * 100:.0f}%** de la population mondiale)\n",
    "- les besoins en protéines de **{nb_per_prot / 1e9:.2f}** Mds de personnes (soit **{nb_per_prot / POP_MONDE * 100:.0f}%** de la population mondiale)\n",
    "\"\"\"))"
   ]
  },
  {
   "cell_type": "markdown",
   "metadata": {
    "colab_type": "text",
    "id": "WF9vVte_n5vO"
   },
   "source": [
    "<div class=\"panel panel-info\">\n",
    "\n",
    "  <div class=\"panel-heading\" >\n",
    "    **Question 10 **\n",
    "    <a id=\"question-10\" href=\"#sommaire\" class=\"btn-sm btn-default\" >retour au sommaire</a>\n",
    "  </div>\n",
    "  \n",
    "  <div class=\"panel-body\">\n",
    "    A partir des données téléchargées qui concernent la sous-nutrition, répondez à cette question : Quelle proportion de la population mondiale est considérée comme étant en sous-nutrition ?\n",
    "  </div>\n",
    "</div>"
   ]
  },
  {
   "cell_type": "markdown",
   "metadata": {},
   "source": [
    "On récupère depuis le dataframe `produit_elem_df`"
   ]
  },
  {
   "cell_type": "code",
   "execution_count": 212,
   "metadata": {},
   "outputs": [],
   "source": [
    "nb_per_ss_alim = produit_elem_df[['pays', 'pop_ss_alim']].drop_duplicates().pop_ss_alim.sum()"
   ]
  },
  {
   "cell_type": "code",
   "execution_count": 213,
   "metadata": {},
   "outputs": [
    {
     "data": {
      "text/markdown": [
       "\n",
       "<div class=\"alert alert-success\">\n",
       "#### Réponse 10\n",
       "Il y a **740 millions** de personnes sous alimentés dans le monde. <br>\n",
       "&rArr;  Cela représente **11%** de la population mondiale.\n"
      ],
      "text/plain": [
       "<IPython.core.display.Markdown object>"
      ]
     },
     "metadata": {},
     "output_type": "display_data"
    }
   ],
   "source": [
    "display(Markdown(f\"\"\"\n",
    "<div class=\"alert alert-success\">\n",
    "#### Réponse 10\n",
    "Il y a **{nb_per_ss_alim/1e6:.0f} millions** de personnes sous alimentés dans le monde. <br>\n",
    "&rArr;  Cela représente **{nb_per_ss_alim / POP_MONDE * 100:.0f}%** de la population mondiale.\n",
    "\"\"\"))"
   ]
  },
  {
   "cell_type": "markdown",
   "metadata": {
    "colab_type": "text",
    "id": "WF9vVte_n5vO"
   },
   "source": [
    "<div class=\"panel panel-info\">\n",
    "\n",
    "  <div class=\"panel-heading\" >\n",
    "    **Question 11 **\n",
    "    <a id=\"question-11\" href=\"#sommaire\" class=\"btn-sm btn-default\" >retour au sommaire</a>\n",
    "  </div>\n",
    "  \n",
    "  <div class=\"panel-body\">\n",
    "    En ne prenant en compte que les céréales destinées à l'alimentation (humaine et animale), quelle proportion (en termes de poids) est destinée à l'alimentation animale ?\n",
    "  </div>\n",
    "</div>"
   ]
  },
  {
   "cell_type": "markdown",
   "metadata": {},
   "source": [
    "on récupère les produits qui sont des céréales"
   ]
  },
  {
   "cell_type": "code",
   "execution_count": 214,
   "metadata": {},
   "outputs": [],
   "source": [
    "code_cerales = cere_df['Code Produit'].unique()"
   ]
  },
  {
   "cell_type": "code",
   "execution_count": 215,
   "metadata": {
    "scrolled": false
   },
   "outputs": [],
   "source": [
    "df = produit_elem_df[produit_elem_df['code_produit'].isin(code_cerales)]"
   ]
  },
  {
   "cell_type": "markdown",
   "metadata": {},
   "source": [
    "on agrège..."
   ]
  },
  {
   "cell_type": "code",
   "execution_count": 216,
   "metadata": {},
   "outputs": [],
   "source": [
    "df_1 = df[['alim_pr_anim__ktonne', 'nourriture__ktonne']].sum()\n",
    "prop_anim_alim = df_1.alim_pr_anim__ktonne / df_1.sum() "
   ]
  },
  {
   "cell_type": "markdown",
   "metadata": {},
   "source": [
    "#### Réponse"
   ]
  },
  {
   "cell_type": "code",
   "execution_count": 217,
   "metadata": {},
   "outputs": [
    {
     "data": {
      "text/markdown": [
       "\n",
       "<div class=\"alert alert-success\">\n",
       "#### Réponse 11\n",
       "Utilisation des céréales déstinés à l'alimentation :\n"
      ],
      "text/plain": [
       "<IPython.core.display.Markdown object>"
      ]
     },
     "metadata": {},
     "output_type": "display_data"
    },
    {
     "data": {
      "image/png": "[encoded data removed]",
      "text/plain": [
       "<Figure size 360x360 with 1 Axes>"
      ]
     },
     "metadata": {},
     "output_type": "display_data"
    }
   ],
   "source": [
    "plt.figure(figsize = (5,5))\n",
    "plot = plt.pie(\n",
    "    [prop_anim_alim, 1-prop_anim_alim], \n",
    "    labels=['nourriture animale', 'nourriture humaine'],\n",
    "    autopct = lambda x: str(round(x, 2)) + '%'\n",
    ")\n",
    "display(Markdown(f\"\"\"\n",
    "<div class=\"alert alert-success\">\n",
    "#### Réponse 11\n",
    "Utilisation des céréales déstinés à l'alimentation :\n",
    "\"\"\"))\n",
    "plot = plt.title('Utilisation des céréales utilisés pour nourrir')"
   ]
  },
  {
   "cell_type": "markdown",
   "metadata": {},
   "source": [
    "<div class=\"alert alert-info\">\n",
    "*début de la question 12*"
   ]
  },
  {
   "cell_type": "markdown",
   "metadata": {},
   "source": [
    "Sélectionnez parmi les données des bilans alimentaires les informations relatives aux pays dans lesquels la FAO recense des personnes en sous-nutrition, pour une année choisie."
   ]
  },
  {
   "cell_type": "code",
   "execution_count": 218,
   "metadata": {},
   "outputs": [],
   "source": [
    "df_1 = produit_elem_df.dropna(subset=['pop_ss_alim'])"
   ]
  },
  {
   "cell_type": "markdown",
   "metadata": {},
   "source": [
    "Repérez les 15 produits les plus exportés par ce groupe de pays sur l'année choisie."
   ]
  },
  {
   "cell_type": "code",
   "execution_count": 219,
   "metadata": {},
   "outputs": [],
   "source": [
    "df_2 = df_1[['code_produit', 'produit', 'export__ktonne']]\\\n",
    ".groupby(by=['code_produit', 'produit']).sum().reset_index()\\\n",
    ".sort_values(by='export__ktonne', ascending=False)\n",
    "\n",
    "produit_export_par_pays_ss_alim = df_2.produit[:15]"
   ]
  },
  {
   "cell_type": "code",
   "execution_count": 220,
   "metadata": {},
   "outputs": [
    {
     "data": {
      "text/plain": [
       "38         Huile de Palme\n",
       "2                    Maïs\n",
       "9                  Manioc\n",
       "95       Riz (Eq Blanchi)\n",
       "16          Sucre Eq Brut\n",
       "0                     Blé\n",
       "47        Légumes, Autres\n",
       "52                Bananes\n",
       "58         Fruits, Autres\n",
       "96     Lait - Excl Beurre\n",
       "22                   Soja\n",
       "85    Poissons Pelagiques\n",
       "45                Tomates\n",
       "54                 Pommes\n",
       "48    Oranges, Mandarines\n",
       "Name: produit, dtype: object"
      ]
     },
     "execution_count": 220,
     "metadata": {},
     "output_type": "execute_result"
    }
   ],
   "source": [
    "produit_export_par_pays_ss_alim"
   ]
  },
  {
   "cell_type": "markdown",
   "metadata": {},
   "source": [
    "Parmi les données des bilans alimentaires au niveau mondial, sélectionnez les 200 plus grandes importations de ces produits (1 importation = une quantité d'un produit donné importée par un pays donné sur l'année choisie)"
   ]
  },
  {
   "cell_type": "code",
   "execution_count": 221,
   "metadata": {},
   "outputs": [],
   "source": [
    "df_3 = produit_elem_df.loc[\n",
    "    produit_elem_df['produit'].isin(produit_export_par_pays_ss_alim),\n",
    "   #['pays', 'produit', 'import__ktonne']\n",
    "]\\\n",
    ".sort_values('import__ktonne', ascending=False)\\\n",
    "[:200]"
   ]
  },
  {
   "cell_type": "markdown",
   "metadata": {},
   "source": [
    "Groupez ces importations par produit, afin d'avoir une table contenant 1 ligne pour chacun des 15 produits. Ensuite, calculez pour chaque produit les 2 quantités suivantes :\n",
    "- le ratio entre la quantité destinés aux \"Autres utilisations\" (Other uses) et la disponibilité intérieure.\n",
    "- le ratio entre la quantité destinée à la nourriture animale et la quantité destinée à la nourriture (animale + humaine)"
   ]
  },
  {
   "cell_type": "code",
   "execution_count": 222,
   "metadata": {},
   "outputs": [],
   "source": [
    "## pays | produit | autre_util__ktonne | disp_inter__ktonne | alim_pr_anim__ktonne | nourriture__ktonne\n",
    "df_4 = df_3[['pays', 'produit','autre_util__ktonne','disp_inter__ktonne','alim_pr_anim__ktonne','nourriture__ktonne']]\n",
    "\n",
    "## on fait le groupby produit : les pays sautent\n",
    "## produit | autre_util__ktonne | disp_inter__ktonne | alim_pr_anim__ktonne | nourriture__ktonne\n",
    "df_5 = df_4.groupby('produit').sum().reset_index() # on utilise une somme car on ne manipule que des quantité\n",
    "\n",
    "# Comment sont utilisé (dans les pays importateurs ) les 15 produits les plus éxporté par les pays sous alimenté ?\n",
    "# ce calcul est basé sur les 200 plus grosses importations de ces 15 produits."
   ]
  },
  {
   "cell_type": "code",
   "execution_count": 223,
   "metadata": {},
   "outputs": [],
   "source": [
    "## produit | ratio__autre_util__disp_inter | ratio__alim_pr_anim__nourriture_anim_hum\n",
    "df_6 = df_5.copy()\n",
    "df_6['ratio__autre_util__disp_inter'] = df_6['autre_util__ktonne'] / df_6['disp_inter__ktonne']\n",
    "df_6['ratio__alim_pr_anim__nourriture_anim_hum'] = df_6['alim_pr_anim__ktonne'] / (df_6['alim_pr_anim__ktonne'] + df_6['nourriture__ktonne'])\n",
    "\n",
    "df_6 = df_6[['produit', 'ratio__autre_util__disp_inter', 'ratio__alim_pr_anim__nourriture_anim_hum']]"
   ]
  },
  {
   "cell_type": "markdown",
   "metadata": {
    "colab_type": "text",
    "id": "WF9vVte_n5vO"
   },
   "source": [
    "<div class=\"panel panel-info\">\n",
    "\n",
    "  <div class=\"panel-heading\" >\n",
    "    **Question 12 **\n",
    "    <a id=\"question-12\" href=\"#sommaire\" class=\"btn-sm btn-default\" >retour au sommaire</a>\n",
    "  </div>\n",
    "  \n",
    "  <div class=\"panel-body\">\n",
    "    Donnez les 3 produits qui ont la plus grande valeur pour chacun des 2 ratios (vous aurez donc 6 produits à citer)\n",
    "  </div>\n",
    "</div>"
   ]
  },
  {
   "cell_type": "code",
   "execution_count": 224,
   "metadata": {},
   "outputs": [],
   "source": [
    "ratio__autre_util__disp_inter__3max = df_6[['produit', 'ratio__autre_util__disp_inter']]\\\n",
    ".sort_values('ratio__autre_util__disp_inter', ascending=False)\\\n",
    "[:3]#.produit.values\n",
    "\n",
    "ratio__alim_pr_anim__nourriture_anim_hum__3max = df_6[['produit', 'ratio__alim_pr_anim__nourriture_anim_hum']]\\\n",
    ".sort_values('ratio__alim_pr_anim__nourriture_anim_hum', ascending=False)\\\n",
    "[:3].produit.values"
   ]
  },
  {
   "cell_type": "code",
   "execution_count": 225,
   "metadata": {},
   "outputs": [
    {
     "data": {
      "text/html": [
       "<div>\n",
       "<style scoped>\n",
       "    .dataframe tbody tr th:only-of-type {\n",
       "        vertical-align: middle;\n",
       "    }\n",
       "\n",
       "    .dataframe tbody tr th {\n",
       "        vertical-align: top;\n",
       "    }\n",
       "\n",
       "    .dataframe thead th {\n",
       "        text-align: right;\n",
       "    }\n",
       "</style>\n",
       "<table border=\"1\" class=\"dataframe\">\n",
       "  <thead>\n",
       "    <tr style=\"text-align: right;\">\n",
       "      <th></th>\n",
       "      <th>produit</th>\n",
       "      <th>ratio__autre_util__disp_inter</th>\n",
       "    </tr>\n",
       "  </thead>\n",
       "  <tbody>\n",
       "    <tr>\n",
       "      <th>3</th>\n",
       "      <td>Huile de Palme</td>\n",
       "      <td>0.724803</td>\n",
       "    </tr>\n",
       "    <tr>\n",
       "      <th>6</th>\n",
       "      <td>Manioc</td>\n",
       "      <td>0.302335</td>\n",
       "    </tr>\n",
       "    <tr>\n",
       "      <th>7</th>\n",
       "      <td>Maïs</td>\n",
       "      <td>0.259771</td>\n",
       "    </tr>\n",
       "  </tbody>\n",
       "</table>\n",
       "</div>"
      ],
      "text/plain": [
       "          produit  ratio__autre_util__disp_inter\n",
       "3  Huile de Palme                       0.724803\n",
       "6          Manioc                       0.302335\n",
       "7            Maïs                       0.259771"
      ]
     },
     "execution_count": 225,
     "metadata": {},
     "output_type": "execute_result"
    }
   ],
   "source": [
    "ratio__autre_util__disp_inter__3max"
   ]
  },
  {
   "cell_type": "code",
   "execution_count": 226,
   "metadata": {},
   "outputs": [
    {
     "data": {
      "text/markdown": [
       "\n",
       "<div class=\"alert alert-success\">\n",
       "#### Réponse 12\n",
       "Quelles sont, parles produits les plus exporté par les pays *sous alimentés*\n",
       "<br> <br>\n",
       "&rArr; $ autre\\ utilisation \\over disponibilité\\ intérieur $ : **produit, ratio__autre_util__disp_inter**\n",
       "<br> <br>\n",
       "&rArr; $ aliments\\ pour\\ animaux \\over nourriture\\ (humaine + animale) $ : **Maïs, Poissons Pelagiques, Soja**\n"
      ],
      "text/plain": [
       "<IPython.core.display.Markdown object>"
      ]
     },
     "metadata": {},
     "output_type": "display_data"
    }
   ],
   "source": [
    "display(Markdown(f\"\"\"\n",
    "<div class=\"alert alert-success\">\n",
    "#### Réponse 12\n",
    "Quelles sont, parles produits les plus exporté par les pays *sous alimentés*\n",
    "<br> <br>\n",
    "&rArr; $ autre\\ utilisation \\over disponibilité\\ intérieur $ : **{', '.join(ratio__autre_util__disp_inter__3max)}**\n",
    "<br> <br>\n",
    "&rArr; $ aliments\\ pour\\ animaux \\over nourriture\\ (humaine + animale) $ : **{', '.join(ratio__alim_pr_anim__nourriture_anim_hum__3max)}**\n",
    "\"\"\"))"
   ]
  },
  {
   "cell_type": "markdown",
   "metadata": {
    "colab_type": "text",
    "id": "WF9vVte_n5vO"
   },
   "source": [
    "<div class=\"panel panel-info\">\n",
    "\n",
    "  <div class=\"panel-heading\" >\n",
    "    **Question 13 **\n",
    "    <a id=\"question-13\" href=\"#sommaire\" class=\"btn-sm btn-default\" >retour au sommaire</a>\n",
    "  </div>\n",
    "  \n",
    "  <div class=\"panel-body\">\n",
    "    Combien de tonnes de céréales pourraient être libérées si les USA diminuaient leur production de produits animaux de 10% ?\n",
    "  </div>\n",
    "</div>"
   ]
  },
  {
   "cell_type": "markdown",
   "metadata": {},
   "source": [
    "On calcule la masse de céréales utilisée aux USA pour nourrir les animaux"
   ]
  },
  {
   "cell_type": "code",
   "execution_count": 227,
   "metadata": {
    "scrolled": true
   },
   "outputs": [],
   "source": [
    "qt_cere_pr_anim_ktonne = produit_elem_df.loc[\n",
    "    (produit_elem_df.pays == \"États-Unis d'Amérique\")\n",
    "    & (produit_elem_df.code_produit.isin(code_cerales)),\n",
    "    \"alim_pr_anim__ktonne\"\n",
    "].sum()"
   ]
  },
  {
   "cell_type": "markdown",
   "metadata": {},
   "source": [
    "on prend 10% de cette valeur"
   ]
  },
  {
   "cell_type": "code",
   "execution_count": 228,
   "metadata": {
    "scrolled": true
   },
   "outputs": [],
   "source": [
    "reponse = qt_cere_pr_anim_ktonne * 0.1"
   ]
  },
  {
   "cell_type": "markdown",
   "metadata": {},
   "source": [
    "#### Extra : Combien de personnes pourrait-on nourrir avec cette quantité ?"
   ]
  },
  {
   "cell_type": "code",
   "execution_count": 229,
   "metadata": {},
   "outputs": [],
   "source": [
    "usa_cere = produit_elem_df.loc[\n",
    "    (produit_elem_df.pays == \"États-Unis d'Amérique\")\n",
    "    & (produit_elem_df.code_produit.isin(code_cerales)),\n",
    "    ['alim_pr_anim__ktonne', 'ratio_e_pds__kcal_kg', 'prc_prot']\n",
    "]"
   ]
  },
  {
   "cell_type": "code",
   "execution_count": 230,
   "metadata": {},
   "outputs": [],
   "source": [
    "usa_cere['alim_pr_anim__kcal'] = usa_cere['alim_pr_anim__ktonne'] * 1e6 * usa_cere['ratio_e_pds__kcal_kg']"
   ]
  },
  {
   "cell_type": "code",
   "execution_count": 236,
   "metadata": {},
   "outputs": [],
   "source": [
    "qt_cere_pr_anim_kcal = usa_cere['alim_pr_anim__kcal'].sum()"
   ]
  },
  {
   "cell_type": "code",
   "execution_count": 237,
   "metadata": {
    "scrolled": false
   },
   "outputs": [],
   "source": [
    "# 10% des céréales utilisé pour nourrir les animaux pourrait nourrir combien d'humains ?\n",
    "nb_per_nrsable = (qt_cere_pr_anim_kcal*0.1) / (BESOIN_QUOTIDIEN['kcal'] * NB_JOUR_ANNEE)"
   ]
  },
  {
   "cell_type": "code",
   "execution_count": 238,
   "metadata": {},
   "outputs": [
    {
     "data": {
      "text/markdown": [
       "\n",
       "<div class=\"alert alert-success\">\n",
       "#### Réponse 13\n",
       "&rArr; Si les USA diminuaient leur **production animale de 10%**,\n",
       "Ils libéreraient **14 Ktonnes de céréales**. <br> <br>\n",
       "*Cela permettrait de subvenir aux besoins caloriques de **42 Millions** de personnes*.\n"
      ],
      "text/plain": [
       "<IPython.core.display.Markdown object>"
      ]
     },
     "metadata": {},
     "output_type": "display_data"
    }
   ],
   "source": [
    "display(Markdown(f\"\"\"\n",
    "<div class=\"alert alert-success\">\n",
    "#### Réponse 13\n",
    "&rArr; Si les USA diminuaient leur **production animale de 10%**,\n",
    "Ils libéreraient **{reponse/1e3:.0f} Ktonnes de céréales**. <br> <br>\n",
    "*Cela permettrait de subvenir aux besoins caloriques de **{nb_per_nrsable / 1e6:.0f} Millions** de personnes*.\n",
    "\"\"\"))"
   ]
  },
  {
   "cell_type": "markdown",
   "metadata": {
    "colab_type": "text",
    "id": "WF9vVte_n5vO"
   },
   "source": [
    "<div class=\"panel panel-info\">\n",
    "\n",
    "  <div class=\"panel-heading\" >\n",
    "    **Question 14 **\n",
    "    <a id=\"question-14\" href=\"#sommaire\" class=\"btn-sm btn-default\" >retour au sommaire</a>\n",
    "  </div>\n",
    "  \n",
    "  <div class=\"panel-body\">\n",
    "    En Thaïlande, quel proportion de manioc est exportée ? Quelle est la proportion de personnes en sous-nutrition?\n",
    "  </div>\n",
    "</div>"
   ]
  },
  {
   "cell_type": "code",
   "execution_count": 239,
   "metadata": {
    "scrolled": false
   },
   "outputs": [],
   "source": [
    "# pays='Thaïlande', code_pays=216\n",
    "# produit='Manioc' code_produit=2532\n",
    "\n",
    "# on récupere la ligne qui correspond a Thailand / Manioc sous forme de serie\n",
    "sr = produit_elem_df.loc[\n",
    "    (produit_elem_df['pays'] == 'Thaïlande')\n",
    "    &(produit_elem_df['produit'] == 'Manioc'),\n",
    "].iloc[0]\n",
    "\n",
    "proportion_manioc_export = sr['export__ktonne'] / sr['prod__ktonne']\n",
    "proportion_per_ss_alim = sr['pop_ss_alim'] / sr['pop']"
   ]
  },
  {
   "cell_type": "code",
   "execution_count": 240,
   "metadata": {
    "scrolled": true
   },
   "outputs": [
    {
     "data": {
      "text/markdown": [
       "\n",
       "\n",
       "<div class=\"alert alert-success\">\n",
       "#### Réponse 14\n",
       "\n",
       "En Thaïlande, **83%** du manioc produit est exporté alors que\n",
       "**9%** de la population est sous-alimentée.\n"
      ],
      "text/plain": [
       "<IPython.core.display.Markdown object>"
      ]
     },
     "metadata": {},
     "output_type": "display_data"
    }
   ],
   "source": [
    "display(Markdown(f\"\"\"\n",
    "\n",
    "<div class=\"alert alert-success\">\n",
    "#### Réponse 14\n",
    "\n",
    "En Thaïlande, **{proportion_manioc_export*100:.0f}%** du manioc produit est exporté alors que\n",
    "**{proportion_per_ss_alim*100:.0f}%** de la population est sous-alimentée.\n",
    "\"\"\"))"
   ]
  }
 ],
 "metadata": {
  "colab": {
   "name": "Untitled.ipynb",
   "provenance": [],
   "version": "0.3.2"
  },
  "kernelspec": {
   "display_name": "Python 3",
   "language": "python",
   "name": "python3"
  },
  "language_info": {
   "codemirror_mode": {
    "name": "ipython",
    "version": 3
   },
   "file_extension": ".py",
   "mimetype": "text/x-python",
   "name": "python",
   "nbconvert_exporter": "python",
   "pygments_lexer": "ipython3",
   "version": "3.6.5"
  }
 },
 "nbformat": 4,
 "nbformat_minor": 1
}
