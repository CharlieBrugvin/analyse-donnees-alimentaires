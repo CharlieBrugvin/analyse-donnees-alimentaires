{
 "cells": [
  {
   "cell_type": "code",
   "execution_count": 1,
   "metadata": {},
   "outputs": [],
   "source": [
    "import pandas as pd\n",
    "import numpy as np\n",
    "from sqlalchemy import create_engine\n",
    "import functions as fct\n",
    "from IPython.display import display, Markdown\n",
    "import math"
   ]
  },
  {
   "cell_type": "markdown",
   "metadata": {},
   "source": [
    "# Base de Donnée SQL des données de la FAO\n",
    "\n",
    "Shéma de la base de donnée :\n",
    "\n",
    "- table **population**: ` pays | code_pays | annee | population`\n",
    "- table **dispo_alim** `pays | code_pays | annee | produit | code_produit | nature | dispo_alim_tonnes | dispo_alim_kcal_p_j | dispo_prot | dispo_mat_gr`\n",
    "- table **equilibre_prod** : `pays | code_pays | annee | produit | code_produit | dispo_int | alim_ani | semences | pertes | transfo | nourriture | autre_utilisations`\n",
    "- table **sous_nutrition** : `pays | code_pays | annee | nb_personnes`\n",
    "- *extra* : table **stock** : `pays | code_pays | annee | produit | code_produit | nature | dispo_int | production | importation | exportation | variation_stock`\n",
    "\n",
    "&rArr; **l'étude porte sur les années 2012 et 2013**"
   ]
  },
  {
   "cell_type": "markdown",
   "metadata": {},
   "source": [
    "## Sommaire <span id=\"sommaire\"> </span>\n",
    "\n",
    "[**Préparation de la base de donnée SQLite**](#preparation-bdd)\n",
    "\n",
    "**préparation des données** :\n",
    "- [Création de `produits` et de `population`](#produits)\n",
    "- [Mise de `population` dans la base de donnée](#population)\n",
    "- [*dataframe* `dispo_alim`](#dispo_alim)\n",
    "- [*dataframe* `equilibre_prod`](#equilibre_prod)\n",
    "- [*dataframe* `sous_nutrition`](#sous_nutrition)\n",
    "\n",
    "liens rapide vers les questions :\n",
    "- [question-15](#question-15)\n",
    "- [question-16](#question-16)\n",
    "- [question-17](#question-17)\n",
    "- [question-18](#question-18)\n",
    "- [question-19](#question-19)\n",
    "- [question-20](#question-20)"
   ]
  },
  {
   "cell_type": "markdown",
   "metadata": {},
   "source": [
    "## Préparation de la base de donnée SQLite <a id=\"preparation-bdd\" href=\"#sommaire\" class=\"btn-sm btn-default\" >retour au sommaire</a>\n",
    "\n",
    "On utilisera comme SGBDR `SQLite`. <br>\n",
    "Comme ORM (BDD-API) `SQLAlchemy`. <br>\n",
    "Et `Pandas` pour enregister et requêter."
   ]
  },
  {
   "cell_type": "code",
   "execution_count": 2,
   "metadata": {},
   "outputs": [],
   "source": [
    "bdd_path = '../3_base_de_donnee/'\n",
    "\n",
    "# on créé l'engine avec SQLAlchemy\n",
    "bdd_engine = create_engine(f'sqlite:///{bdd_path}donnees_alimentaires.sqlite3')"
   ]
  },
  {
   "cell_type": "markdown",
   "metadata": {},
   "source": [
    "## Préparation des données"
   ]
  },
  {
   "cell_type": "markdown",
   "metadata": {},
   "source": [
    "On a téléchargé les fichiers csv relatifs aux animaux et végétaux qui nous intéresse. <br>\n",
    "Nous allons créer un unique dataframe `produit` de données bruts.\n",
    "\n",
    "On construira les `dataframe` représentant nos table directement depuis ce dataframe.\n",
    "\n",
    "### Création de `produits` et de `population` <a id=\"produits\" href=\"#sommaire\" class=\"btn-sm btn-default\" >retour au sommaire</a>"
   ]
  },
  {
   "cell_type": "code",
   "execution_count": 3,
   "metadata": {},
   "outputs": [],
   "source": [
    "vegetaux = pd.read_csv('datas_from_fao/vegetaux.csv')\n",
    "animaux = pd.read_csv('datas_from_fao/animaux.csv')"
   ]
  },
  {
   "cell_type": "markdown",
   "metadata": {},
   "source": [
    "ajout de la colonne `nature`"
   ]
  },
  {
   "cell_type": "code",
   "execution_count": 4,
   "metadata": {},
   "outputs": [],
   "source": [
    "vegetaux['nature'] = 'végétal'\n",
    "animaux['nature'] = 'animal'"
   ]
  },
  {
   "cell_type": "markdown",
   "metadata": {},
   "source": [
    "fusion des **végétaux** et des **animaux** pour créer **produits**"
   ]
  },
  {
   "cell_type": "code",
   "execution_count": 5,
   "metadata": {},
   "outputs": [],
   "source": [
    "produits = pd.concat([vegetaux, animaux])"
   ]
  },
  {
   "cell_type": "markdown",
   "metadata": {},
   "source": [
    "renommage des colonnes"
   ]
  },
  {
   "cell_type": "code",
   "execution_count": 6,
   "metadata": {},
   "outputs": [],
   "source": [
    "produits.rename(columns={\n",
    "'Code Pays' : 'code_pays',\n",
    "'Pays' : 'pays',\n",
    "'Code Élément' : 'code_element',\n",
    "'Élément' : 'element',\n",
    "'Code Produit' : 'code_produit',\n",
    "'Produit' : 'produit',\n",
    "'Code Année': 'code_annee',\n",
    "'Année' : 'annee',\n",
    "'Unité' : 'unite',\n",
    "'Valeur' : 'valeur',\n",
    "}, inplace=True)"
   ]
  },
  {
   "cell_type": "markdown",
   "metadata": {},
   "source": [
    "suppression des colonnes inutiles"
   ]
  },
  {
   "cell_type": "code",
   "execution_count": 7,
   "metadata": {},
   "outputs": [],
   "source": [
    "produits = produits[[\n",
    "    'code_pays',\n",
    "    'pays', \n",
    "    'code_element', \n",
    "    'element', \n",
    "    'code_produit', \n",
    "    'produit', \n",
    "    'annee', \n",
    "    'unite', \n",
    "    'valeur',\n",
    "    'nature'\n",
    "]]"
   ]
  },
  {
   "cell_type": "markdown",
   "metadata": {},
   "source": [
    "suppression de la **Chine** (on garde ses provinces)"
   ]
  },
  {
   "cell_type": "code",
   "execution_count": 8,
   "metadata": {},
   "outputs": [],
   "source": [
    "produits = produits[produits.code_pays!=351]"
   ]
  },
  {
   "cell_type": "markdown",
   "metadata": {},
   "source": [
    "Maintenant, la colonne `element` contient les *produits* et l'élément `Population totale`.\n",
    "<br> On va séparer les lignes avec un élément `Population totale` des produits."
   ]
  },
  {
   "cell_type": "code",
   "execution_count": 9,
   "metadata": {},
   "outputs": [],
   "source": [
    "population = produits[produits['produit'] == 'Population']\n",
    "produits = produits[produits['produit'] != 'Population']"
   ]
  },
  {
   "cell_type": "markdown",
   "metadata": {},
   "source": [
    "On transforme la population pour qu'elle soit sous cette forme `pays | code_pays | annee | population`"
   ]
  },
  {
   "cell_type": "code",
   "execution_count": 10,
   "metadata": {},
   "outputs": [],
   "source": [
    "population = population.pivot_table(\n",
    "    index=['code_pays', 'pays', 'annee'],\n",
    "    columns=['produit'],\n",
    "    values=['valeur']\n",
    ").reset_index()\n",
    "\n",
    "population.columns = [\n",
    "    'code_pays', 'pays', 'annee', 'population'\n",
    "]"
   ]
  },
  {
   "cell_type": "markdown",
   "metadata": {},
   "source": [
    "La popultion est exprimé en *miller de personnes*, on veut l'éxpirmer en *personnes*"
   ]
  },
  {
   "cell_type": "code",
   "execution_count": 11,
   "metadata": {},
   "outputs": [],
   "source": [
    "population.population *= 1000"
   ]
  },
  {
   "cell_type": "markdown",
   "metadata": {},
   "source": [
    "<hr>"
   ]
  },
  {
   "cell_type": "markdown",
   "metadata": {},
   "source": [
    "On transforme maintenant `produits` avec un **pivot table** pour obtenir la table :\n",
    "\n",
    "`code_pays| pays| code_produit| produit| nature| annee| alim_ani| autres_utilisations| dispo_alim_kcal_p_j| dispo_alim_kg_p_an| dispo_mat_gr| dispo_prot| dispo_int| nourriture| pertes| semences| traitement`"
   ]
  },
  {
   "cell_type": "code",
   "execution_count": 12,
   "metadata": {
    "scrolled": true
   },
   "outputs": [],
   "source": [
    "produits = produits.pivot_table(\n",
    "    index=['code_pays', 'pays', 'code_produit', 'produit', 'nature', 'annee'],\n",
    "    columns=['element'],\n",
    "    values=['valeur'], \n",
    "    aggfunc=sum\n",
    ").reset_index()"
   ]
  },
  {
   "cell_type": "code",
   "execution_count": 13,
   "metadata": {},
   "outputs": [],
   "source": [
    "# renommage des colonnes\n",
    "produits.columns = [\n",
    "    'code_pays',\n",
    "    'pays',\n",
    "    'code_produit',\n",
    "    'produit',\n",
    "    'nature',\n",
    "    'annee',\n",
    "    'alim_ani',\n",
    "    'autres_utilisations',\n",
    "    'dispo_alim_kcal_p_j',\n",
    "    'dispo_alim_kg_p_an',\n",
    "    'dispo_mat_gr',\n",
    "    'dispo_prot',\n",
    "    'dispo_int',\n",
    "    'exportation',\n",
    "    'importation',\n",
    "    'nourriture',\n",
    "    'pertes',\n",
    "    'production',\n",
    "    'semences',\n",
    "    'traitement', # transformation ?\n",
    "    'variation_stock'\n",
    "]"
   ]
  },
  {
   "cell_type": "markdown",
   "metadata": {},
   "source": [
    "on merge avec population pour obtenir : `code_pays| pays| code_produit| produit| ... | population`\n",
    "\n",
    "*Ici on fait une jointure interne sur code_pays, car ce sont les mêmes dans les deux tables*"
   ]
  },
  {
   "cell_type": "code",
   "execution_count": 14,
   "metadata": {},
   "outputs": [],
   "source": [
    "produits = pd.merge(\n",
    "    produits,\n",
    "    population,\n",
    ")"
   ]
  },
  {
   "cell_type": "markdown",
   "metadata": {},
   "source": [
    "on calcule `dispo_alim_tonnes` a partir de `dispo_alimentaire_kg_per_an` et `population`"
   ]
  },
  {
   "cell_type": "code",
   "execution_count": 15,
   "metadata": {},
   "outputs": [],
   "source": [
    "produits['dispo_alim_tonnes'] = (produits['dispo_alim_kg_p_an'] * produits['population']) / 1000"
   ]
  },
  {
   "cell_type": "markdown",
   "metadata": {},
   "source": [
    "### Mise de `population` dans la base de donnée <a id=\"population\" href=\"#sommaire\" class=\"btn-sm btn-default\" >retour au sommaire</a>"
   ]
  },
  {
   "cell_type": "code",
   "execution_count": 16,
   "metadata": {},
   "outputs": [],
   "source": [
    "population.to_sql(\n",
    "    name='population', # nom de la table\n",
    "    con=bdd_engine, # connexion utilisé (ici, celle donnée par SQLAlchemy)\n",
    "    index=False,  # on ne veut pas écrire les index dans la table\n",
    "    if_exists='replace' # si la table existe déjà, on l'écrase\n",
    ")"
   ]
  },
  {
   "cell_type": "markdown",
   "metadata": {},
   "source": [
    "On l'enregistre aussi en csv"
   ]
  },
  {
   "cell_type": "code",
   "execution_count": 17,
   "metadata": {},
   "outputs": [],
   "source": [
    "population.to_csv(f'{bdd_path}tables_csv/population.csv')"
   ]
  },
  {
   "cell_type": "markdown",
   "metadata": {},
   "source": [
    "<div class=\"panel panel-info\">\n",
    "  <div class=\"panel-heading\" >\n",
    "    **Question 15**\n",
    "    <a id=\"question-15\" href=\"#sommaire\" class=\"btn-sm btn-default\" >retour au sommaire</a>\n",
    "  </div>\n",
    "  <div class=\"panel-body\">\n",
    "   Proposez une clé primaire pertinente pour cette table.\n",
    "  </div>\n",
    "</div>"
   ]
  },
  {
   "cell_type": "code",
   "execution_count": 18,
   "metadata": {},
   "outputs": [
    {
     "data": {
      "text/markdown": [
       "\n",
       "<div class=\"alert alert-success\">\n",
       "`(code_pays, annee)` est une clefs primaires ? **Oui**\n"
      ],
      "text/plain": [
       "<IPython.core.display.Markdown object>"
      ]
     },
     "metadata": {},
     "output_type": "display_data"
    }
   ],
   "source": [
    "display(Markdown(f\"\"\"\n",
    "<div class=\"alert alert-success\">\n",
    "`(code_pays, annee)` est une clefs primaires ? \\\n",
    "{'**Oui**' if fct.isPrimaryKey(population, ['code_pays', 'annee']) else '**Non**'}\n",
    "\"\"\"))"
   ]
  },
  {
   "cell_type": "markdown",
   "metadata": {},
   "source": [
    "### *dataframe* `dispo_alim` <a id=\"dispo_alim\" href=\"#sommaire\" class=\"btn-sm btn-default\" >retour au sommaire</a>\n",
    "Nous voulons créér le dataframe **dispo_alim** : <br>\n",
    "`pays | code_pays | annee | produit | code_produit | nature | dispo_alim_tonnes | dispo_alim_kcal_p_j | dispo_prot | dispo_mat_gr`"
   ]
  },
  {
   "cell_type": "markdown",
   "metadata": {},
   "source": [
    "#### création"
   ]
  },
  {
   "cell_type": "markdown",
   "metadata": {},
   "source": [
    "On sélectionne les colonnes de `produits` qui nous intéresse"
   ]
  },
  {
   "cell_type": "code",
   "execution_count": 19,
   "metadata": {},
   "outputs": [],
   "source": [
    "dispo_alim = produits[[ 'pays', 'code_pays', 'annee', 'produit','code_produit','nature',\n",
    "          'dispo_alim_tonnes','dispo_alim_kcal_p_j','dispo_prot','dispo_mat_gr'\n",
    "]]"
   ]
  },
  {
   "cell_type": "markdown",
   "metadata": {},
   "source": [
    "On supprime les lignes qui n'ont que des éléments `null`"
   ]
  },
  {
   "cell_type": "code",
   "execution_count": 20,
   "metadata": {},
   "outputs": [],
   "source": [
    "dispo_alim = dispo_alim.dropna(\n",
    "    subset=['dispo_alim_tonnes', 'dispo_alim_kcal_p_j', 'dispo_prot', 'dispo_mat_gr'],\n",
    "    how='all'\n",
    ")"
   ]
  },
  {
   "cell_type": "markdown",
   "metadata": {},
   "source": [
    "#### mise dans la base de donnée"
   ]
  },
  {
   "cell_type": "code",
   "execution_count": 21,
   "metadata": {},
   "outputs": [
    {
     "name": "stdout",
     "output_type": "stream",
     "text": [
      "CPU times: user 4.09 s, sys: 42.9 ms, total: 4.14 s\n",
      "Wall time: 4.3 s\n"
     ]
    }
   ],
   "source": [
    "%%time\n",
    "dispo_alim.to_sql('dispo_alim', con=bdd_engine, if_exists='replace', chunksize=1000, index=False)\n",
    "# si il y a trop de lignes d'un coup, la commande bug\n",
    "# c'est pouquroi j'ai mis chunksize : elle sera appelée plusieurs fois sur des trançons de 1000 lignes"
   ]
  },
  {
   "cell_type": "markdown",
   "metadata": {},
   "source": [
    "on enregistre aussi la table en csv"
   ]
  },
  {
   "cell_type": "code",
   "execution_count": 22,
   "metadata": {},
   "outputs": [],
   "source": [
    "dispo_alim.to_csv(f'{bdd_path}tables_csv/dispo_alim.csv', index=False)"
   ]
  },
  {
   "cell_type": "markdown",
   "metadata": {},
   "source": [
    "<div class=\"panel panel-info\">\n",
    "  <div class=\"panel-heading\" >\n",
    "    **Question 16**\n",
    "    <a id=\"question-16\" href=\"#sommaire\" class=\"btn-sm btn-default\" >retour au sommaire</a>\n",
    "  </div>\n",
    "  <div class=\"panel-body\">\n",
    "   Proposez une clé primaire pertinente pour cette table.\n",
    "  </div>\n",
    "</div>"
   ]
  },
  {
   "cell_type": "code",
   "execution_count": 23,
   "metadata": {},
   "outputs": [
    {
     "data": {
      "text/markdown": [
       "\n",
       "<div class=\"alert alert-success\">\n",
       "`(code_pays, code_produit, annee)` est une clef primaire ? **True**\n"
      ],
      "text/plain": [
       "<IPython.core.display.Markdown object>"
      ]
     },
     "metadata": {},
     "output_type": "display_data"
    }
   ],
   "source": [
    "display(Markdown(f\"\"\"\n",
    "<div class=\"alert alert-success\">\n",
    "`(code_pays, code_produit, annee)` est une clef primaire ? **{fct.isPrimaryKey(dispo_alim, ['code_pays', 'code_produit', 'annee'])}**\n",
    "\"\"\"))"
   ]
  },
  {
   "cell_type": "markdown",
   "metadata": {},
   "source": [
    "### *dataframe* `equilibre_prod`  <a id=\"equilibre_prod\" href=\"#sommaire\" class=\"btn-sm btn-default\" >retour au sommaire</a>\n",
    "On veut créer le *dataframe* **equilibre_prod** : <br>\n",
    "`pays | code_pays | annee | produit | code_produit | nature | dispo_int | alim_ani | semences | pertes | traitement | nourriture | autres_utilisations`"
   ]
  },
  {
   "cell_type": "markdown",
   "metadata": {},
   "source": [
    "#### Création"
   ]
  },
  {
   "cell_type": "markdown",
   "metadata": {},
   "source": [
    "on projette sur les colonnes que l'on veut"
   ]
  },
  {
   "cell_type": "code",
   "execution_count": 24,
   "metadata": {},
   "outputs": [],
   "source": [
    "equilibre_prod = produits[['pays', 'code_pays', 'annee', 'produit', 'code_produit', 'nature', 'dispo_int', \n",
    "                   'alim_ani', 'semences', 'pertes', 'traitement', 'nourriture', 'autres_utilisations']]"
   ]
  },
  {
   "cell_type": "markdown",
   "metadata": {},
   "source": [
    "suppression des lignes avec des éléments `null`"
   ]
  },
  {
   "cell_type": "code",
   "execution_count": 25,
   "metadata": {},
   "outputs": [],
   "source": [
    "equilibre_prod = equilibre_prod.dropna(\n",
    "    subset=['dispo_int', 'alim_ani', 'semences', 'pertes', 'traitement', 'nourriture', 'autres_utilisations'],\n",
    "    how='all'\n",
    ")"
   ]
  },
  {
   "cell_type": "markdown",
   "metadata": {},
   "source": [
    "#### mise dans la base de donnée"
   ]
  },
  {
   "cell_type": "code",
   "execution_count": 26,
   "metadata": {},
   "outputs": [
    {
     "name": "stdout",
     "output_type": "stream",
     "text": [
      "CPU times: user 4.83 s, sys: 15.8 ms, total: 4.84 s\n",
      "Wall time: 4.98 s\n"
     ]
    }
   ],
   "source": [
    "%%time\n",
    "equilibre_prod.to_sql(name='equilibre_prod', con=bdd_engine, if_exists='replace', index=False, chunksize=1000)"
   ]
  },
  {
   "cell_type": "markdown",
   "metadata": {},
   "source": [
    "on enregistre aussi le dataframe en csv"
   ]
  },
  {
   "cell_type": "code",
   "execution_count": 27,
   "metadata": {},
   "outputs": [],
   "source": [
    "equilibre_prod.to_csv(f'{bdd_path}tables_csv/equilibre_prod.csv', index=False)"
   ]
  },
  {
   "cell_type": "markdown",
   "metadata": {},
   "source": [
    "<div class=\"panel panel-info\">\n",
    "  <div class=\"panel-heading\" >\n",
    "    **Question 17**\n",
    "    <a id=\"question-17\" href=\"#sommaire\" class=\"btn-sm btn-default\" >retour au sommaire</a>\n",
    "  </div>\n",
    "  <div class=\"panel-body\">\n",
    "     Proposez une clé primaire pertinente pour cette table.\n",
    "  </div>\n",
    "</div>"
   ]
  },
  {
   "cell_type": "code",
   "execution_count": 28,
   "metadata": {},
   "outputs": [
    {
     "data": {
      "text/markdown": [
       "\n",
       "<div class=\"alert alert-success\">\n",
       "*`code_produit, code_pays, annee`* est une clef primaire ? **True**\n"
      ],
      "text/plain": [
       "<IPython.core.display.Markdown object>"
      ]
     },
     "metadata": {},
     "output_type": "display_data"
    }
   ],
   "source": [
    "display(Markdown(f\"\"\"\n",
    "<div class=\"alert alert-success\">\n",
    "*`code_produit, code_pays, annee`* est une clef primaire ?\\\n",
    " **{fct.isPrimaryKey(equilibre_prod, ['code_produit', 'code_pays', 'annee'])}**\n",
    "\"\"\"))"
   ]
  },
  {
   "cell_type": "markdown",
   "metadata": {},
   "source": [
    "### *dataframe* `sous_nutrition` <a id=\"sous_nutrition\" href=\"#sommaire\" class=\"btn-sm btn-default\" >retour au sommaire</a>\n",
    "On veut le *dataframe* **sous_nutrition** : <br> `pays | code_pays | annee | nb_personnes`\n",
    "\n",
    "Celui-ci sera créé à partir d'un autre fichier csv, téléchargé depuis une rubrique différente de la **FAO**"
   ]
  },
  {
   "cell_type": "markdown",
   "metadata": {},
   "source": [
    "#### création"
   ]
  },
  {
   "cell_type": "code",
   "execution_count": 29,
   "metadata": {},
   "outputs": [],
   "source": [
    "sous_nutrition = pd.read_csv('datas_from_fao/sous_alim.csv')"
   ]
  },
  {
   "cell_type": "markdown",
   "metadata": {},
   "source": [
    "on ne garde que les colonnes qui nous intéresse"
   ]
  },
  {
   "cell_type": "code",
   "execution_count": 30,
   "metadata": {},
   "outputs": [],
   "source": [
    "sous_nutrition = sous_nutrition[['Zone', 'Code zone', 'Année', 'Valeur']]"
   ]
  },
  {
   "cell_type": "markdown",
   "metadata": {},
   "source": [
    "on renomme les colonnes"
   ]
  },
  {
   "cell_type": "code",
   "execution_count": 31,
   "metadata": {},
   "outputs": [],
   "source": [
    "sous_nutrition.rename(columns={\n",
    "    'Zone': 'pays',\n",
    "    'Code zone': 'code_pays',\n",
    "    'Année': 'annee',\n",
    "    'Valeur': 'nb_personnes'\n",
    "}, inplace=True)"
   ]
  },
  {
   "cell_type": "markdown",
   "metadata": {},
   "source": [
    "le nombre de personnes sous alimentées est exprimé en millions, on veut l'exprimer en unité\n"
   ]
  },
  {
   "cell_type": "code",
   "execution_count": 32,
   "metadata": {},
   "outputs": [],
   "source": [
    "sous_nutrition['nb_personnes'] *= 1e6"
   ]
  },
  {
   "cell_type": "markdown",
   "metadata": {},
   "source": [
    "on change l'expression des années, pour qu'elle corresponde aux autre dataframes :"
   ]
  },
  {
   "cell_type": "code",
   "execution_count": 33,
   "metadata": {},
   "outputs": [],
   "source": [
    "sous_nutrition.replace('2011-2013', '2012', inplace=True)\n",
    "sous_nutrition.replace('2012-2014', '2013',  inplace=True)"
   ]
  },
  {
   "cell_type": "markdown",
   "metadata": {},
   "source": [
    "La **FAO** distingue les `zones` des `pays` (`pays` est un sous-ensemble de `zone`). <br>\n",
    "On ne va garder que les `zones` qui correspondent aux `pays` de `produits` "
   ]
  },
  {
   "cell_type": "code",
   "execution_count": 34,
   "metadata": {},
   "outputs": [],
   "source": [
    "sous_nutrition = sous_nutrition[ sous_nutrition.code_pays.isin(produits.code_pays.unique()) ]"
   ]
  },
  {
   "cell_type": "markdown",
   "metadata": {},
   "source": [
    "on supprime les pays qui ont une valeur `null`"
   ]
  },
  {
   "cell_type": "code",
   "execution_count": 35,
   "metadata": {},
   "outputs": [],
   "source": [
    "sous_nutrition.dropna(\n",
    "    subset=['nb_personnes'],\n",
    "    how='all',\n",
    "    inplace=True\n",
    ")"
   ]
  },
  {
   "cell_type": "markdown",
   "metadata": {},
   "source": [
    "#### Mise dans la base de donnée"
   ]
  },
  {
   "cell_type": "code",
   "execution_count": 38,
   "metadata": {},
   "outputs": [],
   "source": [
    "sous_nutrition.to_sql(name='sous_nutrition', con=bdd_engine, if_exists='replace', index=False)"
   ]
  },
  {
   "cell_type": "code",
   "execution_count": 39,
   "metadata": {},
   "outputs": [],
   "source": [
    "sous_nutrition.to_csv(f'{bdd_path}tables_csv/sous_nutrition.csv', index=False)"
   ]
  },
  {
   "cell_type": "markdown",
   "metadata": {},
   "source": [
    "<div class=\"panel panel-info\">\n",
    "  <div class=\"panel-heading\" >\n",
    "    **Question 18**\n",
    "    <a id=\"question-18\" href=\"#sommaire\" class=\"btn-sm btn-default\" >retour au sommaire</a>\n",
    "  </div>\n",
    "  <div class=\"panel-body\">\n",
    "     Vous vous en doutez... proposez encore une fois une clé primaire pertinente pour cette table !\n",
    "  </div>\n",
    "</div>"
   ]
  },
  {
   "cell_type": "code",
   "execution_count": 40,
   "metadata": {
    "scrolled": false
   },
   "outputs": [
    {
     "data": {
      "text/markdown": [
       "\n",
       "<div class=\"alert alert-success\">\n",
       "`code_pays, annee` est une clefs primaire ? **True**\n"
      ],
      "text/plain": [
       "<IPython.core.display.Markdown object>"
      ]
     },
     "metadata": {},
     "output_type": "display_data"
    }
   ],
   "source": [
    "display(Markdown(f\"\"\"\n",
    "<div class=\"alert alert-success\">\n",
    "`code_pays, annee` est une clefs primaire ? \\\n",
    "**{fct.isPrimaryKey(sous_nutrition, ['code_pays', 'annee'])}**\n",
    "\"\"\"))"
   ]
  },
  {
   "cell_type": "markdown",
   "metadata": {},
   "source": [
    "### **extra** : *dataframe*  stock\n",
    "\n",
    "On sait que : `Disponibilité intérieure  = Production + Importation - Exportation + evolution stock`\n",
    "\n",
    "On peut faire une table **stock** : `pays | code_pays | annee | produit | code_produit | nature | dispo_int | production | importation | exportation | variation_stock`"
   ]
  },
  {
   "cell_type": "markdown",
   "metadata": {},
   "source": [
    "#### Création"
   ]
  },
  {
   "cell_type": "code",
   "execution_count": 41,
   "metadata": {},
   "outputs": [],
   "source": [
    "stock = produits[['pays', 'code_pays', 'annee', 'produit', 'code_produit', 'nature', 'dispo_int', 'production', 'importation', 'exportation', 'variation_stock']]"
   ]
  },
  {
   "cell_type": "markdown",
   "metadata": {},
   "source": [
    "Suppression des valeurs `null`"
   ]
  },
  {
   "cell_type": "code",
   "execution_count": 42,
   "metadata": {},
   "outputs": [],
   "source": [
    "stock = stock.dropna(\n",
    "    subset=['dispo_int', 'production', 'importation', 'exportation', 'variation_stock'],\n",
    "    how='all',\n",
    ")"
   ]
  },
  {
   "cell_type": "markdown",
   "metadata": {},
   "source": [
    "#### Mise dans la base de donnée"
   ]
  },
  {
   "cell_type": "code",
   "execution_count": 43,
   "metadata": {},
   "outputs": [
    {
     "name": "stdout",
     "output_type": "stream",
     "text": [
      "CPU times: user 3.87 s, sys: 35.8 ms, total: 3.9 s\n",
      "Wall time: 4.03 s\n"
     ]
    }
   ],
   "source": [
    "%%time\n",
    "stock.to_sql(name='stock', con=bdd_engine, if_exists='replace', index=False, chunksize=1000)"
   ]
  },
  {
   "cell_type": "code",
   "execution_count": 44,
   "metadata": {},
   "outputs": [],
   "source": [
    "stock.to_csv(f'{bdd_path}tables_csv/stock.csv', index=False)"
   ]
  },
  {
   "cell_type": "markdown",
   "metadata": {},
   "source": [
    "<hr style=\"height:3px; margin:30px\">"
   ]
  },
  {
   "cell_type": "markdown",
   "metadata": {},
   "source": [
    "## Vérification de la base de donnée\n",
    "\n",
    "On vérifie que notre base de donnée à des valeurs pertinentes avec ce que l'on a trouvé précedemment"
   ]
  },
  {
   "cell_type": "markdown",
   "metadata": {},
   "source": [
    "### table population"
   ]
  },
  {
   "cell_type": "code",
   "execution_count": 48,
   "metadata": {},
   "outputs": [
    {
     "data": {
      "text/markdown": [
       "\n",
       "Population mondiale égale a **6997326000**. <br>\n",
       "*valeur trouvé avant* ? **True**\n"
      ],
      "text/plain": [
       "<IPython.core.display.Markdown object>"
      ]
     },
     "metadata": {},
     "output_type": "display_data"
    }
   ],
   "source": [
    "result = pd.read_sql_query(con=bdd_engine, sql=f\"\"\"\n",
    "SELECT SUM(population)\n",
    "FROM population\n",
    "WHERE annee=2013\n",
    "\"\"\").iloc[0,0]\n",
    "\n",
    "display(Markdown(f\"\"\"\n",
    "Population mondiale égale a **6997326000**. <br>\n",
    "*valeur trouvé avant* ? **{result == 6997326000}**\n",
    "\"\"\"))"
   ]
  },
  {
   "cell_type": "code",
   "execution_count": 49,
   "metadata": {},
   "outputs": [
    {
     "data": {
      "text/markdown": [
       "\n",
       "Nombre de pays égal a **174**<br>\n",
       "*valeur trouvé avant* ? **True**\n"
      ],
      "text/plain": [
       "<IPython.core.display.Markdown object>"
      ]
     },
     "metadata": {},
     "output_type": "display_data"
    }
   ],
   "source": [
    "result = pd.read_sql_query(con=bdd_engine, sql=f\"\"\"\n",
    "SELECT COUNT(*)\n",
    "FROM population\n",
    "WHERE annee=2013\n",
    "\"\"\").iloc[0,0]\n",
    "\n",
    "display(Markdown(f\"\"\"\n",
    "Nombre de pays égal a **174**<br>\n",
    "*valeur trouvé avant* ? **{result == 174}**\n",
    "\"\"\"))"
   ]
  },
  {
   "cell_type": "markdown",
   "metadata": {},
   "source": [
    "### table equilibre_prod"
   ]
  },
  {
   "cell_type": "code",
   "execution_count": 50,
   "metadata": {},
   "outputs": [
    {
     "data": {
      "text/markdown": [
       "\n",
       "\n",
       "En théorie `Disponibilité intérieure ` = `Nourriture + Pertes + Semences + Autres utilisations + Aliments pour animaux + traitement`\n",
       "\n",
       "Pourcentage d'erreur sur la base de donnée : **-0.67 %**\n"
      ],
      "text/plain": [
       "<IPython.core.display.Markdown object>"
      ]
     },
     "metadata": {},
     "output_type": "display_data"
    }
   ],
   "source": [
    "result = pd.read_sql_query(con=bdd_engine, sql=f\"\"\"\n",
    "SELECT AVG((dispo_int - somme) / dispo_int * 100) AS prct_erreur_monde\n",
    "FROM(\n",
    "SELECT\n",
    "\tannee, pays, produit,\n",
    "\tdispo_int,\n",
    "    (alim_ani + semences + pertes + traitement + nourriture + autres_utilisations) AS somme\n",
    "FROM equilibre_prod\n",
    "WHERE somme IS NOT NULL\n",
    ")\n",
    "\"\"\").iloc[0,0]\n",
    "\n",
    "display(Markdown(f\"\"\"\n",
    "\n",
    "En théorie `Disponibilité intérieure ` = `Nourriture + Pertes + Semences + Autres utilisations + Aliments pour animaux + traitement`\n",
    "\n",
    "Pourcentage d'erreur sur la base de donnée : **{result:.2f} %**\n",
    "\"\"\"))"
   ]
  },
  {
   "cell_type": "markdown",
   "metadata": {},
   "source": [
    "<hr style=\"height:3px; margin:30px;\">\n",
    "\n",
    "<div class=\"panel panel-info\">\n",
    "  <div class=\"panel-heading\" >\n",
    "    **Question 19**\n",
    "    <a id=\"question-19\" href=\"#sommaire\" class=\"btn-sm btn-default\" >retour au sommaire</a>\n",
    "  </div>\n",
    "  <div class=\"panel-body\">\n",
    "     Question 19 : Écrivez les requêtes SQL permettant de connaître…\n",
    "  </div>\n",
    "</div>"
   ]
  },
  {
   "cell_type": "markdown",
   "metadata": {},
   "source": [
    "<div class=\"alert alert-info\" role=\"alert\">\n",
    "Les 10 pays ayant le plus haut ratio disponibilité alimentaire/habitant en termes de protéines (en kg) par habitant, puis en termes de kcal par habitant.\n",
    "</div>"
   ]
  },
  {
   "cell_type": "code",
   "execution_count": 57,
   "metadata": {
    "scrolled": true
   },
   "outputs": [
    {
     "data": {
      "text/html": [
       "<div>\n",
       "<style scoped>\n",
       "    .dataframe tbody tr th:only-of-type {\n",
       "        vertical-align: middle;\n",
       "    }\n",
       "\n",
       "    .dataframe tbody tr th {\n",
       "        vertical-align: top;\n",
       "    }\n",
       "\n",
       "    .dataframe thead th {\n",
       "        text-align: right;\n",
       "    }\n",
       "</style>\n",
       "<table border=\"1\" class=\"dataframe\">\n",
       "  <thead>\n",
       "    <tr style=\"text-align: right;\">\n",
       "      <th></th>\n",
       "      <th>pays</th>\n",
       "      <th>dispo_prot_g_per_jour</th>\n",
       "    </tr>\n",
       "  </thead>\n",
       "  <tbody>\n",
       "    <tr>\n",
       "      <th>0</th>\n",
       "      <td>Islande</td>\n",
       "      <td>133.06</td>\n",
       "    </tr>\n",
       "    <tr>\n",
       "      <th>1</th>\n",
       "      <td>Chine - RAS de Hong-Kong</td>\n",
       "      <td>129.07</td>\n",
       "    </tr>\n",
       "    <tr>\n",
       "      <th>2</th>\n",
       "      <td>Israël</td>\n",
       "      <td>128.00</td>\n",
       "    </tr>\n",
       "    <tr>\n",
       "      <th>3</th>\n",
       "      <td>Lituanie</td>\n",
       "      <td>124.36</td>\n",
       "    </tr>\n",
       "    <tr>\n",
       "      <th>4</th>\n",
       "      <td>Maldives</td>\n",
       "      <td>122.32</td>\n",
       "    </tr>\n",
       "    <tr>\n",
       "      <th>5</th>\n",
       "      <td>Finlande</td>\n",
       "      <td>117.56</td>\n",
       "    </tr>\n",
       "    <tr>\n",
       "      <th>6</th>\n",
       "      <td>Luxembourg</td>\n",
       "      <td>113.64</td>\n",
       "    </tr>\n",
       "    <tr>\n",
       "      <th>7</th>\n",
       "      <td>Monténégro</td>\n",
       "      <td>111.90</td>\n",
       "    </tr>\n",
       "    <tr>\n",
       "      <th>8</th>\n",
       "      <td>Pays-Bas</td>\n",
       "      <td>111.46</td>\n",
       "    </tr>\n",
       "    <tr>\n",
       "      <th>9</th>\n",
       "      <td>Albanie</td>\n",
       "      <td>111.37</td>\n",
       "    </tr>\n",
       "  </tbody>\n",
       "</table>\n",
       "</div>"
      ],
      "text/plain": [
       "                       pays  dispo_prot_g_per_jour\n",
       "0                   Islande                 133.06\n",
       "1  Chine - RAS de Hong-Kong                 129.07\n",
       "2                    Israël                 128.00\n",
       "3                  Lituanie                 124.36\n",
       "4                  Maldives                 122.32\n",
       "5                  Finlande                 117.56\n",
       "6                Luxembourg                 113.64\n",
       "7                Monténégro                 111.90\n",
       "8                  Pays-Bas                 111.46\n",
       "9                   Albanie                 111.37"
      ]
     },
     "execution_count": 57,
     "metadata": {},
     "output_type": "execute_result"
    }
   ],
   "source": [
    "pd.read_sql_query(con=bdd_engine,sql=f\"\"\"\n",
    "SELECT \n",
    "    pays,\n",
    "    sum(dispo_prot) AS dispo_prot_g_per_jour\n",
    "FROM dispo_alim\n",
    "WHERE annee=2013\n",
    "GROUP BY pays\n",
    "ORDER BY dispo_prot_g_per_jour DESC\n",
    "LIMIT 10\n",
    "\"\"\")"
   ]
  },
  {
   "cell_type": "code",
   "execution_count": 58,
   "metadata": {},
   "outputs": [
    {
     "data": {
      "text/html": [
       "<div>\n",
       "<style scoped>\n",
       "    .dataframe tbody tr th:only-of-type {\n",
       "        vertical-align: middle;\n",
       "    }\n",
       "\n",
       "    .dataframe tbody tr th {\n",
       "        vertical-align: top;\n",
       "    }\n",
       "\n",
       "    .dataframe thead th {\n",
       "        text-align: right;\n",
       "    }\n",
       "</style>\n",
       "<table border=\"1\" class=\"dataframe\">\n",
       "  <thead>\n",
       "    <tr style=\"text-align: right;\">\n",
       "      <th></th>\n",
       "      <th>pays</th>\n",
       "      <th>annee</th>\n",
       "      <th>dispo_alim_kcal_p_jour</th>\n",
       "    </tr>\n",
       "  </thead>\n",
       "  <tbody>\n",
       "    <tr>\n",
       "      <th>0</th>\n",
       "      <td>Autriche</td>\n",
       "      <td>2013</td>\n",
       "      <td>3770.0</td>\n",
       "    </tr>\n",
       "    <tr>\n",
       "      <th>1</th>\n",
       "      <td>Belgique</td>\n",
       "      <td>2013</td>\n",
       "      <td>3737.0</td>\n",
       "    </tr>\n",
       "    <tr>\n",
       "      <th>2</th>\n",
       "      <td>Autriche</td>\n",
       "      <td>2012</td>\n",
       "      <td>3736.0</td>\n",
       "    </tr>\n",
       "    <tr>\n",
       "      <th>3</th>\n",
       "      <td>Belgique</td>\n",
       "      <td>2012</td>\n",
       "      <td>3712.0</td>\n",
       "    </tr>\n",
       "    <tr>\n",
       "      <th>4</th>\n",
       "      <td>Turquie</td>\n",
       "      <td>2013</td>\n",
       "      <td>3708.0</td>\n",
       "    </tr>\n",
       "    <tr>\n",
       "      <th>5</th>\n",
       "      <td>Turquie</td>\n",
       "      <td>2012</td>\n",
       "      <td>3688.0</td>\n",
       "    </tr>\n",
       "    <tr>\n",
       "      <th>6</th>\n",
       "      <td>États-Unis d'Amérique</td>\n",
       "      <td>2012</td>\n",
       "      <td>3685.0</td>\n",
       "    </tr>\n",
       "    <tr>\n",
       "      <th>7</th>\n",
       "      <td>États-Unis d'Amérique</td>\n",
       "      <td>2013</td>\n",
       "      <td>3682.0</td>\n",
       "    </tr>\n",
       "    <tr>\n",
       "      <th>8</th>\n",
       "      <td>Israël</td>\n",
       "      <td>2013</td>\n",
       "      <td>3610.0</td>\n",
       "    </tr>\n",
       "    <tr>\n",
       "      <th>9</th>\n",
       "      <td>Irlande</td>\n",
       "      <td>2013</td>\n",
       "      <td>3602.0</td>\n",
       "    </tr>\n",
       "  </tbody>\n",
       "</table>\n",
       "</div>"
      ],
      "text/plain": [
       "                    pays  annee  dispo_alim_kcal_p_jour\n",
       "0               Autriche   2013                  3770.0\n",
       "1               Belgique   2013                  3737.0\n",
       "2               Autriche   2012                  3736.0\n",
       "3               Belgique   2012                  3712.0\n",
       "4                Turquie   2013                  3708.0\n",
       "5                Turquie   2012                  3688.0\n",
       "6  États-Unis d'Amérique   2012                  3685.0\n",
       "7  États-Unis d'Amérique   2013                  3682.0\n",
       "8                 Israël   2013                  3610.0\n",
       "9                Irlande   2013                  3602.0"
      ]
     },
     "execution_count": 58,
     "metadata": {},
     "output_type": "execute_result"
    }
   ],
   "source": [
    "pd.read_sql_query(con=bdd_engine,sql=f\"\"\"\n",
    "SELECT \n",
    "    pays,\n",
    "    annee,\n",
    "    sum(dispo_alim_kcal_p_j) as dispo_alim_kcal_p_jour\n",
    "FROM dispo_alim\n",
    "GROUP BY pays, annee\n",
    "ORDER BY dispo_alim_kcal_p_jour DESC\n",
    "LIMIT 10\n",
    "\"\"\")"
   ]
  },
  {
   "cell_type": "markdown",
   "metadata": {},
   "source": [
    "<div class=\"alert alert-info\" role=\"alert\">\n",
    "Pour chaque année disponible, les 10 pays ayant le plus faible ratio disponibilité alimentaire/habitant en termes de protéines (en kg) par habitant. Le nombre de lignes de la table renvoyée sera donc égal à 10 fois le nombre d'années disponibles.\n",
    "</div>"
   ]
  },
  {
   "cell_type": "code",
   "execution_count": 59,
   "metadata": {},
   "outputs": [],
   "source": [
    "NB_JOUR_ANNEE = 365"
   ]
  },
  {
   "cell_type": "code",
   "execution_count": 62,
   "metadata": {},
   "outputs": [
    {
     "data": {
      "text/html": [
       "<div>\n",
       "<style scoped>\n",
       "    .dataframe tbody tr th:only-of-type {\n",
       "        vertical-align: middle;\n",
       "    }\n",
       "\n",
       "    .dataframe tbody tr th {\n",
       "        vertical-align: top;\n",
       "    }\n",
       "\n",
       "    .dataframe thead th {\n",
       "        text-align: right;\n",
       "    }\n",
       "</style>\n",
       "<table border=\"1\" class=\"dataframe\">\n",
       "  <thead>\n",
       "    <tr style=\"text-align: right;\">\n",
       "      <th></th>\n",
       "      <th>pays</th>\n",
       "      <th>annee</th>\n",
       "      <th>dispo_prot_g_per_jour</th>\n",
       "    </tr>\n",
       "  </thead>\n",
       "  <tbody>\n",
       "    <tr>\n",
       "      <th>0</th>\n",
       "      <td>Libéria</td>\n",
       "      <td>2013</td>\n",
       "      <td>37.66</td>\n",
       "    </tr>\n",
       "    <tr>\n",
       "      <th>1</th>\n",
       "      <td>Libéria</td>\n",
       "      <td>2012</td>\n",
       "      <td>38.07</td>\n",
       "    </tr>\n",
       "    <tr>\n",
       "      <th>2</th>\n",
       "      <td>Guinée-Bissau</td>\n",
       "      <td>2012</td>\n",
       "      <td>43.80</td>\n",
       "    </tr>\n",
       "    <tr>\n",
       "      <th>3</th>\n",
       "      <td>Guinée-Bissau</td>\n",
       "      <td>2013</td>\n",
       "      <td>44.05</td>\n",
       "    </tr>\n",
       "    <tr>\n",
       "      <th>4</th>\n",
       "      <td>Mozambique</td>\n",
       "      <td>2013</td>\n",
       "      <td>45.68</td>\n",
       "    </tr>\n",
       "    <tr>\n",
       "      <th>5</th>\n",
       "      <td>République centrafricaine</td>\n",
       "      <td>2013</td>\n",
       "      <td>46.04</td>\n",
       "    </tr>\n",
       "    <tr>\n",
       "      <th>6</th>\n",
       "      <td>Madagascar</td>\n",
       "      <td>2013</td>\n",
       "      <td>46.69</td>\n",
       "    </tr>\n",
       "    <tr>\n",
       "      <th>7</th>\n",
       "      <td>Mozambique</td>\n",
       "      <td>2012</td>\n",
       "      <td>46.92</td>\n",
       "    </tr>\n",
       "    <tr>\n",
       "      <th>8</th>\n",
       "      <td>Haïti</td>\n",
       "      <td>2012</td>\n",
       "      <td>47.21</td>\n",
       "    </tr>\n",
       "    <tr>\n",
       "      <th>9</th>\n",
       "      <td>Madagascar</td>\n",
       "      <td>2012</td>\n",
       "      <td>47.25</td>\n",
       "    </tr>\n",
       "    <tr>\n",
       "      <th>10</th>\n",
       "      <td>Haïti</td>\n",
       "      <td>2013</td>\n",
       "      <td>47.70</td>\n",
       "    </tr>\n",
       "    <tr>\n",
       "      <th>11</th>\n",
       "      <td>Zimbabwe</td>\n",
       "      <td>2013</td>\n",
       "      <td>48.32</td>\n",
       "    </tr>\n",
       "    <tr>\n",
       "      <th>12</th>\n",
       "      <td>Congo</td>\n",
       "      <td>2012</td>\n",
       "      <td>49.49</td>\n",
       "    </tr>\n",
       "    <tr>\n",
       "      <th>13</th>\n",
       "      <td>Zimbabwe</td>\n",
       "      <td>2012</td>\n",
       "      <td>50.72</td>\n",
       "    </tr>\n",
       "    <tr>\n",
       "      <th>14</th>\n",
       "      <td>Congo</td>\n",
       "      <td>2013</td>\n",
       "      <td>51.41</td>\n",
       "    </tr>\n",
       "    <tr>\n",
       "      <th>15</th>\n",
       "      <td>Ouganda</td>\n",
       "      <td>2013</td>\n",
       "      <td>52.64</td>\n",
       "    </tr>\n",
       "    <tr>\n",
       "      <th>16</th>\n",
       "      <td>République centrafricaine</td>\n",
       "      <td>2012</td>\n",
       "      <td>52.80</td>\n",
       "    </tr>\n",
       "    <tr>\n",
       "      <th>17</th>\n",
       "      <td>Sao Tomé-et-Principe</td>\n",
       "      <td>2012</td>\n",
       "      <td>53.04</td>\n",
       "    </tr>\n",
       "    <tr>\n",
       "      <th>18</th>\n",
       "      <td>Sao Tomé-et-Principe</td>\n",
       "      <td>2013</td>\n",
       "      <td>53.10</td>\n",
       "    </tr>\n",
       "    <tr>\n",
       "      <th>19</th>\n",
       "      <td>Ouganda</td>\n",
       "      <td>2012</td>\n",
       "      <td>53.69</td>\n",
       "    </tr>\n",
       "  </tbody>\n",
       "</table>\n",
       "</div>"
      ],
      "text/plain": [
       "                         pays  annee  dispo_prot_g_per_jour\n",
       "0                     Libéria   2013                  37.66\n",
       "1                     Libéria   2012                  38.07\n",
       "2               Guinée-Bissau   2012                  43.80\n",
       "3               Guinée-Bissau   2013                  44.05\n",
       "4                  Mozambique   2013                  45.68\n",
       "5   République centrafricaine   2013                  46.04\n",
       "6                  Madagascar   2013                  46.69\n",
       "7                  Mozambique   2012                  46.92\n",
       "8                       Haïti   2012                  47.21\n",
       "9                  Madagascar   2012                  47.25\n",
       "10                      Haïti   2013                  47.70\n",
       "11                   Zimbabwe   2013                  48.32\n",
       "12                      Congo   2012                  49.49\n",
       "13                   Zimbabwe   2012                  50.72\n",
       "14                      Congo   2013                  51.41\n",
       "15                    Ouganda   2013                  52.64\n",
       "16  République centrafricaine   2012                  52.80\n",
       "17       Sao Tomé-et-Principe   2012                  53.04\n",
       "18       Sao Tomé-et-Principe   2013                  53.10\n",
       "19                    Ouganda   2012                  53.69"
      ]
     },
     "execution_count": 62,
     "metadata": {},
     "output_type": "execute_result"
    }
   ],
   "source": [
    "pd.read_sql_query(con=bdd_engine,sql=f\"\"\"\n",
    "SELECT pays, annee, sum(dispo_prot) AS dispo_prot_g_per_jour\n",
    "FROM dispo_alim\n",
    "WHERE annee = 2012\n",
    "GROUP BY pays\n",
    "UNION\n",
    "SELECT pays, annee, sum(dispo_prot) AS dispo_prot_g_per_jou \n",
    "FROM dispo_alim\n",
    "WHERE annee = 2013\n",
    "GROUP BY pays\n",
    "\n",
    "ORDER BY dispo_prot_g_per_jou ASC\n",
    "LIMIT 20\n",
    "\"\"\")"
   ]
  },
  {
   "cell_type": "markdown",
   "metadata": {},
   "source": [
    "<div class=\"alert alert-info\" role=\"alert\">\n",
    "La quantité totale (en kg) de produits exportés par pays et par année. La table renvoyée contiendra donc une ligne par couple (pays, année).\n",
    "</div>"
   ]
  },
  {
   "cell_type": "code",
   "execution_count": 63,
   "metadata": {
    "scrolled": true
   },
   "outputs": [
    {
     "data": {
      "text/html": [
       "<div>\n",
       "<style scoped>\n",
       "    .dataframe tbody tr th:only-of-type {\n",
       "        vertical-align: middle;\n",
       "    }\n",
       "\n",
       "    .dataframe tbody tr th {\n",
       "        vertical-align: top;\n",
       "    }\n",
       "\n",
       "    .dataframe thead th {\n",
       "        text-align: right;\n",
       "    }\n",
       "</style>\n",
       "<table border=\"1\" class=\"dataframe\">\n",
       "  <thead>\n",
       "    <tr style=\"text-align: right;\">\n",
       "      <th></th>\n",
       "      <th>pays</th>\n",
       "      <th>annee</th>\n",
       "      <th>exportation_kg</th>\n",
       "    </tr>\n",
       "  </thead>\n",
       "  <tbody>\n",
       "    <tr>\n",
       "      <th>0</th>\n",
       "      <td>États-Unis d'Amérique</td>\n",
       "      <td>2012</td>\n",
       "      <td>1.663930e+11</td>\n",
       "    </tr>\n",
       "    <tr>\n",
       "      <th>1</th>\n",
       "      <td>États-Unis d'Amérique</td>\n",
       "      <td>2013</td>\n",
       "      <td>1.635240e+11</td>\n",
       "    </tr>\n",
       "    <tr>\n",
       "      <th>2</th>\n",
       "      <td>Brésil</td>\n",
       "      <td>2013</td>\n",
       "      <td>1.265520e+11</td>\n",
       "    </tr>\n",
       "    <tr>\n",
       "      <th>3</th>\n",
       "      <td>Brésil</td>\n",
       "      <td>2012</td>\n",
       "      <td>1.064920e+11</td>\n",
       "    </tr>\n",
       "    <tr>\n",
       "      <th>4</th>\n",
       "      <td>France</td>\n",
       "      <td>2013</td>\n",
       "      <td>6.594500e+10</td>\n",
       "    </tr>\n",
       "    <tr>\n",
       "      <th>5</th>\n",
       "      <td>France</td>\n",
       "      <td>2012</td>\n",
       "      <td>6.311900e+10</td>\n",
       "    </tr>\n",
       "    <tr>\n",
       "      <th>6</th>\n",
       "      <td>Argentine</td>\n",
       "      <td>2012</td>\n",
       "      <td>5.940500e+10</td>\n",
       "    </tr>\n",
       "    <tr>\n",
       "      <th>7</th>\n",
       "      <td>Allemagne</td>\n",
       "      <td>2013</td>\n",
       "      <td>5.743100e+10</td>\n",
       "    </tr>\n",
       "    <tr>\n",
       "      <th>8</th>\n",
       "      <td>Allemagne</td>\n",
       "      <td>2012</td>\n",
       "      <td>5.481800e+10</td>\n",
       "    </tr>\n",
       "    <tr>\n",
       "      <th>9</th>\n",
       "      <td>Canada</td>\n",
       "      <td>2013</td>\n",
       "      <td>5.477100e+10</td>\n",
       "    </tr>\n",
       "    <tr>\n",
       "      <th>10</th>\n",
       "      <td>Canada</td>\n",
       "      <td>2012</td>\n",
       "      <td>5.234400e+10</td>\n",
       "    </tr>\n",
       "    <tr>\n",
       "      <th>11</th>\n",
       "      <td>Argentine</td>\n",
       "      <td>2013</td>\n",
       "      <td>5.233300e+10</td>\n",
       "    </tr>\n",
       "    <tr>\n",
       "      <th>12</th>\n",
       "      <td>Pays-Bas</td>\n",
       "      <td>2013</td>\n",
       "      <td>5.217900e+10</td>\n",
       "    </tr>\n",
       "    <tr>\n",
       "      <th>13</th>\n",
       "      <td>Pays-Bas</td>\n",
       "      <td>2012</td>\n",
       "      <td>5.201000e+10</td>\n",
       "    </tr>\n",
       "    <tr>\n",
       "      <th>14</th>\n",
       "      <td>Thaïlande</td>\n",
       "      <td>2013</td>\n",
       "      <td>5.043000e+10</td>\n",
       "    </tr>\n",
       "    <tr>\n",
       "      <th>15</th>\n",
       "      <td>Australie</td>\n",
       "      <td>2012</td>\n",
       "      <td>4.841200e+10</td>\n",
       "    </tr>\n",
       "    <tr>\n",
       "      <th>16</th>\n",
       "      <td>Thaïlande</td>\n",
       "      <td>2012</td>\n",
       "      <td>4.583500e+10</td>\n",
       "    </tr>\n",
       "    <tr>\n",
       "      <th>17</th>\n",
       "      <td>Australie</td>\n",
       "      <td>2013</td>\n",
       "      <td>4.318400e+10</td>\n",
       "    </tr>\n",
       "    <tr>\n",
       "      <th>18</th>\n",
       "      <td>Inde</td>\n",
       "      <td>2013</td>\n",
       "      <td>4.080700e+10</td>\n",
       "    </tr>\n",
       "    <tr>\n",
       "      <th>19</th>\n",
       "      <td>Ukraine</td>\n",
       "      <td>2013</td>\n",
       "      <td>3.834600e+10</td>\n",
       "    </tr>\n",
       "    <tr>\n",
       "      <th>20</th>\n",
       "      <td>Ukraine</td>\n",
       "      <td>2012</td>\n",
       "      <td>3.814300e+10</td>\n",
       "    </tr>\n",
       "    <tr>\n",
       "      <th>21</th>\n",
       "      <td>Chine, continentale</td>\n",
       "      <td>2013</td>\n",
       "      <td>3.606000e+10</td>\n",
       "    </tr>\n",
       "    <tr>\n",
       "      <th>22</th>\n",
       "      <td>Inde</td>\n",
       "      <td>2012</td>\n",
       "      <td>3.540600e+10</td>\n",
       "    </tr>\n",
       "    <tr>\n",
       "      <th>23</th>\n",
       "      <td>Chine, continentale</td>\n",
       "      <td>2012</td>\n",
       "      <td>3.526500e+10</td>\n",
       "    </tr>\n",
       "    <tr>\n",
       "      <th>24</th>\n",
       "      <td>Indonésie</td>\n",
       "      <td>2013</td>\n",
       "      <td>3.191200e+10</td>\n",
       "    </tr>\n",
       "    <tr>\n",
       "      <th>25</th>\n",
       "      <td>Belgique</td>\n",
       "      <td>2012</td>\n",
       "      <td>3.108700e+10</td>\n",
       "    </tr>\n",
       "    <tr>\n",
       "      <th>26</th>\n",
       "      <td>Belgique</td>\n",
       "      <td>2013</td>\n",
       "      <td>3.034500e+10</td>\n",
       "    </tr>\n",
       "    <tr>\n",
       "      <th>27</th>\n",
       "      <td>Fédération de Russie</td>\n",
       "      <td>2012</td>\n",
       "      <td>3.019900e+10</td>\n",
       "    </tr>\n",
       "    <tr>\n",
       "      <th>28</th>\n",
       "      <td>Indonésie</td>\n",
       "      <td>2012</td>\n",
       "      <td>2.936500e+10</td>\n",
       "    </tr>\n",
       "    <tr>\n",
       "      <th>29</th>\n",
       "      <td>Espagne</td>\n",
       "      <td>2012</td>\n",
       "      <td>2.934700e+10</td>\n",
       "    </tr>\n",
       "    <tr>\n",
       "      <th>...</th>\n",
       "      <td>...</td>\n",
       "      <td>...</td>\n",
       "      <td>...</td>\n",
       "    </tr>\n",
       "    <tr>\n",
       "      <th>318</th>\n",
       "      <td>Congo</td>\n",
       "      <td>2012</td>\n",
       "      <td>1.300000e+07</td>\n",
       "    </tr>\n",
       "    <tr>\n",
       "      <th>319</th>\n",
       "      <td>Polynésie française</td>\n",
       "      <td>2012</td>\n",
       "      <td>1.200000e+07</td>\n",
       "    </tr>\n",
       "    <tr>\n",
       "      <th>320</th>\n",
       "      <td>Brunéi Darussalam</td>\n",
       "      <td>2013</td>\n",
       "      <td>1.100000e+07</td>\n",
       "    </tr>\n",
       "    <tr>\n",
       "      <th>321</th>\n",
       "      <td>Polynésie française</td>\n",
       "      <td>2013</td>\n",
       "      <td>1.000000e+07</td>\n",
       "    </tr>\n",
       "    <tr>\n",
       "      <th>322</th>\n",
       "      <td>Bahamas</td>\n",
       "      <td>2012</td>\n",
       "      <td>7.000000e+06</td>\n",
       "    </tr>\n",
       "    <tr>\n",
       "      <th>323</th>\n",
       "      <td>Bahamas</td>\n",
       "      <td>2013</td>\n",
       "      <td>7.000000e+06</td>\n",
       "    </tr>\n",
       "    <tr>\n",
       "      <th>324</th>\n",
       "      <td>Congo</td>\n",
       "      <td>2013</td>\n",
       "      <td>6.000000e+06</td>\n",
       "    </tr>\n",
       "    <tr>\n",
       "      <th>325</th>\n",
       "      <td>Dominique</td>\n",
       "      <td>2013</td>\n",
       "      <td>5.000000e+06</td>\n",
       "    </tr>\n",
       "    <tr>\n",
       "      <th>326</th>\n",
       "      <td>Nouvelle-Calédonie</td>\n",
       "      <td>2012</td>\n",
       "      <td>5.000000e+06</td>\n",
       "    </tr>\n",
       "    <tr>\n",
       "      <th>327</th>\n",
       "      <td>Nouvelle-Calédonie</td>\n",
       "      <td>2013</td>\n",
       "      <td>5.000000e+06</td>\n",
       "    </tr>\n",
       "    <tr>\n",
       "      <th>328</th>\n",
       "      <td>Sao Tomé-et-Principe</td>\n",
       "      <td>2013</td>\n",
       "      <td>5.000000e+06</td>\n",
       "    </tr>\n",
       "    <tr>\n",
       "      <th>329</th>\n",
       "      <td>Grenade</td>\n",
       "      <td>2012</td>\n",
       "      <td>4.000000e+06</td>\n",
       "    </tr>\n",
       "    <tr>\n",
       "      <th>330</th>\n",
       "      <td>Sao Tomé-et-Principe</td>\n",
       "      <td>2012</td>\n",
       "      <td>4.000000e+06</td>\n",
       "    </tr>\n",
       "    <tr>\n",
       "      <th>331</th>\n",
       "      <td>Grenade</td>\n",
       "      <td>2013</td>\n",
       "      <td>3.000000e+06</td>\n",
       "    </tr>\n",
       "    <tr>\n",
       "      <th>332</th>\n",
       "      <td>Brunéi Darussalam</td>\n",
       "      <td>2012</td>\n",
       "      <td>2.000000e+06</td>\n",
       "    </tr>\n",
       "    <tr>\n",
       "      <th>333</th>\n",
       "      <td>Chine - RAS de Macao</td>\n",
       "      <td>2012</td>\n",
       "      <td>2.000000e+06</td>\n",
       "    </tr>\n",
       "    <tr>\n",
       "      <th>334</th>\n",
       "      <td>Chine - RAS de Macao</td>\n",
       "      <td>2013</td>\n",
       "      <td>2.000000e+06</td>\n",
       "    </tr>\n",
       "    <tr>\n",
       "      <th>335</th>\n",
       "      <td>Dominique</td>\n",
       "      <td>2012</td>\n",
       "      <td>2.000000e+06</td>\n",
       "    </tr>\n",
       "    <tr>\n",
       "      <th>336</th>\n",
       "      <td>Antigua-et-Barbuda</td>\n",
       "      <td>2012</td>\n",
       "      <td>1.000000e+06</td>\n",
       "    </tr>\n",
       "    <tr>\n",
       "      <th>337</th>\n",
       "      <td>Bermudes</td>\n",
       "      <td>2012</td>\n",
       "      <td>1.000000e+06</td>\n",
       "    </tr>\n",
       "    <tr>\n",
       "      <th>338</th>\n",
       "      <td>Gabon</td>\n",
       "      <td>2013</td>\n",
       "      <td>1.000000e+06</td>\n",
       "    </tr>\n",
       "    <tr>\n",
       "      <th>339</th>\n",
       "      <td>République centrafricaine</td>\n",
       "      <td>2012</td>\n",
       "      <td>1.000000e+06</td>\n",
       "    </tr>\n",
       "    <tr>\n",
       "      <th>340</th>\n",
       "      <td>Saint-Kitts-et-Nevis</td>\n",
       "      <td>2012</td>\n",
       "      <td>1.000000e+06</td>\n",
       "    </tr>\n",
       "    <tr>\n",
       "      <th>341</th>\n",
       "      <td>Saint-Kitts-et-Nevis</td>\n",
       "      <td>2013</td>\n",
       "      <td>1.000000e+06</td>\n",
       "    </tr>\n",
       "    <tr>\n",
       "      <th>342</th>\n",
       "      <td>Antigua-et-Barbuda</td>\n",
       "      <td>2013</td>\n",
       "      <td>0.000000e+00</td>\n",
       "    </tr>\n",
       "    <tr>\n",
       "      <th>343</th>\n",
       "      <td>Gabon</td>\n",
       "      <td>2012</td>\n",
       "      <td>0.000000e+00</td>\n",
       "    </tr>\n",
       "    <tr>\n",
       "      <th>344</th>\n",
       "      <td>Lesotho</td>\n",
       "      <td>2012</td>\n",
       "      <td>0.000000e+00</td>\n",
       "    </tr>\n",
       "    <tr>\n",
       "      <th>345</th>\n",
       "      <td>République centrafricaine</td>\n",
       "      <td>2013</td>\n",
       "      <td>0.000000e+00</td>\n",
       "    </tr>\n",
       "    <tr>\n",
       "      <th>346</th>\n",
       "      <td>Tchad</td>\n",
       "      <td>2012</td>\n",
       "      <td>0.000000e+00</td>\n",
       "    </tr>\n",
       "    <tr>\n",
       "      <th>347</th>\n",
       "      <td>Tchad</td>\n",
       "      <td>2013</td>\n",
       "      <td>0.000000e+00</td>\n",
       "    </tr>\n",
       "  </tbody>\n",
       "</table>\n",
       "<p>348 rows × 3 columns</p>\n",
       "</div>"
      ],
      "text/plain": [
       "                          pays  annee  exportation_kg\n",
       "0        États-Unis d'Amérique   2012    1.663930e+11\n",
       "1        États-Unis d'Amérique   2013    1.635240e+11\n",
       "2                       Brésil   2013    1.265520e+11\n",
       "3                       Brésil   2012    1.064920e+11\n",
       "4                       France   2013    6.594500e+10\n",
       "5                       France   2012    6.311900e+10\n",
       "6                    Argentine   2012    5.940500e+10\n",
       "7                    Allemagne   2013    5.743100e+10\n",
       "8                    Allemagne   2012    5.481800e+10\n",
       "9                       Canada   2013    5.477100e+10\n",
       "10                      Canada   2012    5.234400e+10\n",
       "11                   Argentine   2013    5.233300e+10\n",
       "12                    Pays-Bas   2013    5.217900e+10\n",
       "13                    Pays-Bas   2012    5.201000e+10\n",
       "14                   Thaïlande   2013    5.043000e+10\n",
       "15                   Australie   2012    4.841200e+10\n",
       "16                   Thaïlande   2012    4.583500e+10\n",
       "17                   Australie   2013    4.318400e+10\n",
       "18                        Inde   2013    4.080700e+10\n",
       "19                     Ukraine   2013    3.834600e+10\n",
       "20                     Ukraine   2012    3.814300e+10\n",
       "21         Chine, continentale   2013    3.606000e+10\n",
       "22                        Inde   2012    3.540600e+10\n",
       "23         Chine, continentale   2012    3.526500e+10\n",
       "24                   Indonésie   2013    3.191200e+10\n",
       "25                    Belgique   2012    3.108700e+10\n",
       "26                    Belgique   2013    3.034500e+10\n",
       "27        Fédération de Russie   2012    3.019900e+10\n",
       "28                   Indonésie   2012    2.936500e+10\n",
       "29                     Espagne   2012    2.934700e+10\n",
       "..                         ...    ...             ...\n",
       "318                      Congo   2012    1.300000e+07\n",
       "319        Polynésie française   2012    1.200000e+07\n",
       "320          Brunéi Darussalam   2013    1.100000e+07\n",
       "321        Polynésie française   2013    1.000000e+07\n",
       "322                    Bahamas   2012    7.000000e+06\n",
       "323                    Bahamas   2013    7.000000e+06\n",
       "324                      Congo   2013    6.000000e+06\n",
       "325                  Dominique   2013    5.000000e+06\n",
       "326         Nouvelle-Calédonie   2012    5.000000e+06\n",
       "327         Nouvelle-Calédonie   2013    5.000000e+06\n",
       "328       Sao Tomé-et-Principe   2013    5.000000e+06\n",
       "329                    Grenade   2012    4.000000e+06\n",
       "330       Sao Tomé-et-Principe   2012    4.000000e+06\n",
       "331                    Grenade   2013    3.000000e+06\n",
       "332          Brunéi Darussalam   2012    2.000000e+06\n",
       "333       Chine - RAS de Macao   2012    2.000000e+06\n",
       "334       Chine - RAS de Macao   2013    2.000000e+06\n",
       "335                  Dominique   2012    2.000000e+06\n",
       "336         Antigua-et-Barbuda   2012    1.000000e+06\n",
       "337                   Bermudes   2012    1.000000e+06\n",
       "338                      Gabon   2013    1.000000e+06\n",
       "339  République centrafricaine   2012    1.000000e+06\n",
       "340       Saint-Kitts-et-Nevis   2012    1.000000e+06\n",
       "341       Saint-Kitts-et-Nevis   2013    1.000000e+06\n",
       "342         Antigua-et-Barbuda   2013    0.000000e+00\n",
       "343                      Gabon   2012    0.000000e+00\n",
       "344                    Lesotho   2012    0.000000e+00\n",
       "345  République centrafricaine   2013    0.000000e+00\n",
       "346                      Tchad   2012    0.000000e+00\n",
       "347                      Tchad   2013    0.000000e+00\n",
       "\n",
       "[348 rows x 3 columns]"
      ]
     },
     "execution_count": 63,
     "metadata": {},
     "output_type": "execute_result"
    }
   ],
   "source": [
    "pd.read_sql_query(con=bdd_engine, sql=f\"\"\"\n",
    "SELECT pays, annee, SUM(exportation)*1e6 AS exportation_kg\n",
    "FROM stock\n",
    "GROUP BY pays, annee\n",
    "ORDER BY exportation_kg DESC\n",
    "\"\"\")"
   ]
  },
  {
   "cell_type": "markdown",
   "metadata": {},
   "source": [
    "<div class=\"alert alert-info\" role=\"alert\">\n",
    "Les 10 pays pour lesquels la proportion de personnes sous-alimentées est la plus forte.\n",
    "</div>"
   ]
  },
  {
   "cell_type": "code",
   "execution_count": 67,
   "metadata": {},
   "outputs": [
    {
     "data": {
      "text/html": [
       "<div>\n",
       "<style scoped>\n",
       "    .dataframe tbody tr th:only-of-type {\n",
       "        vertical-align: middle;\n",
       "    }\n",
       "\n",
       "    .dataframe tbody tr th {\n",
       "        vertical-align: top;\n",
       "    }\n",
       "\n",
       "    .dataframe thead th {\n",
       "        text-align: right;\n",
       "    }\n",
       "</style>\n",
       "<table border=\"1\" class=\"dataframe\">\n",
       "  <thead>\n",
       "    <tr style=\"text-align: right;\">\n",
       "      <th></th>\n",
       "      <th>pays</th>\n",
       "      <th>prop_p_ss_alim</th>\n",
       "    </tr>\n",
       "  </thead>\n",
       "  <tbody>\n",
       "    <tr>\n",
       "      <th>0</th>\n",
       "      <td>Haïti</td>\n",
       "      <td>50.265013</td>\n",
       "    </tr>\n",
       "    <tr>\n",
       "      <th>1</th>\n",
       "      <td>Zambie</td>\n",
       "      <td>48.939968</td>\n",
       "    </tr>\n",
       "    <tr>\n",
       "      <th>2</th>\n",
       "      <td>Zimbabwe</td>\n",
       "      <td>46.263078</td>\n",
       "    </tr>\n",
       "    <tr>\n",
       "      <th>3</th>\n",
       "      <td>République populaire démocratique de Corée</td>\n",
       "      <td>41.886800</td>\n",
       "    </tr>\n",
       "    <tr>\n",
       "      <th>4</th>\n",
       "      <td>République centrafricaine</td>\n",
       "      <td>41.531497</td>\n",
       "    </tr>\n",
       "    <tr>\n",
       "      <th>5</th>\n",
       "      <td>Congo</td>\n",
       "      <td>40.985485</td>\n",
       "    </tr>\n",
       "    <tr>\n",
       "      <th>6</th>\n",
       "      <td>Angola</td>\n",
       "      <td>39.761423</td>\n",
       "    </tr>\n",
       "    <tr>\n",
       "      <th>7</th>\n",
       "      <td>Tchad</td>\n",
       "      <td>38.383519</td>\n",
       "    </tr>\n",
       "    <tr>\n",
       "      <th>8</th>\n",
       "      <td>Libéria</td>\n",
       "      <td>37.723726</td>\n",
       "    </tr>\n",
       "    <tr>\n",
       "      <th>9</th>\n",
       "      <td>Madagascar</td>\n",
       "      <td>34.480799</td>\n",
       "    </tr>\n",
       "  </tbody>\n",
       "</table>\n",
       "</div>"
      ],
      "text/plain": [
       "                                         pays  prop_p_ss_alim\n",
       "0                                       Haïti       50.265013\n",
       "1                                      Zambie       48.939968\n",
       "2                                    Zimbabwe       46.263078\n",
       "3  République populaire démocratique de Corée       41.886800\n",
       "4                   République centrafricaine       41.531497\n",
       "5                                       Congo       40.985485\n",
       "6                                      Angola       39.761423\n",
       "7                                       Tchad       38.383519\n",
       "8                                     Libéria       37.723726\n",
       "9                                  Madagascar       34.480799"
      ]
     },
     "execution_count": 67,
     "metadata": {},
     "output_type": "execute_result"
    }
   ],
   "source": [
    "pd.read_sql_query(con=bdd_engine, sql=f\"\"\"\n",
    "SELECT\n",
    "    AVG(nb_personnes / population * 100) AS prop_p_ss_alim\n",
    "FROM population\n",
    "    NATURAL JOIN sous_nutrition\n",
    "ORDER BY prop_p_ss_alim DESC\n",
    "LIMIT 10\n",
    "\"\"\")"
   ]
  },
  {
   "cell_type": "code",
   "execution_count": 64,
   "metadata": {
    "scrolled": true
   },
   "outputs": [
    {
     "data": {
      "text/html": [
       "<div>\n",
       "<style scoped>\n",
       "    .dataframe tbody tr th:only-of-type {\n",
       "        vertical-align: middle;\n",
       "    }\n",
       "\n",
       "    .dataframe tbody tr th {\n",
       "        vertical-align: top;\n",
       "    }\n",
       "\n",
       "    .dataframe thead th {\n",
       "        text-align: right;\n",
       "    }\n",
       "</style>\n",
       "<table border=\"1\" class=\"dataframe\">\n",
       "  <thead>\n",
       "    <tr style=\"text-align: right;\">\n",
       "      <th></th>\n",
       "      <th>pays</th>\n",
       "      <th>prop_p_ss_alim</th>\n",
       "    </tr>\n",
       "  </thead>\n",
       "  <tbody>\n",
       "    <tr>\n",
       "      <th>0</th>\n",
       "      <td>Haïti</td>\n",
       "      <td>50.265013</td>\n",
       "    </tr>\n",
       "    <tr>\n",
       "      <th>1</th>\n",
       "      <td>Zambie</td>\n",
       "      <td>48.939968</td>\n",
       "    </tr>\n",
       "    <tr>\n",
       "      <th>2</th>\n",
       "      <td>Zimbabwe</td>\n",
       "      <td>46.263078</td>\n",
       "    </tr>\n",
       "    <tr>\n",
       "      <th>3</th>\n",
       "      <td>République populaire démocratique de Corée</td>\n",
       "      <td>41.886800</td>\n",
       "    </tr>\n",
       "    <tr>\n",
       "      <th>4</th>\n",
       "      <td>République centrafricaine</td>\n",
       "      <td>41.531497</td>\n",
       "    </tr>\n",
       "    <tr>\n",
       "      <th>5</th>\n",
       "      <td>Congo</td>\n",
       "      <td>40.985485</td>\n",
       "    </tr>\n",
       "    <tr>\n",
       "      <th>6</th>\n",
       "      <td>Angola</td>\n",
       "      <td>39.761423</td>\n",
       "    </tr>\n",
       "    <tr>\n",
       "      <th>7</th>\n",
       "      <td>Tchad</td>\n",
       "      <td>38.383519</td>\n",
       "    </tr>\n",
       "    <tr>\n",
       "      <th>8</th>\n",
       "      <td>Libéria</td>\n",
       "      <td>37.723726</td>\n",
       "    </tr>\n",
       "    <tr>\n",
       "      <th>9</th>\n",
       "      <td>Madagascar</td>\n",
       "      <td>34.480799</td>\n",
       "    </tr>\n",
       "  </tbody>\n",
       "</table>\n",
       "</div>"
      ],
      "text/plain": [
       "                                         pays  prop_p_ss_alim\n",
       "0                                       Haïti       50.265013\n",
       "1                                      Zambie       48.939968\n",
       "2                                    Zimbabwe       46.263078\n",
       "3  République populaire démocratique de Corée       41.886800\n",
       "4                   République centrafricaine       41.531497\n",
       "5                                       Congo       40.985485\n",
       "6                                      Angola       39.761423\n",
       "7                                       Tchad       38.383519\n",
       "8                                     Libéria       37.723726\n",
       "9                                  Madagascar       34.480799"
      ]
     },
     "execution_count": 64,
     "metadata": {},
     "output_type": "execute_result"
    }
   ],
   "source": [
    "pd.read_sql_query(con=bdd_engine, sql=f\"\"\"\n",
    "SELECT\n",
    "    pays,\n",
    "    AVG(nb_personnes / population * 100) AS prop_p_ss_alim\n",
    "FROM population\n",
    "    NATURAL JOIN sous_nutrition\n",
    "GROUP BY pays\n",
    "ORDER BY prop_p_ss_alim DESC\n",
    "LIMIT 10\n",
    "\"\"\")"
   ]
  },
  {
   "cell_type": "markdown",
   "metadata": {},
   "source": [
    "<div class=\"alert alert-info\" role=\"alert\">\n",
    "Les 10 produits pour lesquels le ratio Autres utilisations/Disponibilité intérieure est le plus élevé.\n",
    "</div>"
   ]
  },
  {
   "cell_type": "markdown",
   "metadata": {},
   "source": [
    "NOTE : ici je fais la moyenne des ratio des pays.\n",
    "Il vaudrait mieux faire le ratio de la quantitié mondiale autre_util et dispo_int pour chaque produit"
   ]
  },
  {
   "cell_type": "code",
   "execution_count": 65,
   "metadata": {},
   "outputs": [
    {
     "data": {
      "text/html": [
       "<div>\n",
       "<style scoped>\n",
       "    .dataframe tbody tr th:only-of-type {\n",
       "        vertical-align: middle;\n",
       "    }\n",
       "\n",
       "    .dataframe tbody tr th {\n",
       "        vertical-align: top;\n",
       "    }\n",
       "\n",
       "    .dataframe thead th {\n",
       "        text-align: right;\n",
       "    }\n",
       "</style>\n",
       "<table border=\"1\" class=\"dataframe\">\n",
       "  <thead>\n",
       "    <tr style=\"text-align: right;\">\n",
       "      <th></th>\n",
       "      <th>produit</th>\n",
       "      <th>ratio_autres_utilisations_dispo_int</th>\n",
       "    </tr>\n",
       "  </thead>\n",
       "  <tbody>\n",
       "    <tr>\n",
       "      <th>0</th>\n",
       "      <td>Alcool, non Comestible</td>\n",
       "      <td>0.982533</td>\n",
       "    </tr>\n",
       "    <tr>\n",
       "      <th>1</th>\n",
       "      <td>Plantes Aquatiques</td>\n",
       "      <td>0.920989</td>\n",
       "    </tr>\n",
       "    <tr>\n",
       "      <th>2</th>\n",
       "      <td>Huile de Palmistes</td>\n",
       "      <td>0.783691</td>\n",
       "    </tr>\n",
       "    <tr>\n",
       "      <th>3</th>\n",
       "      <td>Piments</td>\n",
       "      <td>0.750921</td>\n",
       "    </tr>\n",
       "    <tr>\n",
       "      <th>4</th>\n",
       "      <td>Huile de Palme</td>\n",
       "      <td>0.652546</td>\n",
       "    </tr>\n",
       "    <tr>\n",
       "      <th>5</th>\n",
       "      <td>Huile de Colza&amp;Moutarde</td>\n",
       "      <td>0.619518</td>\n",
       "    </tr>\n",
       "    <tr>\n",
       "      <th>6</th>\n",
       "      <td>Palmistes</td>\n",
       "      <td>0.590516</td>\n",
       "    </tr>\n",
       "    <tr>\n",
       "      <th>7</th>\n",
       "      <td>Huile de Coco</td>\n",
       "      <td>0.550224</td>\n",
       "    </tr>\n",
       "    <tr>\n",
       "      <th>8</th>\n",
       "      <td>Huil Plantes Oleif Autr</td>\n",
       "      <td>0.516265</td>\n",
       "    </tr>\n",
       "    <tr>\n",
       "      <th>9</th>\n",
       "      <td>Huile de Son de Riz</td>\n",
       "      <td>0.498934</td>\n",
       "    </tr>\n",
       "  </tbody>\n",
       "</table>\n",
       "</div>"
      ],
      "text/plain": [
       "                   produit  ratio_autres_utilisations_dispo_int\n",
       "0   Alcool, non Comestible                             0.982533\n",
       "1       Plantes Aquatiques                             0.920989\n",
       "2       Huile de Palmistes                             0.783691\n",
       "3                  Piments                             0.750921\n",
       "4           Huile de Palme                             0.652546\n",
       "5  Huile de Colza&Moutarde                             0.619518\n",
       "6                Palmistes                             0.590516\n",
       "7            Huile de Coco                             0.550224\n",
       "8  Huil Plantes Oleif Autr                             0.516265\n",
       "9      Huile de Son de Riz                             0.498934"
      ]
     },
     "execution_count": 65,
     "metadata": {},
     "output_type": "execute_result"
    }
   ],
   "source": [
    "pd.read_sql_query(con=bdd_engine, sql=f\"\"\"\n",
    "SELECT \n",
    "    produit,\n",
    "    AVG(autres_utilisations / dispo_int) AS ratio_autres_utilisations_dispo_int\n",
    "FROM equilibre_prod\n",
    "GROUP BY produit\n",
    "ORDER BY ratio_autres_utilisations_dispo_int DESC\n",
    "LIMIT 10\n",
    "\"\"\")"
   ]
  },
  {
   "cell_type": "markdown",
   "metadata": {},
   "source": [
    "<hr style=\"height:1px\">\n",
    "\n",
    "<div class=\"panel panel-info\">\n",
    "  <div class=\"panel-heading\" >\n",
    "    **Question 20**\n",
    "    <a id=\"question-20\" href=\"#sommaire\" class=\"btn-sm btn-default\" >retour au sommaire</a>\n",
    "  </div>\n",
    "  <div class=\"panel-body\">\n",
    "    pour quelques uns des produits identifiés dans cette dernière requête SQL, supposez quelles sont ces \"autres utilisations\" possibles (recherchez sur internet !)\n",
    "  </div>\n",
    "</div>"
   ]
  },
  {
   "cell_type": "markdown",
   "metadata": {},
   "source": [
    "##### Plantes aquatiques \n",
    "Probablement l'[Aquariophilie](https://fr.wikipedia.org/wiki/Aquariophilie). Quand on tappe sur Google, on ne tombe d'ailleurs que sur des sites d'aquarium / bassins\n",
    "\n",
    "##### Huile de Palme\n",
    "\n",
    "- En Europe, elle est en majorité utilisée dans les **bio-carburants** ([source - 1:12](https://www.lemonde.fr/planete/video/2017/04/05/quel-est-le-probleme-avec-l-huile-de-palme_5106199_3244.html))\n",
    "- cosmétique, savons ([source](https://fr.wikipedia.org/wiki/Huile_de_palme#Ol%C3%A9ochimie))\n",
    "\n",
    "-----\n",
    "\n",
    "Sauf l'alcool et les plantes aquatiques, se sont des **huiles végétales**. Elles sont utilisé dans la fabriquation de bio-carburant et dans le domaine de cosmétique.\n"
   ]
  }
 ],
 "metadata": {
  "kernelspec": {
   "display_name": "Python 3",
   "language": "python",
   "name": "python3"
  },
  "language_info": {
   "codemirror_mode": {
    "name": "ipython",
    "version": 3
   },
   "file_extension": ".py",
   "mimetype": "text/x-python",
   "name": "python",
   "nbconvert_exporter": "python",
   "pygments_lexer": "ipython3",
   "version": "3.6.5"
  }
 },
 "nbformat": 4,
 "nbformat_minor": 2
}
